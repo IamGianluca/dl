{
 "cells": [
  {
   "cell_type": "markdown",
   "id": "2137e3b6",
   "metadata": {},
   "source": [
    "# Setup"
   ]
  },
  {
   "cell_type": "code",
   "execution_count": 1,
   "id": "a759c30f",
   "metadata": {},
   "outputs": [],
   "source": [
    "import os\n",
    "import math\n",
    "import sys\n",
    "import torch\n",
    "import re\n",
    "import numpy as np\n",
    "from types import SimpleNamespace as ns\n",
    "from collections import namedtuple"
   ]
  },
  {
   "cell_type": "code",
   "execution_count": 2,
   "id": "659b2148",
   "metadata": {},
   "outputs": [],
   "source": [
    "dim3 = namedtuple(\"dim3\", [\"x\", \"y\", \"z\"], defaults=(1, 1))"
   ]
  },
  {
   "cell_type": "code",
   "execution_count": 3,
   "id": "fe5cde81",
   "metadata": {},
   "outputs": [
    {
     "data": {
      "text/plain": [
       "dim3(x=2, y=3, z=1)"
      ]
     },
     "execution_count": 3,
     "metadata": {},
     "output_type": "execute_result"
    }
   ],
   "source": [
    "d = dim3(2, 3)\n",
    "d"
   ]
  },
  {
   "cell_type": "code",
   "execution_count": 4,
   "id": "60e45ace",
   "metadata": {},
   "outputs": [
    {
     "data": {
      "text/plain": [
       "(2, 3)"
      ]
     },
     "execution_count": 4,
     "metadata": {},
     "output_type": "execute_result"
    }
   ],
   "source": [
    "d.x, d.y"
   ]
  },
  {
   "cell_type": "code",
   "execution_count": 5,
   "id": "8b054546",
   "metadata": {},
   "outputs": [],
   "source": [
    "np.set_printoptions(precision=2, linewidth=140)\n",
    "torch.set_printoptions(precision=2, linewidth=140, sci_mode=False)"
   ]
  },
  {
   "cell_type": "code",
   "execution_count": 6,
   "id": "02d1131d",
   "metadata": {},
   "outputs": [],
   "source": [
    "sys.path.insert(0, \"..\")\n",
    "from utils import show_img, load_cuda, cuda_begin, cdiv"
   ]
  },
  {
   "cell_type": "code",
   "execution_count": 7,
   "id": "e88bd046",
   "metadata": {},
   "outputs": [],
   "source": [
    "# os.environ[\"CUDA_LAUNCH_BLOCKING\"] = \"1\"\n",
    "torch.manual_seed(42);"
   ]
  },
  {
   "cell_type": "code",
   "execution_count": 8,
   "id": "96a4f90e",
   "metadata": {},
   "outputs": [],
   "source": [
    "m1 = torch.rand(5120, 256)\n",
    "m1s = m1[:4]\n",
    "m2 = torch.rand(256, 5120)\n",
    "m2s = m2[:, :4]"
   ]
  },
  {
   "cell_type": "markdown",
   "id": "7ad84614",
   "metadata": {},
   "source": [
    "# Reminder"
   ]
  },
  {
   "cell_type": "markdown",
   "id": "f9def094",
   "metadata": {},
   "source": [
    "### 2d Python kernel"
   ]
  },
  {
   "cell_type": "code",
   "execution_count": 9,
   "id": "f3b97aba",
   "metadata": {},
   "outputs": [],
   "source": [
    "def blk_kernel2d(f, blocks, threads, *args):\n",
    "    for i0 in range(blocks.y):\n",
    "        for i1 in range(blocks.x):\n",
    "            for j0 in range(threads.y):\n",
    "                for j1 in range(threads.x):\n",
    "                    f(dim3(i1, i0), dim3(j1, j0), threads, *args)"
   ]
  },
  {
   "cell_type": "code",
   "execution_count": 10,
   "id": "023113fd",
   "metadata": {},
   "outputs": [],
   "source": [
    "def matmul_bk(blockIdx, threadIdx, blockDim, m, n, out, h, w, k):\n",
    "    r = blockIdx.y * blockDim.y + threadIdx.y\n",
    "    c = blockIdx.x * blockDim.x + threadIdx.x\n",
    "\n",
    "    if r >= h or c >= w:\n",
    "        return\n",
    "    o = 0.0\n",
    "    for i in range(k):\n",
    "        o += m[r * k + i] * n[i * w + c]\n",
    "    out[r * w + c] = o"
   ]
  },
  {
   "cell_type": "code",
   "execution_count": 11,
   "id": "ae9569f0",
   "metadata": {},
   "outputs": [],
   "source": [
    "def matmul_2d(m, n):\n",
    "    h, k = m.shape\n",
    "    k2, w = n.shape\n",
    "    assert k == k2, \"Size mismatch!\"\n",
    "    output = torch.zeros(h, w, dtype=m.dtype)\n",
    "    tpb = dim3(16, 16)\n",
    "    blocks = dim3(cdiv(w, tpb.x), cdiv(h, tpb.y))\n",
    "    blk_kernel2d(\n",
    "        matmul_bk, blocks, tpb, m.flatten(), n.flatten(), output.flatten(), h, w, k\n",
    "    )\n",
    "    return output"
   ]
  },
  {
   "cell_type": "code",
   "execution_count": 12,
   "id": "c6cfe8d8",
   "metadata": {},
   "outputs": [
    {
     "data": {
      "text/plain": [
       "tensor(True)"
      ]
     },
     "execution_count": 12,
     "metadata": {},
     "output_type": "execute_result"
    }
   ],
   "source": [
    "torch.isclose(matmul_2d(m1s, m2s), m1s @ m2s).all()"
   ]
  },
  {
   "cell_type": "markdown",
   "id": "a8f64193",
   "metadata": {},
   "source": [
    "### CUDA"
   ]
  },
  {
   "cell_type": "code",
   "execution_count": 13,
   "id": "bc4b1a29",
   "metadata": {},
   "outputs": [],
   "source": [
    "cuda_src = (\n",
    "    cuda_begin\n",
    "    + r\"\"\"\n",
    "__global__ void matmul_k(float* m, float* n, float* out, int h, int w, int k) {\n",
    "    int r = blockIdx.y * blockDim.y + threadIdx.y;\n",
    "    int c = blockIdx.x * blockDim.x + threadIdx.x;\n",
    "\n",
    "    if (r >= h || c >= w) return;\n",
    "    float o = 0;\n",
    "    for (int i = 0; i<k; i++) o += m[r*k+i] * n[i*w+c];\n",
    "    out[r*w+c] = o;\n",
    "}\n",
    "\n",
    "torch::Tensor matmul(torch::Tensor m, torch::Tensor n) {\n",
    "    CHECK_INPUT(m); CHECK_INPUT(n);\n",
    "    int h = m.size(0);\n",
    "    int w = n.size(1);\n",
    "    int k = m.size(1);\n",
    "    TORCH_CHECK(k==n.size(0), \"Size mismatch!\");\n",
    "    auto output = torch::zeros({h, w}, m.options());\n",
    "    \n",
    "    dim3 tpb(16, 16);\n",
    "    dim3 blocks(cdiv(w, tpb.x), cdiv(h, tpb.y));\n",
    "    matmul_k<<<blocks, tpb>>>(\n",
    "       m.data_ptr<float>(), n.data_ptr<float>(), output.data_ptr<float>(), h, w, k\n",
    "    );\n",
    "    C10_CUDA_KERNEL_LAUNCH_CHECK();\n",
    "    return output;\n",
    "}\n",
    "\n",
    "\"\"\"\n",
    ")"
   ]
  },
  {
   "cell_type": "code",
   "execution_count": 14,
   "id": "4fdfa325",
   "metadata": {},
   "outputs": [],
   "source": [
    "fname = \"matmul\""
   ]
  },
  {
   "cell_type": "code",
   "execution_count": 15,
   "id": "a6f24304",
   "metadata": {},
   "outputs": [],
   "source": [
    "def get_sig(fname, src):\n",
    "    res = re.findall(rf\"^(.+\\s+{fname}\\(.*?\\))\\s*{{?\\s*$\", src, re.MULTILINE)\n",
    "    return res[0] + \";\" if res else None"
   ]
  },
  {
   "cell_type": "code",
   "execution_count": 16,
   "id": "231a2204",
   "metadata": {},
   "outputs": [
    {
     "data": {
      "text/plain": [
       "'torch::Tensor matmul(torch::Tensor m, torch::Tensor n);'"
      ]
     },
     "execution_count": 16,
     "metadata": {},
     "output_type": "execute_result"
    }
   ],
   "source": [
    "cpp_src = get_sig(fname, cuda_src)\n",
    "cpp_src"
   ]
  },
  {
   "cell_type": "code",
   "execution_count": 17,
   "id": "690eed67",
   "metadata": {},
   "outputs": [],
   "source": [
    "module = load_cuda(cuda_src, cpp_src, [fname])"
   ]
  },
  {
   "cell_type": "code",
   "execution_count": 18,
   "id": "8a36020f",
   "metadata": {},
   "outputs": [],
   "source": [
    "m1c, m2c = m1.contiguous().cuda(), m2.contiguous().cuda()"
   ]
  },
  {
   "cell_type": "code",
   "execution_count": 19,
   "id": "bc17fd7e",
   "metadata": {},
   "outputs": [
    {
     "data": {
      "text/plain": [
       "torch.Size([5120, 5120])"
      ]
     },
     "execution_count": 19,
     "metadata": {},
     "output_type": "execute_result"
    }
   ],
   "source": [
    "module.matmul(m1c, m2c).shape"
   ]
  },
  {
   "cell_type": "code",
   "execution_count": 20,
   "id": "140d3249",
   "metadata": {},
   "outputs": [
    {
     "data": {
      "text/plain": [
       "tensor(False, device='cuda:0')"
      ]
     },
     "execution_count": 20,
     "metadata": {},
     "output_type": "execute_result"
    }
   ],
   "source": [
    "torch.isclose(module.matmul(m1c, m2c), m1c @ m2c).all()"
   ]
  },
  {
   "cell_type": "code",
   "execution_count": 21,
   "id": "ab6a4d74",
   "metadata": {},
   "outputs": [
    {
     "name": "stdout",
     "output_type": "stream",
     "text": [
      "6.25 ms ± 61.9 µs per loop (mean ± std. dev. of 7 runs, 10 loops each)\n"
     ]
    }
   ],
   "source": [
    "%%timeit -n 10\n",
    "module.matmul(m1c, m2c)\n",
    "torch.cuda.synchronize()"
   ]
  },
  {
   "cell_type": "markdown",
   "id": "6e9466c3",
   "metadata": {},
   "source": [
    "When I removed the call to the kernel itself, it took around 50μs (0.05 ms) to run, so that's the overhead of the call on my machine."
   ]
  },
  {
   "cell_type": "code",
   "execution_count": null,
   "id": "63a621e6",
   "metadata": {},
   "outputs": [],
   "source": []
  }
 ],
 "metadata": {
  "kernelspec": {
   "display_name": "Python 3 (ipykernel)",
   "language": "python",
   "name": "python3"
  },
  "language_info": {
   "codemirror_mode": {
    "name": "ipython",
    "version": 3
   },
   "file_extension": ".py",
   "mimetype": "text/x-python",
   "name": "python",
   "nbconvert_exporter": "python",
   "pygments_lexer": "ipython3",
   "version": "3.10.12"
  }
 },
 "nbformat": 4,
 "nbformat_minor": 5
}
