{
 "cells": [
  {
   "cell_type": "code",
   "execution_count": 1,
   "id": "c436b1cf",
   "metadata": {},
   "outputs": [],
   "source": [
    "%reload_ext autoreload\n",
    "%autoreload 2"
   ]
  },
  {
   "cell_type": "code",
   "execution_count": 2,
   "id": "6122df7f",
   "metadata": {},
   "outputs": [],
   "source": [
    "import os"
   ]
  },
  {
   "cell_type": "code",
   "execution_count": 3,
   "id": "bdf4ccfb",
   "metadata": {},
   "outputs": [],
   "source": [
    "import torch \n",
    "from torchvision import transforms\n",
    "from torchvision.datasets import MNIST"
   ]
  },
  {
   "cell_type": "code",
   "execution_count": 4,
   "id": "e129a617",
   "metadata": {},
   "outputs": [
    {
     "data": {
      "text/plain": [
       "Dataset MNIST\n",
       "    Number of datapoints: 60000\n",
       "    Root location: /workspace/data/\n",
       "    Split: Train\n",
       "    StandardTransform\n",
       "Transform: ToTensor()"
      ]
     },
     "execution_count": 4,
     "metadata": {},
     "output_type": "execute_result"
    }
   ],
   "source": [
    "dataset = MNIST('/workspace/data/', download=True, transform=transforms.ToTensor())\n",
    "dataset"
   ]
  },
  {
   "cell_type": "code",
   "execution_count": 5,
   "id": "644c7be3",
   "metadata": {},
   "outputs": [
    {
     "data": {
      "text/plain": [
       "torch.Size([60000, 28, 28])"
      ]
     },
     "execution_count": 5,
     "metadata": {},
     "output_type": "execute_result"
    }
   ],
   "source": [
    "dataset.data.shape"
   ]
  },
  {
   "cell_type": "code",
   "execution_count": 6,
   "id": "b7374e77",
   "metadata": {},
   "outputs": [],
   "source": [
    "n_train = 50_000\n",
    "n_valid = dataset.data.shape[0] - n_train\n",
    "x_train, y_train = dataset.data[:n_train, :, :].view(n_train, -1) / 255, dataset.targets[:n_train]\n",
    "x_valid, y_valid = dataset.data[n_train:, :, :].view(n_valid, -1) / 255, dataset.targets[n_train:]"
   ]
  },
  {
   "cell_type": "code",
   "execution_count": 7,
   "id": "a94ac0f0",
   "metadata": {},
   "outputs": [],
   "source": [
    "weights = torch.randn(784, 10)\n",
    "biases  = torch.zeros(10)"
   ]
  },
  {
   "cell_type": "code",
   "execution_count": 8,
   "id": "1eca7771",
   "metadata": {},
   "outputs": [],
   "source": [
    "def matmul(a: torch.tensor, b: torch.tensor) -> torch.Tensor:\n",
    "    ar, ac = a.shape\n",
    "    br, bc = b.shape\n",
    "    assert ac == br\n",
    "    \n",
    "    c = torch.zeros(ar, bc)\n",
    "    for i in range(ar):\n",
    "        for j in range(bc):\n",
    "            for k in range(ac):\n",
    "                c[i, j] += a[i, k] * b[k, j]\n",
    "    return c"
   ]
  },
  {
   "cell_type": "markdown",
   "id": "6f61c268",
   "metadata": {},
   "source": [
    "Let's benchmark it against the PyTorch version. "
   ]
  },
  {
   "cell_type": "code",
   "execution_count": 9,
   "id": "5d69d4b7",
   "metadata": {},
   "outputs": [],
   "source": [
    "m1 = x_valid[:5]\n",
    "m2 = weights"
   ]
  },
  {
   "cell_type": "code",
   "execution_count": 10,
   "id": "4c9d85dd",
   "metadata": {},
   "outputs": [
    {
     "data": {
      "text/plain": [
       "(torch.Size([5, 784]), torch.Size([784, 10]))"
      ]
     },
     "execution_count": 10,
     "metadata": {},
     "output_type": "execute_result"
    }
   ],
   "source": [
    "m1.shape, m2.shape"
   ]
  },
  {
   "cell_type": "code",
   "execution_count": 11,
   "id": "0b00c0d4",
   "metadata": {},
   "outputs": [
    {
     "name": "stdout",
     "output_type": "stream",
     "text": [
      "CPU times: user 407 ms, sys: 0 ns, total: 407 ms\n",
      "Wall time: 406 ms\n"
     ]
    }
   ],
   "source": [
    "%time t1 = matmul(m1, m2)"
   ]
  },
  {
   "cell_type": "code",
   "execution_count": 12,
   "id": "d3238e3b",
   "metadata": {},
   "outputs": [
    {
     "name": "stdout",
     "output_type": "stream",
     "text": [
      "CPU times: user 88 µs, sys: 37 µs, total: 125 µs\n",
      "Wall time: 128 µs\n"
     ]
    }
   ],
   "source": [
    "%time t2 = torch.matmul(m1, m2)"
   ]
  },
  {
   "cell_type": "code",
   "execution_count": 13,
   "id": "2e87c44b",
   "metadata": {},
   "outputs": [],
   "source": [
    "def test_near(a: torch.tensor, b:torch.tensor):\n",
    "    return torch.allclose(a, b, rtol=1e-3, atol=1e-5)"
   ]
  },
  {
   "cell_type": "code",
   "execution_count": 14,
   "id": "b169e118",
   "metadata": {},
   "outputs": [
    {
     "data": {
      "text/plain": [
       "True"
      ]
     },
     "execution_count": 14,
     "metadata": {},
     "output_type": "execute_result"
    }
   ],
   "source": [
    "test_near(t1, t2)"
   ]
  },
  {
   "cell_type": "markdown",
   "id": "65ba15b0",
   "metadata": {},
   "source": [
    "The output is the same, but our version is significantly slower."
   ]
  },
  {
   "cell_type": "markdown",
   "id": "42f8405c",
   "metadata": {},
   "source": [
    "## Vectorization"
   ]
  },
  {
   "cell_type": "code",
   "execution_count": 15,
   "id": "960bcb28",
   "metadata": {},
   "outputs": [],
   "source": [
    "def matmul_fast(a: torch.Tensor, b: torch.Tensor) -> torch.Tensor:\n",
    "    ar, ac = a.shape\n",
    "    br, bc = b.shape\n",
    "    assert ac == br\n",
    "    \n",
    "    c = torch.zeros(ar, bc)\n",
    "    for i in range(ar):\n",
    "        for j in range(bc):\n",
    "            c[i, j] = (a[i, :] * b[:, j]).sum()\n",
    "    return c"
   ]
  },
  {
   "cell_type": "code",
   "execution_count": 16,
   "id": "68b5d1bf",
   "metadata": {},
   "outputs": [
    {
     "name": "stdout",
     "output_type": "stream",
     "text": [
      "CPU times: user 829 µs, sys: 353 µs, total: 1.18 ms\n",
      "Wall time: 914 µs\n"
     ]
    }
   ],
   "source": [
    "%time t3 = matmul_fast(m1, m2)"
   ]
  },
  {
   "cell_type": "code",
   "execution_count": 17,
   "id": "5129b33f",
   "metadata": {},
   "outputs": [
    {
     "data": {
      "text/plain": [
       "True"
      ]
     },
     "execution_count": 17,
     "metadata": {},
     "output_type": "execute_result"
    }
   ],
   "source": [
    "test_near(t3, t2)"
   ]
  },
  {
   "cell_type": "markdown",
   "id": "db3841e6",
   "metadata": {},
   "source": [
    "By converting the outer loop to a vectorized operation, we halved the wall time. The gain would be larger with matrices of higher rank."
   ]
  },
  {
   "cell_type": "markdown",
   "id": "29ec5525",
   "metadata": {},
   "source": [
    "## Broadcasting\n",
    "\n",
    "But we can do better than that, and remove one more loop."
   ]
  },
  {
   "cell_type": "code",
   "execution_count": 18,
   "id": "15af3a18",
   "metadata": {},
   "outputs": [],
   "source": [
    "def matmul_faster(a: torch.Tensor, b: torch.Tensor) -> torch.Tensor:\n",
    "    ar, ac = a.shape\n",
    "    br, bc = b.shape\n",
    "    assert ac == br\n",
    "    \n",
    "    c = torch.zeros(ar, bc)\n",
    "    for i in range(ar):\n",
    "        c[i, :] = (a[i, :].unsqueeze(-1) * b).sum(dim=0)\n",
    "    return c"
   ]
  },
  {
   "cell_type": "code",
   "execution_count": 19,
   "id": "16d3b832",
   "metadata": {},
   "outputs": [
    {
     "name": "stdout",
     "output_type": "stream",
     "text": [
      "CPU times: user 428 µs, sys: 0 ns, total: 428 µs\n",
      "Wall time: 278 µs\n"
     ]
    }
   ],
   "source": [
    "%time t4 = matmul_faster(m1, m2)"
   ]
  },
  {
   "cell_type": "code",
   "execution_count": 20,
   "id": "578ed86d",
   "metadata": {},
   "outputs": [
    {
     "data": {
      "text/plain": [
       "True"
      ]
     },
     "execution_count": 20,
     "metadata": {},
     "output_type": "execute_result"
    }
   ],
   "source": [
    "test_near(t4, t2)"
   ]
  },
  {
   "cell_type": "markdown",
   "id": "6f54f55a",
   "metadata": {},
   "source": [
    "## Einstein Summation\n",
    "\n",
    "Let's see if we can improve on this, and maybe even beat the PyTorch implementation."
   ]
  },
  {
   "cell_type": "code",
   "execution_count": 21,
   "id": "fd0cb6ef",
   "metadata": {},
   "outputs": [],
   "source": [
    "def matmul_fastest(a: torch.Tensor, b: torch.Tensor) -> torch.Tensor:\n",
    "    return torch.einsum('ik,kj->ij', a, b)"
   ]
  },
  {
   "cell_type": "code",
   "execution_count": 22,
   "id": "8d16a7b2",
   "metadata": {},
   "outputs": [
    {
     "name": "stdout",
     "output_type": "stream",
     "text": [
      "CPU times: user 83 µs, sys: 36 µs, total: 119 µs\n",
      "Wall time: 122 µs\n"
     ]
    }
   ],
   "source": [
    "%time t5 = matmul_fastest(m1, m2)"
   ]
  },
  {
   "cell_type": "code",
   "execution_count": 23,
   "id": "462aeaad",
   "metadata": {},
   "outputs": [
    {
     "data": {
      "text/plain": [
       "True"
      ]
     },
     "execution_count": 23,
     "metadata": {},
     "output_type": "execute_result"
    }
   ],
   "source": [
    "test_near(t5, t2)"
   ]
  },
  {
   "cell_type": "markdown",
   "id": "6b8be7bf",
   "metadata": {},
   "source": [
    "The `torch.einsum` version is almost as fast as `torch.matmul`. That's pretty remarkable."
   ]
  }
 ],
 "metadata": {
  "kernelspec": {
   "display_name": "Python 3",
   "language": "python",
   "name": "python3"
  },
  "language_info": {
   "codemirror_mode": {
    "name": "ipython",
    "version": 3
   },
   "file_extension": ".py",
   "mimetype": "text/x-python",
   "name": "python",
   "nbconvert_exporter": "python",
   "pygments_lexer": "ipython3",
   "version": "3.8.8"
  }
 },
 "nbformat": 4,
 "nbformat_minor": 5
}
