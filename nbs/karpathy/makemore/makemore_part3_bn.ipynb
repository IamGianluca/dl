{
 "cells": [
  {
   "cell_type": "markdown",
   "id": "04d69637",
   "metadata": {},
   "source": [
    "Reference paper: [Yoshua Bengio, Réjean Ducharme, Pascal Vincent, and Christian Jauvin. 2003. A Neural Probabilistic Language Model. J. Mach. Learn. Res. 3, (February 2003), 1137–1155.](https://www.jmlr.org/papers/volume3/bengio03a/bengio03a.pdf)\n",
    "\n",
    "One main difference in our implementation is that we are working with characters instead of words. The vocabulary size in the Bengio's paper is 17,000 words, whereas we are going to have a vocabulary of 27 characters (26 characters and the `<.>` special character)."
   ]
  },
  {
   "cell_type": "code",
   "execution_count": 1,
   "id": "d777a5f5",
   "metadata": {},
   "outputs": [],
   "source": [
    "import torch\n",
    "import torch.nn.functional as F\n",
    "import matplotlib.pyplot as plt\n",
    "\n",
    "%matplotlib inline\n",
    "plt.style.use('seaborn-v0_8-whitegrid')"
   ]
  },
  {
   "cell_type": "code",
   "execution_count": 2,
   "id": "793dda3b",
   "metadata": {},
   "outputs": [
    {
     "data": {
      "text/plain": [
       "['emma', 'olivia', 'ava', 'isabella', 'sophia', 'charlotte', 'mia', 'amelia']"
      ]
     },
     "execution_count": 2,
     "metadata": {},
     "output_type": "execute_result"
    }
   ],
   "source": [
    "words = open(\"./names.txt\", \"r\").read().splitlines()\n",
    "words[:8]"
   ]
  },
  {
   "cell_type": "code",
   "execution_count": 3,
   "id": "6c46de1d",
   "metadata": {},
   "outputs": [
    {
     "data": {
      "text/plain": [
       "32033"
      ]
     },
     "execution_count": 3,
     "metadata": {},
     "output_type": "execute_result"
    }
   ],
   "source": [
    "len(words)"
   ]
  },
  {
   "cell_type": "code",
   "execution_count": 4,
   "id": "5e392f73",
   "metadata": {},
   "outputs": [
    {
     "name": "stdout",
     "output_type": "stream",
     "text": [
      "{1: 'a', 2: 'b', 3: 'c', 4: 'd', 5: 'e', 6: 'f', 7: 'g', 8: 'h', 9: 'i', 10: 'j', 11: 'k', 12: 'l', 13: 'm', 14: 'n', 15: 'o', 16: 'p', 17: 'q', 18: 'r', 19: 's', 20: 't', 21: 'u', 22: 'v', 23: 'w', 24: 'x', 25: 'y', 26: 'z', 0: '.'}\n",
      "27\n"
     ]
    }
   ],
   "source": [
    "# build the vacabulary of characters and mapping to/from integers\n",
    "chars = sorted(list(set(\"\".join(words))))\n",
    "s2i = {s: i + 1 for i, s in enumerate(chars)}\n",
    "s2i[\".\"] = 0\n",
    "i2s = {i: s for s, i in s2i.items()}\n",
    "vocab_size = len(i2s)\n",
    "print(i2s)\n",
    "print(vocab_size)"
   ]
  },
  {
   "cell_type": "code",
   "execution_count": 5,
   "id": "5df4f068",
   "metadata": {},
   "outputs": [
    {
     "name": "stdout",
     "output_type": "stream",
     "text": [
      "torch.Size([182625, 3]) torch.Size([182625])\n",
      "torch.Size([22655, 3]) torch.Size([22655])\n",
      "torch.Size([22866, 3]) torch.Size([22866])\n"
     ]
    }
   ],
   "source": [
    "block_size = 3  # context length: how many characters do we take to predict the next one?\n",
    "\n",
    "def build_dataset(words):\n",
    "    x, y = [], []\n",
    "    \n",
    "    for w in words:\n",
    "        context = [0] * block_size\n",
    "        for ch in w + \".\":\n",
    "            ix = s2i[ch]\n",
    "            x.append(context)\n",
    "            y.append(ix)\n",
    "            context = context[1:] + [ix]  # crop and append\n",
    "\n",
    "    x = torch.tensor(x)\n",
    "    y = torch.tensor(y)\n",
    "    print(x.shape, y.shape)\n",
    "    return x, y\n",
    "\n",
    "import random\n",
    "random.seed(42)\n",
    "random.shuffle(words)\n",
    "n1 = int(0.8 * len(words))\n",
    "n2 = int(0.9 * len(words))\n",
    "\n",
    "x_trn, y_trn = build_dataset(words[:n1])    # 80%\n",
    "x_val, y_val = build_dataset(words[n1:n2])  # 10%\n",
    "x_tst, y_tst = build_dataset(words[n2:])    # 10%"
   ]
  },
  {
   "cell_type": "code",
   "execution_count": 6,
   "id": "76420da0",
   "metadata": {},
   "outputs": [
    {
     "name": "stdout",
     "output_type": "stream",
     "text": [
      "Number of trainable parameters: 11897\n"
     ]
    }
   ],
   "source": [
    "# MLP\n",
    "n_embd = 10  # the dimensionality of the character embedding vectors\n",
    "n_hidden = 200  # the number of neurons in the hidden layer of the MLP\n",
    "\n",
    "g = torch.Generator().manual_seed(2147483647)  # for reproducibility\n",
    "C = torch.randn((vocab_size, n_embd), generator=g)\n",
    "W1 = torch.randn((n_embd * block_size, n_hidden), generator=g)\n",
    "b1 = torch.randn((n_hidden), generator=g)\n",
    "W2 = torch.randn((n_hidden, vocab_size), generator=g)\n",
    "b2 = torch.randn((vocab_size), generator=g)\n",
    "\n",
    "parameters = [C, W1, b1, W2, b2]\n",
    "print(f\"Number of trainable parameters: {sum(p.nelement() for p in parameters)}\")  # total number of parameters in the model\n",
    "\n",
    "for p in parameters:\n",
    "    p.requires_grad = True"
   ]
  },
  {
   "cell_type": "code",
   "execution_count": 7,
   "id": "c7c5c53c",
   "metadata": {},
   "outputs": [
    {
     "name": "stdout",
     "output_type": "stream",
     "text": [
      "      0/ 200000: 27.8817\n",
      "  10000/ 200000: 2.9417\n",
      "  20000/ 200000: 2.5795\n",
      "  30000/ 200000: 2.7819\n",
      "  40000/ 200000: 2.0216\n",
      "  50000/ 200000: 2.5858\n",
      "  60000/ 200000: 2.3217\n",
      "  70000/ 200000: 2.1007\n",
      "  80000/ 200000: 2.2893\n",
      "  90000/ 200000: 2.2368\n",
      " 100000/ 200000: 1.9774\n",
      " 110000/ 200000: 2.4507\n",
      " 120000/ 200000: 1.9623\n",
      " 130000/ 200000: 2.3657\n",
      " 140000/ 200000: 2.2424\n",
      " 150000/ 200000: 2.1469\n",
      " 160000/ 200000: 2.2506\n",
      " 170000/ 200000: 1.7543\n",
      " 180000/ 200000: 2.1055\n",
      " 190000/ 200000: 1.8174\n"
     ]
    }
   ],
   "source": [
    "max_steps = 200_000\n",
    "bs = 32\n",
    "lossi = []\n",
    "\n",
    "for i in range(max_steps):\n",
    "    # minibatch construct\n",
    "    ix = torch.randint(0, x_trn.shape[0], (bs,), generator=g)\n",
    "    xb, yb = x_trn[ix], y_trn[ix]\n",
    "\n",
    "    # forward pass\n",
    "    emb = C[xb]  # embed the characters into vectors\n",
    "    emb_cat = emb.view((emb.shape[0], -1))  # concat the vectors\n",
    "    h_pre_act = emb_cat @ W1 + b1  # hidden layer pre-activation\n",
    "    h = torch.tanh(h_pre_act)  # hidden layer\n",
    "    logits = h @ W2 + b2  # output layer\n",
    "    loss = F.cross_entropy(logits, yb)  # loss function\n",
    "\n",
    "    # backward pass\n",
    "    for p in parameters:\n",
    "        p.grad = None\n",
    "    loss.backward()\n",
    "    \n",
    "    # update\n",
    "    lr = 0.1 if i < 100_000 else 0.01\n",
    "    with torch.no_grad():\n",
    "        for p in parameters:\n",
    "            p -= lr * p.grad\n",
    "        \n",
    "    # track stats\n",
    "    if i % 10_000 == 0:\n",
    "        print(f\"{i:7d}/{max_steps:7d}: {loss.item():.4f}\")\n",
    "    lossi.append(loss.log10().item())"
   ]
  },
  {
   "cell_type": "code",
   "execution_count": 8,
   "id": "24f18198",
   "metadata": {},
   "outputs": [
    {
     "data": {
      "image/png": "[encoded data removed]",
      "text/plain": [
       "<Figure size 640x480 with 1 Axes>"
      ]
     },
     "metadata": {},
     "output_type": "display_data"
    }
   ],
   "source": [
    "plt.plot(lossi)\n",
    "plt.title(\"Training Loss\")\n",
    "plt.ylabel(\"Loss\")\n",
    "plt.xlabel(\"Steps\")\n",
    "plt.show()"
   ]
  },
  {
   "cell_type": "code",
   "execution_count": 9,
   "id": "13dc8203",
   "metadata": {},
   "outputs": [
    {
     "name": "stdout",
     "output_type": "stream",
     "text": [
      "train 2.126697540283203\n",
      "val 2.171041250228882\n"
     ]
    }
   ],
   "source": [
    "@torch.no_grad()  # this decorator disable gradient tracking\n",
    "def split_loss(split: str):\n",
    "    x, y = {\n",
    "        \"train\": (x_trn, y_trn),\n",
    "        \"val\": (x_val, y_val),\n",
    "        \"test\": (x_tst, y_tst),\n",
    "    }[split]\n",
    "    emb = C[x]  # (bs, block_size, n_embd)\n",
    "    emb_cat = emb.view((emb.shape[0], -1))  # concat into (bs, block_size * n_embd)\n",
    "    h_pre_act = emb_cat @ W1 + b1  # (bs, n_hidden)\n",
    "    h = torch.tanh(h_pre_act)  # (bs, n_hidden)\n",
    "    logits = h @ W2 + b2  # (bs, vocab_size)\n",
    "    loss = F.cross_entropy(logits, y)  \n",
    "    print(split, loss.item())\n",
    "\n",
    "split_loss(\"train\")\n",
    "split_loss(\"val\")"
   ]
  },
  {
   "cell_type": "code",
   "execution_count": 10,
   "id": "126996d3",
   "metadata": {},
   "outputs": [
    {
     "name": "stdout",
     "output_type": "stream",
     "text": [
      "mona.\n",
      "mayah.\n",
      "see.\n",
      "mel.\n",
      "ryllo.\n",
      "emmadiengramira.\n",
      "eredielin.\n",
      "shy.\n",
      "jen.\n",
      "eden.\n",
      "eson.\n",
      "arleiyah.\n",
      "hone.\n",
      "cayshubergihimier.\n",
      "kendreelynn.\n",
      "nochorius.\n",
      "macder.\n",
      "yaque.\n",
      "ehs.\n",
      "kayjahsin.\n"
     ]
    }
   ],
   "source": [
    "# sample from the model\n",
    "g = torch.Generator().manual_seed(2147483647 + 10)\n",
    "block_size = 3\n",
    "for _ in range(20):\n",
    "    out = []\n",
    "    context = [0] * block_size  # initialize with all ...\n",
    "    while True:\n",
    "        # forward pass of the neural network\n",
    "        emb = C[torch.tensor([context])]  # (1, block_size, d)\n",
    "        h = torch.tanh(emb.view(1, -1) @ W1 + b1)\n",
    "        logits = h @ W2 + b2\n",
    "        probs = F.softmax(logits, dim=1)\n",
    "        # sample from the distribution\n",
    "        ix = torch.multinomial(probs, num_samples=1, generator=g).item()\n",
    "        # shift the context window and track the samples\n",
    "        context = context[1:] + [ix]\n",
    "        out.append(ix)\n",
    "        # if the special \".\" token break\n",
    "        if ix == 0:\n",
    "            break\n",
    "            \n",
    "    print(\"\".join(i2s[i] for i in out))"
   ]
  },
  {
   "cell_type": "markdown",
   "id": "f99df7f0",
   "metadata": {},
   "source": [
    "## Debugging: The logits"
   ]
  },
  {
   "cell_type": "markdown",
   "id": "f6d8f500",
   "metadata": {},
   "source": [
    "The loss we have after the first forward pass is too high, which is a red flag. This could have been caused by a poor initialization. We would expect an initial loss closer to $ - \\log{\\frac{1}{\\text{vocab. lenght}}} = - \\log{\\frac{1}{27}} $. "
   ]
  },
  {
   "cell_type": "code",
   "execution_count": 11,
   "id": "01f708b7",
   "metadata": {},
   "outputs": [
    {
     "data": {
      "text/plain": [
       "tensor(3.2958)"
      ]
     },
     "execution_count": 11,
     "metadata": {},
     "output_type": "execute_result"
    }
   ],
   "source": [
    "-torch.tensor(1/27).log()"
   ]
  },
  {
   "cell_type": "markdown",
   "id": "91a4c29e",
   "metadata": {},
   "source": [
    "To better understand what is happening, let's use an example using 4 classes."
   ]
  },
  {
   "cell_type": "code",
   "execution_count": 12,
   "id": "1df2c199",
   "metadata": {},
   "outputs": [
    {
     "name": "stdout",
     "output_type": "stream",
     "text": [
      "logits: tensor([-0.5897,  1.1379, -0.0360,  1.2367])\n",
      "loss: 2.1257944107055664\n"
     ]
    }
   ],
   "source": [
    "# 4-d example of the issue\n",
    "logits = torch.randn(4)\n",
    "y_true = torch.tensor([0., 0., 1., 0.])\n",
    "loss = F.cross_entropy(input=logits, target=y_true)\n",
    "print(f\"logits: {logits}\\nloss: {loss}\")"
   ]
  },
  {
   "cell_type": "code",
   "execution_count": 13,
   "id": "24d0d5f1",
   "metadata": {},
   "outputs": [
    {
     "name": "stdout",
     "output_type": "stream",
     "text": [
      "logits: tensor([  2.1823,   7.0531, -12.6947,   7.8876])\n",
      "loss: 20.945171356201172\n"
     ]
    }
   ],
   "source": [
    "# 4-d example of the issue\n",
    "logits = torch.randn(4) * 10  # <-- artificially increase the values of the logits \n",
    "y_true = torch.tensor([0., 0., 1., 0.])\n",
    "loss = F.cross_entropy(input=logits, target=y_true)\n",
    "print(f\"logits: {logits}\\nloss: {loss}\")"
   ]
  },
  {
   "cell_type": "markdown",
   "id": "3122062b",
   "metadata": {},
   "source": [
    "What is happening is that the logits generated by our model are too extreme at the beginning of the training process. This causes the loss to become extremely large in those cases when we are very confidently wrong (e.g., high logit for the wrong class, and low logits for the other classes). "
   ]
  },
  {
   "cell_type": "markdown",
   "id": "59ee58de",
   "metadata": {},
   "source": [
    "Let's inspect the logits after the first forward pass."
   ]
  },
  {
   "cell_type": "code",
   "execution_count": 14,
   "id": "52bf6b45",
   "metadata": {},
   "outputs": [
    {
     "name": "stdout",
     "output_type": "stream",
     "text": [
      "Number of trainable parameters: 11897\n"
     ]
    }
   ],
   "source": [
    "# MLP\n",
    "n_embd = 10  # the dimensionality of the character embedding vectors\n",
    "n_hidden = 200  # the number of neurons in the hidden layer of the MLP\n",
    "\n",
    "g = torch.Generator().manual_seed(2147483647)  # for reproducibility\n",
    "C = torch.randn((vocab_size, n_embd), generator=g)\n",
    "W1 = torch.randn((n_embd * block_size, n_hidden), generator=g)\n",
    "b1 = torch.randn((n_hidden), generator=g)\n",
    "W2 = torch.randn((n_hidden, vocab_size), generator=g)\n",
    "b2 = torch.randn((vocab_size), generator=g)\n",
    "\n",
    "parameters = [C, W1, b1, W2, b2]\n",
    "print(f\"Number of trainable parameters: {sum(p.nelement() for p in parameters)}\")  # total number of parameters in the model\n",
    "\n",
    "for p in parameters:\n",
    "    p.requires_grad = True"
   ]
  },
  {
   "cell_type": "code",
   "execution_count": 15,
   "id": "ee9e6ba1",
   "metadata": {},
   "outputs": [
    {
     "name": "stdout",
     "output_type": "stream",
     "text": [
      "      0/ 200000: 27.8817\n",
      "tensor([ -2.3527,  36.4366, -10.7306,   5.7165,  18.6409, -11.6998,  -2.1991,\n",
      "          1.8535,  10.9996,  10.6730,  12.3507, -10.3809,   4.7243, -24.4257,\n",
      "         -8.5909,   1.9024, -12.2744, -12.4751, -23.2778,  -2.0163,  25.8767,\n",
      "         14.2108,  17.7691, -10.9204, -20.7335,   6.4560,  11.1615],\n",
      "       grad_fn=<SelectBackward0>)\n"
     ]
    }
   ],
   "source": [
    "max_steps = 200_000\n",
    "bs = 32\n",
    "lossi = []\n",
    "\n",
    "for i in range(max_steps):\n",
    "    # minibatch construct\n",
    "    ix = torch.randint(0, x_trn.shape[0], (bs,), generator=g)\n",
    "    xb, yb = x_trn[ix], y_trn[ix]\n",
    "\n",
    "    # forward pass\n",
    "    emb = C[xb]  # embed the characters into vectors\n",
    "    emb_cat = emb.view((emb.shape[0], -1))  # concat the vectors\n",
    "    h_pre_act = emb_cat @ W1 + b1  # hidden layer pre-activation\n",
    "    h = torch.tanh(h_pre_act)  # hidden layer\n",
    "    logits = h @ W2 + b2  # output layer\n",
    "    loss = F.cross_entropy(logits, yb)  # loss function\n",
    "\n",
    "    # backward pass\n",
    "    for p in parameters:\n",
    "        p.grad = None\n",
    "    loss.backward()\n",
    "    \n",
    "    # update\n",
    "    lr = 0.1 if i < 100_000 else 0.01\n",
    "    with torch.no_grad():\n",
    "        for p in parameters:\n",
    "            p -= lr * p.grad\n",
    "        \n",
    "    # track stats\n",
    "    if i % 10_000 == 0:\n",
    "        print(f\"{i:7d}/{max_steps:7d}: {loss.item():.4f}\")\n",
    "        print(logits[0])\n",
    "    lossi.append(loss.log10().item())\n",
    "    \n",
    "    break"
   ]
  },
  {
   "cell_type": "markdown",
   "id": "d2b316b2",
   "metadata": {},
   "source": [
    "To fix this, let's set `b2` to zeroes, and reduce the magnitude of the init values in the `W2` weight matrix."
   ]
  },
  {
   "cell_type": "code",
   "execution_count": 16,
   "id": "f7b42881",
   "metadata": {},
   "outputs": [
    {
     "name": "stdout",
     "output_type": "stream",
     "text": [
      "Number of trainable parameters: 11897\n"
     ]
    }
   ],
   "source": [
    "# MLP\n",
    "n_embd = 10  # the dimensionality of the character embedding vectors\n",
    "n_hidden = 200  # the number of neurons in the hidden layer of the MLP\n",
    "\n",
    "g = torch.Generator().manual_seed(2147483647)  # for reproducibility\n",
    "C = torch.randn((vocab_size, n_embd), generator=g)\n",
    "W1 = torch.randn((n_embd * block_size, n_hidden), generator=g)\n",
    "b1 = torch.randn((n_hidden), generator=g)\n",
    "W2 = torch.randn((n_hidden, vocab_size), generator=g) * 0.01  # not zero!\n",
    "b2 = torch.randn((vocab_size), generator=g) * 0  # reset the bias term\n",
    "\n",
    "parameters = [C, W1, b1, W2, b2]\n",
    "print(f\"Number of trainable parameters: {sum(p.nelement() for p in parameters)}\")  # total number of parameters in the model\n",
    "\n",
    "for p in parameters:\n",
    "    p.requires_grad = True"
   ]
  },
  {
   "cell_type": "code",
   "execution_count": 17,
   "id": "5f4fa1a8",
   "metadata": {},
   "outputs": [
    {
     "name": "stdout",
     "output_type": "stream",
     "text": [
      "      0/ 200000: 3.3221\n",
      "tensor([-0.0249,  0.3523, -0.1267,  0.0541,  0.1662, -0.1171, -0.0140,  0.0124,\n",
      "         0.0921,  0.1135,  0.1362, -0.0925,  0.0444, -0.2459, -0.0971,  0.0125,\n",
      "        -0.0957, -0.1376, -0.2329, -0.0137,  0.2452,  0.1616,  0.1665, -0.1094,\n",
      "        -0.2154,  0.0725,  0.1141], grad_fn=<SelectBackward0>)\n"
     ]
    }
   ],
   "source": [
    "max_steps = 200_000\n",
    "bs = 32\n",
    "lossi = []\n",
    "\n",
    "for i in range(max_steps):\n",
    "    # minibatch construct\n",
    "    ix = torch.randint(0, x_trn.shape[0], (bs,), generator=g)\n",
    "    xb, yb = x_trn[ix], y_trn[ix]\n",
    "\n",
    "    # forward pass\n",
    "    emb = C[xb]  # embed the characters into vectors\n",
    "    emb_cat = emb.view((emb.shape[0], -1))  # concat the vectors\n",
    "    h_pre_act = emb_cat @ W1 + b1  # hidden layer pre-activation\n",
    "    h = torch.tanh(h_pre_act)  # hidden layer\n",
    "    logits = h @ W2 + b2  # output layer\n",
    "    loss = F.cross_entropy(logits, yb)  # loss function\n",
    "\n",
    "    # backward pass\n",
    "    for p in parameters:\n",
    "        p.grad = None\n",
    "    loss.backward()\n",
    "    \n",
    "    # update\n",
    "    lr = 0.1 if i < 100_000 else 0.01\n",
    "    with torch.no_grad():\n",
    "        for p in parameters:\n",
    "            p -= lr * p.grad\n",
    "        \n",
    "    # track stats\n",
    "    if i % 10_000 == 0:\n",
    "        print(f\"{i:7d}/{max_steps:7d}: {loss.item():.4f}\")\n",
    "        print(logits[0])\n",
    "    lossi.append(loss.log10().item())\n",
    "    \n",
    "    break"
   ]
  },
  {
   "cell_type": "markdown",
   "id": "7a0a614c",
   "metadata": {},
   "source": [
    "This is much better, as the logits are more uniformly distributed, without extreme values. These are the logits from the very first forward pass, so it would be bad if they are heavily biased towards a particular output, as there hasn't been any learning yet (no backprop.).\n",
    "\n",
    "Let's run the full optimization, not just the first forward pass."
   ]
  },
  {
   "cell_type": "code",
   "execution_count": 18,
   "id": "e34f392a",
   "metadata": {},
   "outputs": [
    {
     "name": "stdout",
     "output_type": "stream",
     "text": [
      "Number of trainable parameters: 11897\n"
     ]
    }
   ],
   "source": [
    "# MLP\n",
    "n_embd = 10  # the dimensionality of the character embedding vectors\n",
    "n_hidden = 200  # the number of neurons in the hidden layer of the MLP\n",
    "\n",
    "g = torch.Generator().manual_seed(2147483647)  # for reproducibility\n",
    "C = torch.randn((vocab_size, n_embd), generator=g)\n",
    "W1 = torch.randn((n_embd * block_size, n_hidden), generator=g)\n",
    "b1 = torch.randn((n_hidden), generator=g)\n",
    "W2 = torch.randn((n_hidden, vocab_size), generator=g) * 0.01  # not zero!\n",
    "b2 = torch.randn((vocab_size), generator=g) * 0  # reset the bias term\n",
    "\n",
    "parameters = [C, W1, b1, W2, b2]\n",
    "print(f\"Number of trainable parameters: {sum(p.nelement() for p in parameters)}\")  # total number of parameters in the model\n",
    "\n",
    "for p in parameters:\n",
    "    p.requires_grad = True"
   ]
  },
  {
   "cell_type": "code",
   "execution_count": 19,
   "id": "d9ece65c",
   "metadata": {},
   "outputs": [
    {
     "name": "stdout",
     "output_type": "stream",
     "text": [
      "      0/ 200000: 3.3221\n",
      "  10000/ 200000: 2.1900\n",
      "  20000/ 200000: 2.4196\n",
      "  30000/ 200000: 2.6067\n",
      "  40000/ 200000: 2.0601\n",
      "  50000/ 200000: 2.4988\n",
      "  60000/ 200000: 2.3902\n",
      "  70000/ 200000: 2.1344\n",
      "  80000/ 200000: 2.3369\n",
      "  90000/ 200000: 2.1299\n",
      " 100000/ 200000: 1.8329\n",
      " 110000/ 200000: 2.2053\n",
      " 120000/ 200000: 1.8540\n",
      " 130000/ 200000: 2.4566\n",
      " 140000/ 200000: 2.1879\n",
      " 150000/ 200000: 2.1118\n",
      " 160000/ 200000: 1.8956\n",
      " 170000/ 200000: 1.8645\n",
      " 180000/ 200000: 2.0326\n",
      " 190000/ 200000: 1.8417\n"
     ]
    }
   ],
   "source": [
    "max_steps = 200_000\n",
    "bs = 32\n",
    "lossi = []\n",
    "\n",
    "for i in range(max_steps):\n",
    "    # minibatch construct\n",
    "    ix = torch.randint(0, x_trn.shape[0], (bs,), generator=g)\n",
    "    xb, yb = x_trn[ix], y_trn[ix]\n",
    "\n",
    "    # forward pass\n",
    "    emb = C[xb]  # embed the characters into vectors\n",
    "    emb_cat = emb.view((emb.shape[0], -1))  # concat the vectors\n",
    "    h_pre_act = emb_cat @ W1 + b1  # hidden layer pre-activation\n",
    "    h = torch.tanh(h_pre_act)  # hidden layer\n",
    "    logits = h @ W2 + b2  # output layer\n",
    "    loss = F.cross_entropy(logits, yb)  # loss function\n",
    "\n",
    "    # backward pass\n",
    "    for p in parameters:\n",
    "        p.grad = None\n",
    "    loss.backward()\n",
    "    \n",
    "    # update\n",
    "    lr = 0.1 if i < 100_000 else 0.01\n",
    "    with torch.no_grad():\n",
    "        for p in parameters:\n",
    "            p -= lr * p.grad\n",
    "        \n",
    "    # track stats\n",
    "    if i % 10_000 == 0:\n",
    "        print(f\"{i:7d}/{max_steps:7d}: {loss.item():.4f}\")\n",
    "    lossi.append(loss.log10().item())"
   ]
  },
  {
   "cell_type": "code",
   "execution_count": 20,
   "id": "690958d0",
   "metadata": {},
   "outputs": [
    {
     "name": "stdout",
     "output_type": "stream",
     "text": [
      "train 2.069589138031006\n",
      "val 2.1310744285583496\n"
     ]
    }
   ],
   "source": [
    "@torch.no_grad()  # this decorator disable gradient tracking\n",
    "def split_loss(split: str):\n",
    "    x, y = {\n",
    "        \"train\": (x_trn, y_trn),\n",
    "        \"val\": (x_val, y_val),\n",
    "        \"test\": (x_tst, y_tst),\n",
    "    }[split]\n",
    "    emb = C[x]  # (bs, block_size, n_embd)\n",
    "    emb_cat = emb.view((emb.shape[0], -1))  # concat into (bs, block_size * n_embd)\n",
    "    h_pre_act = emb_cat @ W1 + b1  # (bs, n_hidden)\n",
    "    h = torch.tanh(h_pre_act)  # (bs, n_hidden)\n",
    "    logits = h @ W2 + b2  # (bs, vocab_size)\n",
    "    loss = F.cross_entropy(logits, y)  \n",
    "    print(split, loss.item())\n",
    "\n",
    "split_loss(\"train\")\n",
    "split_loss(\"val\")"
   ]
  },
  {
   "cell_type": "markdown",
   "id": "6312997b",
   "metadata": {},
   "source": [
    "This is a significant improvement over the previous model! The reason for that is that we are spending more cycles learning instead of using the first few thousand iteration to squash down the weights to avoid extreme logits."
   ]
  },
  {
   "cell_type": "markdown",
   "id": "f5f152d3",
   "metadata": {},
   "source": [
    "## Debugging: The hidden activation states"
   ]
  },
  {
   "cell_type": "markdown",
   "id": "f0763edc",
   "metadata": {},
   "source": [
    "This time we are going to focus on the values of the hidden layer activations. There are taking on very extreme values, closer to $ -1.0 $ and $ 1.0 $."
   ]
  },
  {
   "cell_type": "code",
   "execution_count": 21,
   "id": "6863edaa",
   "metadata": {},
   "outputs": [
    {
     "name": "stdout",
     "output_type": "stream",
     "text": [
      "Number of trainable parameters: 11897\n"
     ]
    }
   ],
   "source": [
    "# MLP\n",
    "n_embd = 10  # the dimensionality of the character embedding vectors\n",
    "n_hidden = 200  # the number of neurons in the hidden layer of the MLP\n",
    "\n",
    "g = torch.Generator().manual_seed(2147483647)  # for reproducibility\n",
    "C = torch.randn((vocab_size, n_embd), generator=g)\n",
    "W1 = torch.randn((n_embd * block_size, n_hidden), generator=g)\n",
    "b1 = torch.randn((n_hidden), generator=g)\n",
    "W2 = torch.randn((n_hidden, vocab_size), generator=g) * 0.01  # not zero!\n",
    "b2 = torch.randn((vocab_size), generator=g) * 0  # reset the bias term\n",
    "\n",
    "parameters = [C, W1, b1, W2, b2]\n",
    "print(f\"Number of trainable parameters: {sum(p.nelement() for p in parameters)}\")  # total number of parameters in the model\n",
    "\n",
    "for p in parameters:\n",
    "    p.requires_grad = True"
   ]
  },
  {
   "cell_type": "code",
   "execution_count": 22,
   "id": "7ff9fd38",
   "metadata": {},
   "outputs": [
    {
     "name": "stdout",
     "output_type": "stream",
     "text": [
      "      0/ 200000: 3.3221\n",
      "tensor([[ 0.8100, -0.8997, -0.9993,  ..., -0.9097, -1.0000,  1.0000],\n",
      "        [-1.0000, -0.9571, -0.7145,  ...,  0.4898,  0.9090,  0.9937],\n",
      "        [ 0.9983, -0.3340,  1.0000,  ...,  0.9443,  0.9905,  1.0000],\n",
      "        ...,\n",
      "        [-1.0000,  0.9604, -0.1418,  ..., -0.1266,  1.0000,  1.0000],\n",
      "        [-1.0000, -0.4385, -0.8882,  ..., -0.3316,  0.9995,  1.0000],\n",
      "        [-1.0000,  0.9604, -0.1418,  ..., -0.1266,  1.0000,  1.0000]],\n",
      "       grad_fn=<TanhBackward0>)\n"
     ]
    }
   ],
   "source": [
    "max_steps = 200_000\n",
    "bs = 32\n",
    "lossi = []\n",
    "\n",
    "for i in range(max_steps):\n",
    "    # minibatch construct\n",
    "    ix = torch.randint(0, x_trn.shape[0], (bs,), generator=g)\n",
    "    xb, yb = x_trn[ix], y_trn[ix]\n",
    "\n",
    "    # forward pass\n",
    "    emb = C[xb]  # embed the characters into vectors\n",
    "    emb_cat = emb.view((emb.shape[0], -1))  # concat the vectors\n",
    "    h_pre_act = emb_cat @ W1 + b1  # hidden layer pre-activation\n",
    "    h = torch.tanh(h_pre_act)  # hidden layer\n",
    "    logits = h @ W2 + b2  # output layer\n",
    "    loss = F.cross_entropy(logits, yb)  # loss function\n",
    "\n",
    "    # backward pass\n",
    "    for p in parameters:\n",
    "        p.grad = None\n",
    "    loss.backward()\n",
    "    \n",
    "    # update\n",
    "    lr = 0.1 if i < 100_000 else 0.01\n",
    "    with torch.no_grad():\n",
    "        for p in parameters:\n",
    "            p -= lr * p.grad\n",
    "        \n",
    "    # track stats\n",
    "    if i % 10_000 == 0:\n",
    "        print(f\"{i:7d}/{max_steps:7d}: {loss.item():.4f}\")\n",
    "        print(h)\n",
    "    lossi.append(loss.log10().item())\n",
    "    \n",
    "    break"
   ]
  },
  {
   "cell_type": "markdown",
   "id": "af419ad0",
   "metadata": {},
   "source": [
    "As a reminder, the tanh function converts value in the $ [-\\infty, \\infty] $ to $ [-1, 1] $."
   ]
  },
  {
   "cell_type": "code",
   "execution_count": 23,
   "id": "69b44a5b",
   "metadata": {},
   "outputs": [
    {
     "data": {
      "image/png": "[encoded data removed]",
      "text/plain": [
       "<Figure size 640x480 with 1 Axes>"
      ]
     },
     "metadata": {},
     "output_type": "display_data"
    }
   ],
   "source": [
    "x = torch.linspace(-5, 5, steps=20)\n",
    "y = torch.tanh(x)\n",
    "plt.plot(x, y)\n",
    "plt.vlines(x=0, ymin=-1, ymax=1, color=\"black\")\n",
    "plt.hlines(y=0, xmin=-5, xmax=5, color=\"black\")\n",
    "plt.show()"
   ]
  },
  {
   "cell_type": "markdown",
   "id": "f80e1d03",
   "metadata": {},
   "source": [
    "Unfortunately, in our case, it seems that our hidden layer activations are -1 or 1 too often, instead of being more evenly distributed."
   ]
  },
  {
   "cell_type": "code",
   "execution_count": 24,
   "id": "75ac4002",
   "metadata": {},
   "outputs": [
    {
     "data": {
      "image/png": "[encoded data removed]",
      "text/plain": [
       "<Figure size 640x480 with 1 Axes>"
      ]
     },
     "metadata": {},
     "output_type": "display_data"
    }
   ],
   "source": [
    "plt.hist(h.view(-1).tolist(), bins=50)\n",
    "plt.show()"
   ]
  },
  {
   "cell_type": "markdown",
   "id": "56e892ec",
   "metadata": {},
   "source": [
    "The root cause of that is the values of the hidden layer's preactivations. These are often lower than -2 or higher than 2, which correspond to value respectively very close to -1 and 1 aften passing through the tanh function."
   ]
  },
  {
   "cell_type": "code",
   "execution_count": 25,
   "id": "807b2e3f",
   "metadata": {},
   "outputs": [
    {
     "data": {
      "image/png": "[encoded data removed]",
      "text/plain": [
       "<Figure size 640x480 with 1 Axes>"
      ]
     },
     "metadata": {},
     "output_type": "display_data"
    }
   ],
   "source": [
    "plt.hist(h_pre_act.view(-1).tolist(), bins=50)\n",
    "plt.show()"
   ]
  }
 ],
 "metadata": {
  "kernelspec": {
   "display_name": "Python 3 (ipykernel)",
   "language": "python",
   "name": "python3"
  },
  "language_info": {
   "codemirror_mode": {
    "name": "ipython",
    "version": 3
   },
   "file_extension": ".py",
   "mimetype": "text/x-python",
   "name": "python",
   "nbconvert_exporter": "python",
   "pygments_lexer": "ipython3",
   "version": "3.10.12"
  }
 },
 "nbformat": 4,
 "nbformat_minor": 5
}
