{
 "cells": [
  {
   "cell_type": "markdown",
   "id": "d175d323",
   "metadata": {},
   "source": [
    "# Building `makemore` Part 4: Activations & Gradients, BatchNorm\n",
    "\n",
    "Reference paper: [Yoshua Bengio, Réjean Ducharme, Pascal Vincent, and Christian Jauvin. 2003. A Neural Probabilistic Language Model. J. Mach. Learn. Res. 3, (February 2003), 1137–1155.](https://www.jmlr.org/papers/volume3/bengio03a/bengio03a.pdf)\n",
    "\n",
    "One main difference in our implementation is that we are working with characters instead of words. The vocabulary size in the Bengio's paper is 17,000 words, whereas we are going to have a vocabulary of 27 characters (26 characters and the `<.>` special character)."
   ]
  },
  {
   "cell_type": "code",
   "execution_count": 1,
   "id": "cfafc0f9",
   "metadata": {},
   "outputs": [],
   "source": [
    "import torch\n",
    "import torch.nn.functional as F\n",
    "import matplotlib.pyplot as plt\n",
    "\n",
    "%matplotlib inline\n",
    "plt.style.use('seaborn-v0_8-whitegrid')"
   ]
  },
  {
   "cell_type": "code",
   "execution_count": 2,
   "id": "7ed9082c",
   "metadata": {},
   "outputs": [
    {
     "data": {
      "text/plain": [
       "['emma', 'olivia', 'ava', 'isabella', 'sophia', 'charlotte', 'mia', 'amelia']"
      ]
     },
     "execution_count": 2,
     "metadata": {},
     "output_type": "execute_result"
    }
   ],
   "source": [
    "words = open(\"./names.txt\", \"r\").read().splitlines()\n",
    "words[:8]"
   ]
  },
  {
   "cell_type": "code",
   "execution_count": 3,
   "id": "164de104",
   "metadata": {},
   "outputs": [
    {
     "data": {
      "text/plain": [
       "32033"
      ]
     },
     "execution_count": 3,
     "metadata": {},
     "output_type": "execute_result"
    }
   ],
   "source": [
    "len(words)"
   ]
  },
  {
   "cell_type": "code",
   "execution_count": 4,
   "id": "d3bd1729",
   "metadata": {},
   "outputs": [
    {
     "name": "stdout",
     "output_type": "stream",
     "text": [
      "{1: 'a', 2: 'b', 3: 'c', 4: 'd', 5: 'e', 6: 'f', 7: 'g', 8: 'h', 9: 'i', 10: 'j', 11: 'k', 12: 'l', 13: 'm', 14: 'n', 15: 'o', 16: 'p', 17: 'q', 18: 'r', 19: 's', 20: 't', 21: 'u', 22: 'v', 23: 'w', 24: 'x', 25: 'y', 26: 'z', 0: '.'}\n",
      "27\n"
     ]
    }
   ],
   "source": [
    "# build the vacabulary of characters and mapping to/from integers\n",
    "chars = sorted(list(set(\"\".join(words))))\n",
    "s2i = {s: i + 1 for i, s in enumerate(chars)}\n",
    "s2i[\".\"] = 0\n",
    "i2s = {i: s for s, i in s2i.items()}\n",
    "vocab_size = len(i2s)\n",
    "print(i2s)\n",
    "print(vocab_size)"
   ]
  },
  {
   "cell_type": "code",
   "execution_count": 5,
   "id": "f03fe4c2",
   "metadata": {},
   "outputs": [
    {
     "name": "stdout",
     "output_type": "stream",
     "text": [
      "torch.Size([182625, 3]) torch.Size([182625])\n",
      "torch.Size([22655, 3]) torch.Size([22655])\n",
      "torch.Size([22866, 3]) torch.Size([22866])\n"
     ]
    }
   ],
   "source": [
    "block_size = 3  # context length: how many characters do we take to predict the next one?\n",
    "\n",
    "def build_dataset(words):\n",
    "    x, y = [], []\n",
    "    \n",
    "    for w in words:\n",
    "        context = [0] * block_size\n",
    "        for ch in w + \".\":\n",
    "            ix = s2i[ch]\n",
    "            x.append(context)\n",
    "            y.append(ix)\n",
    "            context = context[1:] + [ix]  # crop and append\n",
    "\n",
    "    x = torch.tensor(x)\n",
    "    y = torch.tensor(y)\n",
    "    print(x.shape, y.shape)\n",
    "    return x, y\n",
    "\n",
    "import random\n",
    "random.seed(42)\n",
    "random.shuffle(words)\n",
    "n1 = int(0.8 * len(words))\n",
    "n2 = int(0.9 * len(words))\n",
    "\n",
    "x_trn, y_trn = build_dataset(words[:n1])    # 80%\n",
    "x_val, y_val = build_dataset(words[n1:n2])  # 10%\n",
    "x_tst, y_tst = build_dataset(words[n2:])    # 10%"
   ]
  },
  {
   "cell_type": "code",
   "execution_count": 6,
   "id": "a2437662",
   "metadata": {},
   "outputs": [
    {
     "name": "stdout",
     "output_type": "stream",
     "text": [
      "Number of trainable parameters: 11897\n"
     ]
    }
   ],
   "source": [
    "# MLP\n",
    "n_embd = 10  # the dimensionality of the character embedding vectors\n",
    "n_hidden = 200  # the number of neurons in the hidden layer of the MLP\n",
    "\n",
    "g = torch.Generator().manual_seed(2147483647)  # for reproducibility\n",
    "C = torch.randn((vocab_size, n_embd), generator=g)\n",
    "W1 = torch.randn((n_embd * block_size, n_hidden), generator=g)\n",
    "b1 = torch.randn((n_hidden), generator=g)\n",
    "W2 = torch.randn((n_hidden, vocab_size), generator=g)\n",
    "b2 = torch.randn((vocab_size), generator=g)\n",
    "\n",
    "parameters = [C, W1, b1, W2, b2]\n",
    "print(f\"Number of trainable parameters: {sum(p.nelement() for p in parameters)}\")  # total number of parameters in the model\n",
    "\n",
    "for p in parameters:\n",
    "    p.requires_grad = True"
   ]
  },
  {
   "cell_type": "code",
   "execution_count": 7,
   "id": "f91c1338",
   "metadata": {},
   "outputs": [
    {
     "name": "stdout",
     "output_type": "stream",
     "text": [
      "      0/ 200000: 27.8817\n",
      "  10000/ 200000: 2.9417\n",
      "  20000/ 200000: 2.5795\n",
      "  30000/ 200000: 2.7819\n",
      "  40000/ 200000: 2.0216\n",
      "  50000/ 200000: 2.5858\n",
      "  60000/ 200000: 2.3217\n",
      "  70000/ 200000: 2.1007\n",
      "  80000/ 200000: 2.2893\n",
      "  90000/ 200000: 2.2368\n",
      " 100000/ 200000: 1.9774\n",
      " 110000/ 200000: 2.4507\n",
      " 120000/ 200000: 1.9623\n",
      " 130000/ 200000: 2.3657\n",
      " 140000/ 200000: 2.2424\n",
      " 150000/ 200000: 2.1469\n",
      " 160000/ 200000: 2.2506\n",
      " 170000/ 200000: 1.7543\n",
      " 180000/ 200000: 2.1055\n",
      " 190000/ 200000: 1.8174\n"
     ]
    }
   ],
   "source": [
    "max_steps = 200_000\n",
    "bs = 32\n",
    "lossi = []\n",
    "\n",
    "for i in range(max_steps):\n",
    "    # minibatch construct\n",
    "    ix = torch.randint(0, x_trn.shape[0], (bs,), generator=g)\n",
    "    xb, yb = x_trn[ix], y_trn[ix]\n",
    "\n",
    "    # forward pass\n",
    "    emb = C[xb]  # embed the characters into vectors\n",
    "    emb_cat = emb.view((emb.shape[0], -1))  # concat the vectors\n",
    "    h_pre_act = emb_cat @ W1 + b1  # hidden layer pre-activation\n",
    "    h = torch.tanh(h_pre_act)  # hidden layer\n",
    "    logits = h @ W2 + b2  # output layer\n",
    "    loss = F.cross_entropy(logits, yb)  # loss function\n",
    "\n",
    "    # backward pass\n",
    "    for p in parameters:\n",
    "        p.grad = None\n",
    "    loss.backward()\n",
    "    \n",
    "    # update\n",
    "    lr = 0.1 if i < 100_000 else 0.01\n",
    "    with torch.no_grad():\n",
    "        for p in parameters:\n",
    "            p -= lr * p.grad\n",
    "        \n",
    "    # track stats\n",
    "    if i % 10_000 == 0:\n",
    "        print(f\"{i:7d}/{max_steps:7d}: {loss.item():.4f}\")\n",
    "    lossi.append(loss.log10().item())"
   ]
  },
  {
   "cell_type": "code",
   "execution_count": 8,
   "id": "f2e0ef9d",
   "metadata": {},
   "outputs": [
    {
     "data": {
      "image/png": "[encoded data removed]",
      "text/plain": [
       "<Figure size 640x480 with 1 Axes>"
      ]
     },
     "metadata": {},
     "output_type": "display_data"
    }
   ],
   "source": [
    "plt.plot(lossi)\n",
    "plt.title(\"Training Loss\")\n",
    "plt.ylabel(\"Loss\")\n",
    "plt.xlabel(\"Steps\")\n",
    "plt.show()"
   ]
  },
  {
   "cell_type": "code",
   "execution_count": 9,
   "id": "e595080c",
   "metadata": {},
   "outputs": [
    {
     "name": "stdout",
     "output_type": "stream",
     "text": [
      "train 2.126697540283203\n",
      "val 2.171041250228882\n"
     ]
    }
   ],
   "source": [
    "@torch.no_grad()  # this decorator disable gradient tracking\n",
    "def split_loss(split: str):\n",
    "    x, y = {\n",
    "        \"train\": (x_trn, y_trn),\n",
    "        \"val\": (x_val, y_val),\n",
    "        \"test\": (x_tst, y_tst),\n",
    "    }[split]\n",
    "    emb = C[x]  # (bs, block_size, n_embd)\n",
    "    emb_cat = emb.view((emb.shape[0], -1))  # concat into (bs, block_size * n_embd)\n",
    "    h_pre_act = emb_cat @ W1 + b1  # (bs, n_hidden)\n",
    "    h = torch.tanh(h_pre_act)  # (bs, n_hidden)\n",
    "    logits = h @ W2 + b2  # (bs, vocab_size)\n",
    "    loss = F.cross_entropy(logits, y)  \n",
    "    print(split, loss.item())\n",
    "\n",
    "split_loss(\"train\")\n",
    "split_loss(\"val\")"
   ]
  },
  {
   "cell_type": "code",
   "execution_count": 10,
   "id": "f562fab1",
   "metadata": {},
   "outputs": [
    {
     "name": "stdout",
     "output_type": "stream",
     "text": [
      "mona.\n",
      "mayah.\n",
      "see.\n",
      "mel.\n",
      "ryllo.\n",
      "emmadiengramira.\n",
      "eredielin.\n",
      "shy.\n",
      "jen.\n",
      "eden.\n",
      "eson.\n",
      "arleiyah.\n",
      "hone.\n",
      "cayshubergihimier.\n",
      "kendreelynn.\n",
      "nochorius.\n",
      "macder.\n",
      "yaque.\n",
      "ehs.\n",
      "kayjahsin.\n"
     ]
    }
   ],
   "source": [
    "# sample from the model\n",
    "g = torch.Generator().manual_seed(2147483647 + 10)\n",
    "block_size = 3\n",
    "for _ in range(20):\n",
    "    out = []\n",
    "    context = [0] * block_size  # initialize with all ...\n",
    "    while True:\n",
    "        # forward pass of the neural network\n",
    "        emb = C[torch.tensor([context])]  # (1, block_size, d)\n",
    "        h = torch.tanh(emb.view(1, -1) @ W1 + b1)\n",
    "        logits = h @ W2 + b2\n",
    "        probs = F.softmax(logits, dim=1)\n",
    "        # sample from the distribution\n",
    "        ix = torch.multinomial(probs, num_samples=1, generator=g).item()\n",
    "        # shift the context window and track the samples\n",
    "        context = context[1:] + [ix]\n",
    "        out.append(ix)\n",
    "        # if the special \".\" token break\n",
    "        if ix == 0:\n",
    "            break\n",
    "            \n",
    "    print(\"\".join(i2s[i] for i in out))"
   ]
  },
  {
   "cell_type": "markdown",
   "id": "71869538",
   "metadata": {},
   "source": [
    "## Debugging: The logits"
   ]
  },
  {
   "cell_type": "markdown",
   "id": "7d0797b2",
   "metadata": {},
   "source": [
    "The loss we have after the first forward pass is too high, which is a red flag. This could have been caused by a poor initialization. We would expect an initial loss closer to $ - \\log{\\frac{1}{\\text{vocab. lenght}}} = - \\log{\\frac{1}{27}} $. "
   ]
  },
  {
   "cell_type": "code",
   "execution_count": 11,
   "id": "4eb08e6f",
   "metadata": {},
   "outputs": [
    {
     "data": {
      "text/plain": [
       "tensor(3.2958)"
      ]
     },
     "execution_count": 11,
     "metadata": {},
     "output_type": "execute_result"
    }
   ],
   "source": [
    "-torch.tensor(1/27).log()"
   ]
  },
  {
   "cell_type": "markdown",
   "id": "68fe5323",
   "metadata": {},
   "source": [
    "To better understand what is happening, let's use an example using 4 classes."
   ]
  },
  {
   "cell_type": "code",
   "execution_count": 12,
   "id": "7828020d",
   "metadata": {},
   "outputs": [
    {
     "name": "stdout",
     "output_type": "stream",
     "text": [
      "logits: tensor([ 0.3803,  1.7003, -0.7776,  1.0381])\n",
      "loss: 3.102090835571289\n"
     ]
    }
   ],
   "source": [
    "# 4-d example of the issue\n",
    "logits = torch.randn(4)\n",
    "y_true = torch.tensor([0., 0., 1., 0.])\n",
    "loss = F.cross_entropy(input=logits, target=y_true)\n",
    "print(f\"logits: {logits}\\nloss: {loss}\")"
   ]
  },
  {
   "cell_type": "code",
   "execution_count": 13,
   "id": "68ce1cfe",
   "metadata": {},
   "outputs": [
    {
     "name": "stdout",
     "output_type": "stream",
     "text": [
      "logits: tensor([-3.2132, 12.4330, 18.0152, -2.9716])\n",
      "loss: 0.003757323371246457\n"
     ]
    }
   ],
   "source": [
    "# 4-d example of the issue\n",
    "logits = torch.randn(4) * 10  # <-- artificially increase the values of the logits \n",
    "y_true = torch.tensor([0., 0., 1., 0.])\n",
    "loss = F.cross_entropy(input=logits, target=y_true)\n",
    "print(f\"logits: {logits}\\nloss: {loss}\")"
   ]
  },
  {
   "cell_type": "markdown",
   "id": "e2e0058f",
   "metadata": {},
   "source": [
    "What is happening is that the logits generated by our model are too extreme at the beginning of the training process. This causes the loss to become extremely large in those cases when we are very confidently wrong (e.g., high logit for the wrong class, and low logits for the other classes). "
   ]
  },
  {
   "cell_type": "markdown",
   "id": "cb5a305c",
   "metadata": {},
   "source": [
    "Let's inspect the logits after the first forward pass."
   ]
  },
  {
   "cell_type": "code",
   "execution_count": 14,
   "id": "583079de",
   "metadata": {},
   "outputs": [
    {
     "name": "stdout",
     "output_type": "stream",
     "text": [
      "Number of trainable parameters: 11897\n"
     ]
    }
   ],
   "source": [
    "# MLP\n",
    "n_embd = 10  # the dimensionality of the character embedding vectors\n",
    "n_hidden = 200  # the number of neurons in the hidden layer of the MLP\n",
    "\n",
    "g = torch.Generator().manual_seed(2147483647)  # for reproducibility\n",
    "C = torch.randn((vocab_size, n_embd), generator=g)\n",
    "W1 = torch.randn((n_embd * block_size, n_hidden), generator=g)\n",
    "b1 = torch.randn((n_hidden), generator=g)\n",
    "W2 = torch.randn((n_hidden, vocab_size), generator=g)\n",
    "b2 = torch.randn((vocab_size), generator=g)\n",
    "\n",
    "parameters = [C, W1, b1, W2, b2]\n",
    "print(f\"Number of trainable parameters: {sum(p.nelement() for p in parameters)}\")  # total number of parameters in the model\n",
    "\n",
    "for p in parameters:\n",
    "    p.requires_grad = True"
   ]
  },
  {
   "cell_type": "code",
   "execution_count": 15,
   "id": "f0ede012",
   "metadata": {},
   "outputs": [
    {
     "name": "stdout",
     "output_type": "stream",
     "text": [
      "      0/ 200000: 27.8817\n",
      "tensor([ -2.3527,  36.4366, -10.7306,   5.7165,  18.6409, -11.6998,  -2.1991,\n",
      "          1.8535,  10.9996,  10.6730,  12.3507, -10.3809,   4.7243, -24.4257,\n",
      "         -8.5909,   1.9024, -12.2744, -12.4751, -23.2778,  -2.0163,  25.8767,\n",
      "         14.2108,  17.7691, -10.9204, -20.7335,   6.4560,  11.1615],\n",
      "       grad_fn=<SelectBackward0>)\n"
     ]
    }
   ],
   "source": [
    "max_steps = 200_000\n",
    "bs = 32\n",
    "lossi = []\n",
    "\n",
    "for i in range(max_steps):\n",
    "    # minibatch construct\n",
    "    ix = torch.randint(0, x_trn.shape[0], (bs,), generator=g)\n",
    "    xb, yb = x_trn[ix], y_trn[ix]\n",
    "\n",
    "    # forward pass\n",
    "    emb = C[xb]  # embed the characters into vectors\n",
    "    emb_cat = emb.view((emb.shape[0], -1))  # concat the vectors\n",
    "    h_pre_act = emb_cat @ W1 + b1  # hidden layer pre-activation\n",
    "    h = torch.tanh(h_pre_act)  # hidden layer\n",
    "    logits = h @ W2 + b2  # output layer\n",
    "    loss = F.cross_entropy(logits, yb)  # loss function\n",
    "\n",
    "    # backward pass\n",
    "    for p in parameters:\n",
    "        p.grad = None\n",
    "    loss.backward()\n",
    "    \n",
    "    # update\n",
    "    lr = 0.1 if i < 100_000 else 0.01\n",
    "    with torch.no_grad():\n",
    "        for p in parameters:\n",
    "            p -= lr * p.grad\n",
    "        \n",
    "    # track stats\n",
    "    if i % 10_000 == 0:\n",
    "        print(f\"{i:7d}/{max_steps:7d}: {loss.item():.4f}\")\n",
    "        print(logits[0])\n",
    "    lossi.append(loss.log10().item())\n",
    "    \n",
    "    break"
   ]
  },
  {
   "cell_type": "markdown",
   "id": "c2a327fc",
   "metadata": {},
   "source": [
    "To fix this, let's set `b2` to zeroes, and reduce the magnitude of the init values in the `W2` weight matrix."
   ]
  },
  {
   "cell_type": "code",
   "execution_count": 16,
   "id": "c21ff207",
   "metadata": {},
   "outputs": [
    {
     "name": "stdout",
     "output_type": "stream",
     "text": [
      "Number of trainable parameters: 11897\n"
     ]
    }
   ],
   "source": [
    "# MLP\n",
    "n_embd = 10  # the dimensionality of the character embedding vectors\n",
    "n_hidden = 200  # the number of neurons in the hidden layer of the MLP\n",
    "\n",
    "g = torch.Generator().manual_seed(2147483647)  # for reproducibility\n",
    "C = torch.randn((vocab_size, n_embd), generator=g)\n",
    "W1 = torch.randn((n_embd * block_size, n_hidden), generator=g)\n",
    "b1 = torch.randn((n_hidden), generator=g)\n",
    "W2 = torch.randn((n_hidden, vocab_size), generator=g) * 0.01  # not zero!\n",
    "b2 = torch.randn((vocab_size), generator=g) * 0  # reset the bias term\n",
    "\n",
    "parameters = [C, W1, b1, W2, b2]\n",
    "print(f\"Number of trainable parameters: {sum(p.nelement() for p in parameters)}\")  # total number of parameters in the model\n",
    "\n",
    "for p in parameters:\n",
    "    p.requires_grad = True"
   ]
  },
  {
   "cell_type": "code",
   "execution_count": 17,
   "id": "75544320",
   "metadata": {},
   "outputs": [
    {
     "name": "stdout",
     "output_type": "stream",
     "text": [
      "      0/ 200000: 3.3221\n",
      "tensor([-0.0249,  0.3523, -0.1267,  0.0541,  0.1662, -0.1171, -0.0140,  0.0124,\n",
      "         0.0921,  0.1135,  0.1362, -0.0925,  0.0444, -0.2459, -0.0971,  0.0125,\n",
      "        -0.0957, -0.1376, -0.2329, -0.0137,  0.2452,  0.1616,  0.1665, -0.1094,\n",
      "        -0.2154,  0.0725,  0.1141], grad_fn=<SelectBackward0>)\n"
     ]
    }
   ],
   "source": [
    "max_steps = 200_000\n",
    "bs = 32\n",
    "lossi = []\n",
    "\n",
    "for i in range(max_steps):\n",
    "    # minibatch construct\n",
    "    ix = torch.randint(0, x_trn.shape[0], (bs,), generator=g)\n",
    "    xb, yb = x_trn[ix], y_trn[ix]\n",
    "\n",
    "    # forward pass\n",
    "    emb = C[xb]  # embed the characters into vectors\n",
    "    emb_cat = emb.view((emb.shape[0], -1))  # concat the vectors\n",
    "    h_pre_act = emb_cat @ W1 + b1  # hidden layer pre-activation\n",
    "    h = torch.tanh(h_pre_act)  # hidden layer\n",
    "    logits = h @ W2 + b2  # output layer\n",
    "    loss = F.cross_entropy(logits, yb)  # loss function\n",
    "\n",
    "    # backward pass\n",
    "    for p in parameters:\n",
    "        p.grad = None\n",
    "    loss.backward()\n",
    "    \n",
    "    # update\n",
    "    lr = 0.1 if i < 100_000 else 0.01\n",
    "    with torch.no_grad():\n",
    "        for p in parameters:\n",
    "            p -= lr * p.grad\n",
    "        \n",
    "    # track stats\n",
    "    if i % 10_000 == 0:\n",
    "        print(f\"{i:7d}/{max_steps:7d}: {loss.item():.4f}\")\n",
    "        print(logits[0])\n",
    "    lossi.append(loss.log10().item())\n",
    "    \n",
    "    break"
   ]
  },
  {
   "cell_type": "markdown",
   "id": "832ec0c3",
   "metadata": {},
   "source": [
    "This is much better, as the logits are more uniformly distributed, without extreme values. These are the logits from the very first forward pass, so it would be bad if they are heavily biased towards a particular output, as there hasn't been any learning yet (no backprop.).\n",
    "\n",
    "Let's run the full optimization, not just the first forward pass."
   ]
  },
  {
   "cell_type": "code",
   "execution_count": 18,
   "id": "d01f857b",
   "metadata": {},
   "outputs": [
    {
     "name": "stdout",
     "output_type": "stream",
     "text": [
      "Number of trainable parameters: 11897\n"
     ]
    }
   ],
   "source": [
    "# MLP\n",
    "n_embd = 10  # the dimensionality of the character embedding vectors\n",
    "n_hidden = 200  # the number of neurons in the hidden layer of the MLP\n",
    "\n",
    "g = torch.Generator().manual_seed(2147483647)  # for reproducibility\n",
    "C = torch.randn((vocab_size, n_embd), generator=g)\n",
    "W1 = torch.randn((n_embd * block_size, n_hidden), generator=g)\n",
    "b1 = torch.randn((n_hidden), generator=g)\n",
    "W2 = torch.randn((n_hidden, vocab_size), generator=g) * 0.01  # not zero!\n",
    "b2 = torch.randn((vocab_size), generator=g) * 0  # reset the bias term\n",
    "\n",
    "parameters = [C, W1, b1, W2, b2]\n",
    "print(f\"Number of trainable parameters: {sum(p.nelement() for p in parameters)}\")  # total number of parameters in the model\n",
    "\n",
    "for p in parameters:\n",
    "    p.requires_grad = True"
   ]
  },
  {
   "cell_type": "code",
   "execution_count": 19,
   "id": "455e644c",
   "metadata": {},
   "outputs": [
    {
     "name": "stdout",
     "output_type": "stream",
     "text": [
      "      0/ 200000: 3.3221\n",
      "  10000/ 200000: 2.1900\n",
      "  20000/ 200000: 2.4196\n",
      "  30000/ 200000: 2.6067\n",
      "  40000/ 200000: 2.0601\n",
      "  50000/ 200000: 2.4988\n",
      "  60000/ 200000: 2.3902\n",
      "  70000/ 200000: 2.1344\n",
      "  80000/ 200000: 2.3369\n",
      "  90000/ 200000: 2.1299\n",
      " 100000/ 200000: 1.8329\n",
      " 110000/ 200000: 2.2053\n",
      " 120000/ 200000: 1.8540\n",
      " 130000/ 200000: 2.4566\n",
      " 140000/ 200000: 2.1879\n",
      " 150000/ 200000: 2.1118\n",
      " 160000/ 200000: 1.8956\n",
      " 170000/ 200000: 1.8645\n",
      " 180000/ 200000: 2.0326\n",
      " 190000/ 200000: 1.8417\n"
     ]
    }
   ],
   "source": [
    "max_steps = 200_000\n",
    "bs = 32\n",
    "lossi = []\n",
    "\n",
    "for i in range(max_steps):\n",
    "    # minibatch construct\n",
    "    ix = torch.randint(0, x_trn.shape[0], (bs,), generator=g)\n",
    "    xb, yb = x_trn[ix], y_trn[ix]\n",
    "\n",
    "    # forward pass\n",
    "    emb = C[xb]  # embed the characters into vectors\n",
    "    emb_cat = emb.view((emb.shape[0], -1))  # concat the vectors\n",
    "    h_pre_act = emb_cat @ W1 + b1  # hidden layer pre-activation\n",
    "    h = torch.tanh(h_pre_act)  # hidden layer\n",
    "    logits = h @ W2 + b2  # output layer\n",
    "    loss = F.cross_entropy(logits, yb)  # loss function\n",
    "\n",
    "    # backward pass\n",
    "    for p in parameters:\n",
    "        p.grad = None\n",
    "    loss.backward()\n",
    "    \n",
    "    # update\n",
    "    lr = 0.1 if i < 100_000 else 0.01\n",
    "    with torch.no_grad():\n",
    "        for p in parameters:\n",
    "            p -= lr * p.grad\n",
    "        \n",
    "    # track stats\n",
    "    if i % 10_000 == 0:\n",
    "        print(f\"{i:7d}/{max_steps:7d}: {loss.item():.4f}\")\n",
    "    lossi.append(loss.log10().item())"
   ]
  },
  {
   "cell_type": "code",
   "execution_count": 20,
   "id": "ca1939d1",
   "metadata": {},
   "outputs": [
    {
     "name": "stdout",
     "output_type": "stream",
     "text": [
      "train 2.069589138031006\n",
      "val 2.1310744285583496\n"
     ]
    }
   ],
   "source": [
    "@torch.no_grad()  # this decorator disable gradient tracking\n",
    "def split_loss(split: str):\n",
    "    x, y = {\n",
    "        \"train\": (x_trn, y_trn),\n",
    "        \"val\": (x_val, y_val),\n",
    "        \"test\": (x_tst, y_tst),\n",
    "    }[split]\n",
    "    emb = C[x]  # (bs, block_size, n_embd)\n",
    "    emb_cat = emb.view((emb.shape[0], -1))  # concat into (bs, block_size * n_embd)\n",
    "    h_pre_act = emb_cat @ W1 + b1  # (bs, n_hidden)\n",
    "    h = torch.tanh(h_pre_act)  # (bs, n_hidden)\n",
    "    logits = h @ W2 + b2  # (bs, vocab_size)\n",
    "    loss = F.cross_entropy(logits, y)  \n",
    "    print(split, loss.item())\n",
    "\n",
    "split_loss(\"train\")\n",
    "split_loss(\"val\")"
   ]
  },
  {
   "cell_type": "markdown",
   "id": "13189c02",
   "metadata": {},
   "source": [
    "This is a significant improvement over the previous model! The reason for that is that we are spending more cycles learning instead of using the first few thousand iteration to squash down the weights to avoid extreme logits."
   ]
  },
  {
   "cell_type": "markdown",
   "id": "f0bea68d",
   "metadata": {},
   "source": [
    "## Debugging: The hidden activation states"
   ]
  },
  {
   "cell_type": "markdown",
   "id": "c37fb1c5",
   "metadata": {},
   "source": [
    "This time we are going to focus on the values of the hidden layer activations. There are taking on very extreme values, closer to $ -1.0 $ and $ 1.0 $."
   ]
  },
  {
   "cell_type": "code",
   "execution_count": 21,
   "id": "bb0e805d",
   "metadata": {},
   "outputs": [
    {
     "name": "stdout",
     "output_type": "stream",
     "text": [
      "Number of trainable parameters: 11897\n"
     ]
    }
   ],
   "source": [
    "# MLP\n",
    "n_embd = 10  # the dimensionality of the character embedding vectors\n",
    "n_hidden = 200  # the number of neurons in the hidden layer of the MLP\n",
    "\n",
    "g = torch.Generator().manual_seed(2147483647)  # for reproducibility\n",
    "C = torch.randn((vocab_size, n_embd), generator=g)\n",
    "W1 = torch.randn((n_embd * block_size, n_hidden), generator=g)\n",
    "b1 = torch.randn((n_hidden), generator=g)\n",
    "W2 = torch.randn((n_hidden, vocab_size), generator=g) * 0.01  # not zero!\n",
    "b2 = torch.randn((vocab_size), generator=g) * 0  # reset the bias term\n",
    "\n",
    "parameters = [C, W1, b1, W2, b2]\n",
    "print(f\"Number of trainable parameters: {sum(p.nelement() for p in parameters)}\")  # total number of parameters in the model\n",
    "\n",
    "for p in parameters:\n",
    "    p.requires_grad = True"
   ]
  },
  {
   "cell_type": "code",
   "execution_count": 22,
   "id": "82467708",
   "metadata": {},
   "outputs": [
    {
     "name": "stdout",
     "output_type": "stream",
     "text": [
      "      0/ 200000: 3.3221\n",
      "tensor([[ 0.8100, -0.8997, -0.9993,  ..., -0.9097, -1.0000,  1.0000],\n",
      "        [-1.0000, -0.9571, -0.7145,  ...,  0.4898,  0.9090,  0.9937],\n",
      "        [ 0.9983, -0.3340,  1.0000,  ...,  0.9443,  0.9905,  1.0000],\n",
      "        ...,\n",
      "        [-1.0000,  0.9604, -0.1418,  ..., -0.1266,  1.0000,  1.0000],\n",
      "        [-1.0000, -0.4385, -0.8882,  ..., -0.3316,  0.9995,  1.0000],\n",
      "        [-1.0000,  0.9604, -0.1418,  ..., -0.1266,  1.0000,  1.0000]],\n",
      "       grad_fn=<TanhBackward0>)\n"
     ]
    }
   ],
   "source": [
    "max_steps = 200_000\n",
    "bs = 32\n",
    "lossi = []\n",
    "\n",
    "for i in range(max_steps):\n",
    "    # minibatch construct\n",
    "    ix = torch.randint(0, x_trn.shape[0], (bs,), generator=g)\n",
    "    xb, yb = x_trn[ix], y_trn[ix]\n",
    "\n",
    "    # forward pass\n",
    "    emb = C[xb]  # embed the characters into vectors\n",
    "    emb_cat = emb.view((emb.shape[0], -1))  # concat the vectors\n",
    "    h_pre_act = emb_cat @ W1 + b1  # hidden layer pre-activation\n",
    "    h = torch.tanh(h_pre_act)  # hidden layer\n",
    "    logits = h @ W2 + b2  # output layer\n",
    "    loss = F.cross_entropy(logits, yb)  # loss function\n",
    "\n",
    "    # backward pass\n",
    "    for p in parameters:\n",
    "        p.grad = None\n",
    "    loss.backward()\n",
    "    \n",
    "    # update\n",
    "    lr = 0.1 if i < 100_000 else 0.01\n",
    "    with torch.no_grad():\n",
    "        for p in parameters:\n",
    "            p -= lr * p.grad\n",
    "        \n",
    "    # track stats\n",
    "    if i % 10_000 == 0:\n",
    "        print(f\"{i:7d}/{max_steps:7d}: {loss.item():.4f}\")\n",
    "        print(h)\n",
    "    lossi.append(loss.log10().item())\n",
    "    \n",
    "    break"
   ]
  },
  {
   "cell_type": "markdown",
   "id": "09113c41",
   "metadata": {},
   "source": [
    "As a reminder, the tanh function converts value in the $ [-\\infty, \\infty] $ to $ [-1, 1] $."
   ]
  },
  {
   "cell_type": "code",
   "execution_count": 23,
   "id": "1893a32d",
   "metadata": {},
   "outputs": [
    {
     "data": {
      "image/png": "[encoded data removed]",
      "text/plain": [
       "<Figure size 640x480 with 1 Axes>"
      ]
     },
     "metadata": {},
     "output_type": "display_data"
    }
   ],
   "source": [
    "x = torch.linspace(-5, 5, steps=20)\n",
    "y = torch.tanh(x)\n",
    "plt.plot(x, y)\n",
    "plt.vlines(x=0, ymin=-1, ymax=1, color=\"black\")\n",
    "plt.hlines(y=0, xmin=-5, xmax=5, color=\"black\")\n",
    "plt.show()"
   ]
  },
  {
   "cell_type": "markdown",
   "id": "9bad2a0e",
   "metadata": {},
   "source": [
    "Unfortunately, in our case, it seems that our hidden layer activations are -1 or 1 too often, instead of being more evenly distributed."
   ]
  },
  {
   "cell_type": "code",
   "execution_count": 24,
   "id": "c6afe63c",
   "metadata": {},
   "outputs": [
    {
     "data": {
      "image/png": "[encoded data removed]",
      "text/plain": [
       "<Figure size 640x480 with 1 Axes>"
      ]
     },
     "metadata": {},
     "output_type": "display_data"
    }
   ],
   "source": [
    "plt.hist(h.view(-1).tolist(), bins=50)\n",
    "plt.show()"
   ]
  },
  {
   "cell_type": "markdown",
   "id": "de3fc486",
   "metadata": {},
   "source": [
    "The root cause of that is the values of the hidden layer's preactivations. These are often lower than -2 or higher than 2, which correspond to value respectively very close to -1 and 1 aften passing through the tanh function."
   ]
  },
  {
   "cell_type": "code",
   "execution_count": 25,
   "id": "daa44049",
   "metadata": {},
   "outputs": [
    {
     "data": {
      "image/png": "[encoded data removed]",
      "text/plain": [
       "<Figure size 640x480 with 1 Axes>"
      ]
     },
     "metadata": {},
     "output_type": "display_data"
    }
   ],
   "source": [
    "plt.hist(h_pre_act.view(-1).tolist(), bins=50)\n",
    "plt.show()"
   ]
  },
  {
   "cell_type": "markdown",
   "id": "0f007ec8",
   "metadata": {},
   "source": [
    "This is very concerning as the gradient of the tanh operation is:\n",
    "\n",
    "```python \n",
    "self.grad += (1 - t**2) * out.grad\n",
    "```\n",
    "\n",
    "As the value of $ t $ approximite 1, we are backpropagating less and less. At the limit, the gradient will be 0. The more we are in the flat tail of the tanh distribution, the more the gradient is closer to zero. Intuitively, smaller changes of the input will not change the output. See the plot of the distribution to verify that.\n",
    "\n",
    "This is an example of a \"vanishing gradient\" issue. Conversely, when the tanh is equal to 0, the gradient pass-through.\n",
    "\n",
    "There are, however, some redeeming qualities. We would be in trouble in an entire column in the following graph was white ― which is not the case. If that was true, we would have a \"dead neuron\". Dead neurons are neurons where the initialization of the weights and biases are such that that no single example ever activates this tanh in the active part of the tanh. If all of the examples land in the tails of the tanh, this neuron will never learn, it is a \"dead neuron\".\n",
    "\n",
    "Note that this phenomenon can happens also for other activations, not just tanh."
   ]
  },
  {
   "cell_type": "code",
   "execution_count": 26,
   "id": "c4110b02",
   "metadata": {},
   "outputs": [
    {
     "data": {
      "image/png": "[encoded data removed]",
      "text/plain": [
       "<Figure size 2000x1000 with 1 Axes>"
      ]
     },
     "metadata": {},
     "output_type": "display_data"
    }
   ],
   "source": [
    "plt.figure(figsize=(20, 10))\n",
    "plt.imshow(h.abs() > 0.99, cmap=\"gray\", interpolation=\"nearest\")\n",
    "plt.xlabel(\"Tanh Neurons\")\n",
    "plt.ylabel(\"Samples\")\n",
    "plt.show()"
   ]
  },
  {
   "cell_type": "markdown",
   "id": "ebadae04",
   "metadata": {},
   "source": [
    "Importantly, here we are only looking at the first batch. If a white column would appear in the first batch, we would still have to inspect the rest of the samples in our training set. It could be that the neuron is inactive only for one batch, but active in others. A \"dead neuron\" is a sort of permanent brain damage.\n",
    "\n",
    "Even if the \"dead neuron\" issue is not occurring, we are still not happy with the distribution above ― especially after initialization. All of these extreme value in the hidden layer activation cause the network to not learning as much. \n",
    "\n",
    "To fix the issue, we are going to multiply both `W1` by 0.2 and `b1` by 0.01. "
   ]
  },
  {
   "cell_type": "code",
   "execution_count": 27,
   "id": "085a2df9",
   "metadata": {},
   "outputs": [
    {
     "name": "stdout",
     "output_type": "stream",
     "text": [
      "Number of trainable parameters: 11897\n"
     ]
    }
   ],
   "source": [
    "# MLP\n",
    "n_embd = 10  # the dimensionality of the character embedding vectors\n",
    "n_hidden = 200  # the number of neurons in the hidden layer of the MLP\n",
    "\n",
    "g = torch.Generator().manual_seed(2147483647)  # for reproducibility\n",
    "C = torch.randn((vocab_size, n_embd), generator=g)\n",
    "W1 = torch.randn((n_embd * block_size, n_hidden), generator=g) * 0.2\n",
    "b1 = torch.randn((n_hidden), generator=g) * 0.01\n",
    "W2 = torch.randn((n_hidden, vocab_size), generator=g) * 0.01  # not zero!\n",
    "b2 = torch.randn((vocab_size), generator=g) * 0  # reset the bias term\n",
    "\n",
    "parameters = [C, W1, b1, W2, b2]\n",
    "print(f\"Number of trainable parameters: {sum(p.nelement() for p in parameters)}\")  # total number of parameters in the model\n",
    "\n",
    "for p in parameters:\n",
    "    p.requires_grad = True"
   ]
  },
  {
   "cell_type": "code",
   "execution_count": 28,
   "id": "c6b30589",
   "metadata": {},
   "outputs": [
    {
     "name": "stdout",
     "output_type": "stream",
     "text": [
      "      0/ 200000: 3.3135\n",
      "tensor([[ 0.5503, -0.1064, -0.6658,  ..., -0.3477, -0.9756,  0.8880],\n",
      "        [-0.9081, -0.1924, -0.1833,  ...,  0.0494,  0.4942,  0.4397],\n",
      "        [ 0.8016,  0.1173,  0.8237,  ...,  0.2890,  0.6476,  0.8827],\n",
      "        ...,\n",
      "        [-0.9190,  0.5208, -0.0346,  ..., -0.0830,  0.8660,  0.8849],\n",
      "        [-0.9362,  0.0930, -0.2810,  ..., -0.1260,  0.7874,  0.9102],\n",
      "        [-0.9190,  0.5208, -0.0346,  ..., -0.0830,  0.8660,  0.8849]],\n",
      "       grad_fn=<TanhBackward0>)\n"
     ]
    }
   ],
   "source": [
    "max_steps = 200_000\n",
    "bs = 32\n",
    "lossi = []\n",
    "\n",
    "for i in range(max_steps):\n",
    "    # minibatch construct\n",
    "    ix = torch.randint(0, x_trn.shape[0], (bs,), generator=g)\n",
    "    xb, yb = x_trn[ix], y_trn[ix]\n",
    "\n",
    "    # forward pass\n",
    "    emb = C[xb]  # embed the characters into vectors\n",
    "    emb_cat = emb.view((emb.shape[0], -1))  # concat the vectors\n",
    "    h_pre_act = emb_cat @ W1 + b1  # hidden layer pre-activation\n",
    "    h = torch.tanh(h_pre_act)  # hidden layer\n",
    "    logits = h @ W2 + b2  # output layer\n",
    "    loss = F.cross_entropy(logits, yb)  # loss function\n",
    "\n",
    "    # backward pass\n",
    "    for p in parameters:\n",
    "        p.grad = None\n",
    "    loss.backward()\n",
    "    \n",
    "    # update\n",
    "    lr = 0.1 if i < 100_000 else 0.01\n",
    "    with torch.no_grad():\n",
    "        for p in parameters:\n",
    "            p -= lr * p.grad\n",
    "        \n",
    "    # track stats\n",
    "    if i % 10_000 == 0:\n",
    "        print(f\"{i:7d}/{max_steps:7d}: {loss.item():.4f}\")\n",
    "        print(h)\n",
    "    lossi.append(loss.log10().item())\n",
    "    \n",
    "    break"
   ]
  },
  {
   "cell_type": "code",
   "execution_count": 29,
   "id": "b9785a33",
   "metadata": {},
   "outputs": [
    {
     "data": {
      "image/png": "[encoded data removed]",
      "text/plain": [
       "<Figure size 640x480 with 1 Axes>"
      ]
     },
     "metadata": {},
     "output_type": "display_data"
    }
   ],
   "source": [
    "plt.hist(h.view(-1).tolist(), bins=50)\n",
    "plt.show()"
   ]
  },
  {
   "cell_type": "code",
   "execution_count": 30,
   "id": "5da916b1",
   "metadata": {},
   "outputs": [
    {
     "data": {
      "image/png": "[encoded data removed]",
      "text/plain": [
       "<Figure size 640x480 with 1 Axes>"
      ]
     },
     "metadata": {},
     "output_type": "display_data"
    }
   ],
   "source": [
    "plt.hist(h_pre_act.view(-1).tolist(), bins=50)\n",
    "plt.show()"
   ]
  },
  {
   "cell_type": "code",
   "execution_count": 31,
   "id": "3a7c3323",
   "metadata": {},
   "outputs": [
    {
     "data": {
      "image/png": "[encoded data removed]",
      "text/plain": [
       "<Figure size 2000x1000 with 1 Axes>"
      ]
     },
     "metadata": {},
     "output_type": "display_data"
    }
   ],
   "source": [
    "plt.figure(figsize=(20, 10))\n",
    "plt.imshow(h.abs() > 0.99, cmap=\"gray\", interpolation=\"nearest\")\n",
    "plt.xlabel(\"Tanh Neurons\")\n",
    "plt.ylabel(\"Samples\")\n",
    "plt.show()"
   ]
  },
  {
   "cell_type": "markdown",
   "id": "cf91d676",
   "metadata": {},
   "source": [
    "Now let's train the network with these fixes in place. "
   ]
  },
  {
   "cell_type": "code",
   "execution_count": 32,
   "id": "83db5bf5",
   "metadata": {},
   "outputs": [
    {
     "name": "stdout",
     "output_type": "stream",
     "text": [
      "Number of trainable parameters: 11897\n"
     ]
    }
   ],
   "source": [
    "# MLP\n",
    "n_embd = 10  # the dimensionality of the character embedding vectors\n",
    "n_hidden = 200  # the number of neurons in the hidden layer of the MLP\n",
    "\n",
    "g = torch.Generator().manual_seed(2147483647)  # for reproducibility\n",
    "C = torch.randn((vocab_size, n_embd), generator=g)\n",
    "W1 = torch.randn((n_embd * block_size, n_hidden), generator=g) * 0.2\n",
    "b1 = torch.randn((n_hidden), generator=g) * 0.01\n",
    "W2 = torch.randn((n_hidden, vocab_size), generator=g) * 0.01  # not zero!\n",
    "b2 = torch.randn((vocab_size), generator=g) * 0  # reset the bias term\n",
    "\n",
    "parameters = [C, W1, b1, W2, b2]\n",
    "print(f\"Number of trainable parameters: {sum(p.nelement() for p in parameters)}\")  # total number of parameters in the model\n",
    "\n",
    "for p in parameters:\n",
    "    p.requires_grad = True"
   ]
  },
  {
   "cell_type": "code",
   "execution_count": 33,
   "id": "0e89ebde",
   "metadata": {},
   "outputs": [
    {
     "name": "stdout",
     "output_type": "stream",
     "text": [
      "      0/ 200000: 3.3135\n",
      "  10000/ 200000: 2.1648\n",
      "  20000/ 200000: 2.3061\n",
      "  30000/ 200000: 2.4541\n",
      "  40000/ 200000: 1.9787\n",
      "  50000/ 200000: 2.2930\n",
      "  60000/ 200000: 2.4232\n",
      "  70000/ 200000: 2.0680\n",
      "  80000/ 200000: 2.3095\n",
      "  90000/ 200000: 2.1207\n",
      " 100000/ 200000: 1.8269\n",
      " 110000/ 200000: 2.2045\n",
      " 120000/ 200000: 1.9797\n",
      " 130000/ 200000: 2.3946\n",
      " 140000/ 200000: 2.1000\n",
      " 150000/ 200000: 2.1948\n",
      " 160000/ 200000: 1.8619\n",
      " 170000/ 200000: 1.7809\n",
      " 180000/ 200000: 1.9673\n",
      " 190000/ 200000: 1.8295\n"
     ]
    }
   ],
   "source": [
    "max_steps = 200_000\n",
    "bs = 32\n",
    "lossi = []\n",
    "\n",
    "for i in range(max_steps):\n",
    "    # minibatch construct\n",
    "    ix = torch.randint(0, x_trn.shape[0], (bs,), generator=g)\n",
    "    xb, yb = x_trn[ix], y_trn[ix]\n",
    "\n",
    "    # forward pass\n",
    "    emb = C[xb]  # embed the characters into vectors\n",
    "    emb_cat = emb.view((emb.shape[0], -1))  # concat the vectors\n",
    "    h_pre_act = emb_cat @ W1 + b1  # hidden layer pre-activation\n",
    "    h = torch.tanh(h_pre_act)  # hidden layer\n",
    "    logits = h @ W2 + b2  # output layer\n",
    "    loss = F.cross_entropy(logits, yb)  # loss function\n",
    "\n",
    "    # backward pass\n",
    "    for p in parameters:\n",
    "        p.grad = None\n",
    "    loss.backward()\n",
    "    \n",
    "    # update\n",
    "    lr = 0.1 if i < 100_000 else 0.01\n",
    "    with torch.no_grad():\n",
    "        for p in parameters:\n",
    "            p -= lr * p.grad\n",
    "        \n",
    "    # track stats\n",
    "    if i % 10_000 == 0:\n",
    "        print(f\"{i:7d}/{max_steps:7d}: {loss.item():.4f}\")\n",
    "    lossi.append(loss.log10().item())"
   ]
  },
  {
   "cell_type": "code",
   "execution_count": 34,
   "id": "a163363a",
   "metadata": {},
   "outputs": [
    {
     "data": {
      "image/png": "[encoded data removed]",
      "text/plain": [
       "<Figure size 640x480 with 1 Axes>"
      ]
     },
     "metadata": {},
     "output_type": "display_data"
    }
   ],
   "source": [
    "plt.plot(lossi)\n",
    "plt.title(\"Training Loss\")\n",
    "plt.ylabel(\"Loss\")\n",
    "plt.xlabel(\"Steps\")\n",
    "plt.show()"
   ]
  },
  {
   "cell_type": "code",
   "execution_count": 35,
   "id": "736fc053",
   "metadata": {},
   "outputs": [
    {
     "name": "stdout",
     "output_type": "stream",
     "text": [
      "train 2.0355963706970215\n",
      "val 2.1026782989501953\n"
     ]
    }
   ],
   "source": [
    "@torch.no_grad()  # this decorator disable gradient tracking\n",
    "def split_loss(split: str):\n",
    "    x, y = {\n",
    "        \"train\": (x_trn, y_trn),\n",
    "        \"val\": (x_val, y_val),\n",
    "        \"test\": (x_tst, y_tst),\n",
    "    }[split]\n",
    "    emb = C[x]  # (bs, block_size, n_embd)\n",
    "    emb_cat = emb.view((emb.shape[0], -1))  # concat into (bs, block_size * n_embd)\n",
    "    h_pre_act = emb_cat @ W1 + b1  # (bs, n_hidden)\n",
    "    h = torch.tanh(h_pre_act)  # (bs, n_hidden)\n",
    "    logits = h @ W2 + b2  # (bs, vocab_size)\n",
    "    loss = F.cross_entropy(logits, y)  \n",
    "    print(split, loss.item())\n",
    "\n",
    "split_loss(\"train\")\n",
    "split_loss(\"val\")"
   ]
  },
  {
   "cell_type": "markdown",
   "id": "32010ac4",
   "metadata": {},
   "source": [
    "As we can see, we were able to make some improvements by fixing the softmax overconfidence issue, and the saturation of the tanh layer. Despite that, the original model was not too bad. This is the case because we are working with a very shallow network. If we were working with a much deeper network, of say 50 layers, these problems will stack up and getting to a place where the network is not learning anything if the init is bad enough. The deeper the network is, the least forgiving it is."
   ]
  },
  {
   "cell_type": "code",
   "execution_count": 36,
   "id": "20b4552c",
   "metadata": {},
   "outputs": [],
   "source": [
    "# loss log\n",
    "\n",
    "# original:\n",
    "# train 2.126697540283203\n",
    "# val 2.171041250228882\n",
    "\n",
    "# fix softmax confidently wrong:\n",
    "# train 2.069589138031006\n",
    "# val 2.1310744285583496\n",
    "\n",
    "# fix tanh layer too saturated at init:\n",
    "# train 2.0355963706970215\n",
    "# val 2.1026782989501953"
   ]
  },
  {
   "cell_type": "code",
   "execution_count": 37,
   "id": "a36c44f7",
   "metadata": {},
   "outputs": [
    {
     "name": "stdout",
     "output_type": "stream",
     "text": [
      "mora.\n",
      "mayah.\n",
      "see.\n",
      "mad.\n",
      "ryll.\n",
      "renvestendraegusteredielin.\n",
      "shi.\n",
      "jen.\n",
      "edeiseananar.\n",
      "kayzion.\n",
      "kamin.\n",
      "shubergianaiya.\n",
      "kinde.\n",
      "jennex.\n",
      "teron.\n",
      "ububynder.\n",
      "yarue.\n",
      "els.\n",
      "kayshaykella.\n",
      "hal.\n"
     ]
    }
   ],
   "source": [
    "# sample from the model\n",
    "g = torch.Generator().manual_seed(2147483647 + 10)\n",
    "block_size = 3\n",
    "for _ in range(20):\n",
    "    out = []\n",
    "    context = [0] * block_size  # initialize with all ...\n",
    "    while True:\n",
    "        # forward pass of the neural network\n",
    "        emb = C[torch.tensor([context])]  # (1, block_size, d)\n",
    "        h = torch.tanh(emb.view(1, -1) @ W1 + b1)\n",
    "        logits = h @ W2 + b2\n",
    "        probs = F.softmax(logits, dim=1)\n",
    "        # sample from the distribution\n",
    "        ix = torch.multinomial(probs, num_samples=1, generator=g).item()\n",
    "        # shift the context window and track the samples\n",
    "        context = context[1:] + [ix]\n",
    "        out.append(ix)\n",
    "        # if the special \".\" token break\n",
    "        if ix == 0:\n",
    "            break\n",
    "            \n",
    "    print(\"\".join(i2s[i] for i in out))"
   ]
  },
  {
   "cell_type": "markdown",
   "id": "0dd19fa8",
   "metadata": {},
   "source": [
    "### How did we came up with those scaling factors?"
   ]
  },
  {
   "cell_type": "code",
   "execution_count": 38,
   "id": "206ca4f9",
   "metadata": {},
   "outputs": [
    {
     "data": {
      "image/png": "[encoded data removed]",
      "text/plain": [
       "<Figure size 2000x500 with 2 Axes>"
      ]
     },
     "metadata": {},
     "output_type": "display_data"
    }
   ],
   "source": [
    "x = torch.randn(1000, 10)\n",
    "w = torch.randn(10, 200)\n",
    "y = x @ w\n",
    "\n",
    "plt.figure(figsize=(20, 5))\n",
    "plt.subplot(121)\n",
    "plt.hist(x.view(-1).tolist(), 50, density=True)\n",
    "plt.title(f\"X distribution, mean: {x.mean():.4f}, std: {x.std():.4f}\")\n",
    "plt.subplot(122)\n",
    "plt.hist(y.view(-1).tolist(), 50, density=True)\n",
    "plt.title(f\"Y distribution, mean: {y.mean():.4f}, std: {y.std():.4f}\")\n",
    "plt.show()"
   ]
  },
  {
   "cell_type": "code",
   "execution_count": 39,
   "id": "bc8fde4a",
   "metadata": {},
   "outputs": [
    {
     "data": {
      "image/png": "[encoded data removed]",
      "text/plain": [
       "<Figure size 2000x500 with 2 Axes>"
      ]
     },
     "metadata": {},
     "output_type": "display_data"
    }
   ],
   "source": [
    "x = torch.randn(1000, 10)\n",
    "w = torch.randn(10, 200) / 10**0.5\n",
    "y = x @ w\n",
    "\n",
    "plt.figure(figsize=(20, 5))\n",
    "plt.subplot(121)\n",
    "plt.hist(x.view(-1).tolist(), 50, density=True)\n",
    "plt.title(f\"X distribution, mean: {x.mean():.4f}, std: {x.std():.4f}\")\n",
    "plt.subplot(122)\n",
    "plt.hist(y.view(-1).tolist(), 50, density=True)\n",
    "plt.title(f\"Y distribution, mean: {y.mean():.4f}, std: {y.std():.4f}\")\n",
    "plt.show()"
   ]
  },
  {
   "cell_type": "markdown",
   "id": "0fce8b28",
   "metadata": {},
   "source": [
    "The paper [Delving Deep into Rectifiers, He et. al.](https://arxiv.org/abs/1502.01852) investigates how to best initialize these networks, particularly for ReLU and PReLU non-linearities. But the analysis would be very similar for other non-linearities. This initialization is very common nowadays, and implemented in PyTorch with the [`torch.nn.init.kaiming_normal_`](https://pytorch.org/docs/stable/nn.init.html#torch.nn.init.kaiming_normal_) function."
   ]
  },
  {
   "cell_type": "markdown",
   "id": "72b8dc8f",
   "metadata": {},
   "source": [
    "What we did above was to implement something similar to the Kaiming He init. "
   ]
  },
  {
   "cell_type": "code",
   "execution_count": 40,
   "id": "d848bb60",
   "metadata": {},
   "outputs": [
    {
     "data": {
      "text/plain": [
       "0.3042903097250923"
      ]
     },
     "execution_count": 40,
     "metadata": {},
     "output_type": "execute_result"
    }
   ],
   "source": [
    "gain = 5/3  # https://pytorch.org/docs/stable/nn.init.html#torch.nn.init.calculate_gain\n",
    "fan_in = n_embd * block_size\n",
    "\n",
    "std = gain / (fan_in**0.5)\n",
    "std"
   ]
  },
  {
   "cell_type": "markdown",
   "id": "8ae913f0",
   "metadata": {},
   "source": [
    "Let's try to use the real thing."
   ]
  },
  {
   "cell_type": "code",
   "execution_count": 41,
   "id": "9f09fb74",
   "metadata": {},
   "outputs": [
    {
     "name": "stdout",
     "output_type": "stream",
     "text": [
      "Number of trainable parameters: 11897\n"
     ]
    }
   ],
   "source": [
    "# MLP\n",
    "n_embd = 10  # the dimensionality of the character embedding vectors\n",
    "n_hidden = 200  # the number of neurons in the hidden layer of the MLP\n",
    "\n",
    "g = torch.Generator().manual_seed(2147483647)  # for reproducibility\n",
    "C = torch.randn((vocab_size, n_embd), generator=g)\n",
    "W1 = torch.randn((n_embd * block_size, n_hidden), generator=g) * (5/3) / ((n_embd * block_size)**0.5)\n",
    "b1 = torch.randn((n_hidden), generator=g) * 0.01\n",
    "W2 = torch.randn((n_hidden, vocab_size), generator=g) * (5/3) / ((n_hidden)**0.5)\n",
    "b2 = torch.randn((vocab_size), generator=g) * 0  # reset the bias term\n",
    "\n",
    "parameters = [C, W1, b1, W2, b2]\n",
    "print(f\"Number of trainable parameters: {sum(p.nelement() for p in parameters)}\")  # total number of parameters in the model\n",
    "\n",
    "for p in parameters:\n",
    "    p.requires_grad = True"
   ]
  },
  {
   "cell_type": "code",
   "execution_count": 42,
   "id": "9c125794",
   "metadata": {},
   "outputs": [
    {
     "name": "stdout",
     "output_type": "stream",
     "text": [
      "      0/ 200000: 4.1627\n",
      "  10000/ 200000: 2.1838\n",
      "  20000/ 200000: 2.3984\n",
      "  30000/ 200000: 2.4408\n",
      "  40000/ 200000: 1.9492\n",
      "  50000/ 200000: 2.3230\n",
      "  60000/ 200000: 2.4580\n",
      "  70000/ 200000: 2.1214\n",
      "  80000/ 200000: 2.3010\n",
      "  90000/ 200000: 2.2164\n",
      " 100000/ 200000: 1.8441\n",
      " 110000/ 200000: 2.1224\n",
      " 120000/ 200000: 1.8953\n",
      " 130000/ 200000: 2.4402\n",
      " 140000/ 200000: 2.0976\n",
      " 150000/ 200000: 2.1316\n",
      " 160000/ 200000: 1.8384\n",
      " 170000/ 200000: 1.8277\n",
      " 180000/ 200000: 1.8689\n",
      " 190000/ 200000: 1.8078\n"
     ]
    }
   ],
   "source": [
    "max_steps = 200_000\n",
    "bs = 32\n",
    "lossi = []\n",
    "\n",
    "for i in range(max_steps):\n",
    "    # minibatch construct\n",
    "    ix = torch.randint(0, x_trn.shape[0], (bs,), generator=g)\n",
    "    xb, yb = x_trn[ix], y_trn[ix]\n",
    "\n",
    "    # forward pass\n",
    "    emb = C[xb]  # embed the characters into vectors\n",
    "    emb_cat = emb.view((emb.shape[0], -1))  # concat the vectors\n",
    "    h_pre_act = emb_cat @ W1 + b1  # hidden layer pre-activation\n",
    "    h = torch.tanh(h_pre_act)  # hidden layer\n",
    "    logits = h @ W2 + b2  # output layer\n",
    "    loss = F.cross_entropy(logits, yb)  # loss function\n",
    "\n",
    "    # backward pass\n",
    "    for p in parameters:\n",
    "        p.grad = None\n",
    "    loss.backward()\n",
    "    \n",
    "    # update\n",
    "    lr = 0.1 if i < 100_000 else 0.01\n",
    "    with torch.no_grad():\n",
    "        for p in parameters:\n",
    "            p -= lr * p.grad\n",
    "        \n",
    "    # track stats\n",
    "    if i % 10_000 == 0:\n",
    "        print(f\"{i:7d}/{max_steps:7d}: {loss.item():.4f}\")\n",
    "    lossi.append(loss.log10().item())"
   ]
  },
  {
   "cell_type": "code",
   "execution_count": 43,
   "id": "0c06055f",
   "metadata": {},
   "outputs": [
    {
     "data": {
      "image/png": "[encoded data removed]",
      "text/plain": [
       "<Figure size 640x480 with 1 Axes>"
      ]
     },
     "metadata": {},
     "output_type": "display_data"
    }
   ],
   "source": [
    "plt.plot(lossi)\n",
    "plt.title(\"Training Loss\")\n",
    "plt.ylabel(\"Loss\")\n",
    "plt.xlabel(\"Steps\")\n",
    "plt.show()"
   ]
  },
  {
   "cell_type": "code",
   "execution_count": 44,
   "id": "ffa0e1e2",
   "metadata": {},
   "outputs": [
    {
     "name": "stdout",
     "output_type": "stream",
     "text": [
      "train 2.037997007369995\n",
      "val 2.1054441928863525\n"
     ]
    }
   ],
   "source": [
    "@torch.no_grad()  # this decorator disable gradient tracking\n",
    "def split_loss(split: str):\n",
    "    x, y = {\n",
    "        \"train\": (x_trn, y_trn),\n",
    "        \"val\": (x_val, y_val),\n",
    "        \"test\": (x_tst, y_tst),\n",
    "    }[split]\n",
    "    emb = C[x]  # (bs, block_size, n_embd)\n",
    "    emb_cat = emb.view((emb.shape[0], -1))  # concat into (bs, block_size * n_embd)\n",
    "    h_pre_act = emb_cat @ W1 + b1  # (bs, n_hidden)\n",
    "    h = torch.tanh(h_pre_act)  # (bs, n_hidden)\n",
    "    logits = h @ W2 + b2  # (bs, vocab_size)\n",
    "    loss = F.cross_entropy(logits, y)  \n",
    "    print(split, loss.item())\n",
    "\n",
    "split_loss(\"train\")\n",
    "split_loss(\"val\")"
   ]
  },
  {
   "cell_type": "code",
   "execution_count": 45,
   "id": "b6a40557",
   "metadata": {},
   "outputs": [],
   "source": [
    "# loss log\n",
    "\n",
    "# original:\n",
    "# train 2.126697540283203\n",
    "# val 2.171041250228882\n",
    "\n",
    "# fix softmax confidently wrong:\n",
    "# train 2.069589138031006\n",
    "# val 2.1310744285583496\n",
    "\n",
    "# fix tanh layer too saturated at init:\n",
    "# train 2.0355963706970215\n",
    "# val 2.1026782989501953\n",
    "\n",
    "# kaiming normal\n",
    "# train 2.037997007369995\n",
    "# val 2.1054441928863525"
   ]
  },
  {
   "cell_type": "markdown",
   "id": "6bb92534",
   "metadata": {},
   "source": [
    "We roughly got to the same place, but without using \"magic numbers\". That's a win!"
   ]
  },
  {
   "cell_type": "code",
   "execution_count": 46,
   "id": "e9fe6a68",
   "metadata": {},
   "outputs": [
    {
     "name": "stdout",
     "output_type": "stream",
     "text": [
      "mora.\n",
      "mayah.\n",
      "seel.\n",
      "ndyn.\n",
      "aleren.\n",
      "ruthndraegan.\n",
      "eledgelin.\n",
      "shi.\n",
      "jen.\n",
      "eden.\n",
      "estanaraelyzion.\n",
      "kamin.\n",
      "shub.\n",
      "roshiriel.\n",
      "kin.\n",
      "renlynn.\n",
      "novana.\n",
      "ubrence.\n",
      "ryyah.\n",
      "fael.\n"
     ]
    }
   ],
   "source": [
    "# sample from the model\n",
    "g = torch.Generator().manual_seed(2147483647 + 10)\n",
    "block_size = 3\n",
    "for _ in range(20):\n",
    "    out = []\n",
    "    context = [0] * block_size  # initialize with all ...\n",
    "    while True:\n",
    "        # forward pass of the neural network\n",
    "        emb = C[torch.tensor([context])]  # (1, block_size, d)\n",
    "        h = torch.tanh(emb.view(1, -1) @ W1 + b1)\n",
    "        logits = h @ W2 + b2\n",
    "        probs = F.softmax(logits, dim=1)\n",
    "        # sample from the distribution\n",
    "        ix = torch.multinomial(probs, num_samples=1, generator=g).item()\n",
    "        # shift the context window and track the samples\n",
    "        context = context[1:] + [ix]\n",
    "        out.append(ix)\n",
    "        # if the special \".\" token break\n",
    "        if ix == 0:\n",
    "            break\n",
    "            \n",
    "    print(\"\".join(i2s[i] for i in out))"
   ]
  },
  {
   "cell_type": "markdown",
   "id": "11a04075",
   "metadata": {},
   "source": [
    "## Batch Normalization\n",
    "\n",
    "Ref.: [Batch Normalization: Accelerating Deep Network Training by Reducing Internal Covariate Shift\n",
    ", Ioffe et. al.](https://arxiv.org/abs/1502.03167)"
   ]
  },
  {
   "cell_type": "markdown",
   "id": "59bd4088",
   "metadata": {},
   "source": [
    "The intuition is that we want `h_pre_act` to be gaussian, before passing them to the activation function, at least after initialization. So, why not implementing a layer that does just that?\n",
    "\n",
    "Again, if the `h_pre_act` are to close to 0, they are inactive, if too close to -1 or 1, they are too saturated."
   ]
  },
  {
   "cell_type": "code",
   "execution_count": 47,
   "id": "f408cb9a",
   "metadata": {},
   "outputs": [
    {
     "name": "stdout",
     "output_type": "stream",
     "text": [
      "Number of trainable parameters: 12097\n"
     ]
    }
   ],
   "source": [
    "# MLP\n",
    "n_embd = 10  # the dimensionality of the character embedding vectors\n",
    "n_hidden = 200  # the number of neurons in the hidden layer of the MLP\n",
    "\n",
    "g = torch.Generator().manual_seed(2147483647)  # for reproducibility\n",
    "C = torch.randn((vocab_size, n_embd), generator=g)\n",
    "W1 = torch.randn((n_embd * block_size, n_hidden), generator=g) * (5/3) / ((n_embd * block_size)**0.5)\n",
    "# b1 = torch.randn((n_hidden), generator=g) * 0.01\n",
    "W2 = torch.randn((n_hidden, vocab_size), generator=g) * (5/3) / ((n_hidden)**0.5)\n",
    "b2 = torch.randn((vocab_size), generator=g) * 0  # reset the bias term\n",
    "\n",
    "# batch norm parameters\n",
    "bngain = torch.ones((1, n_hidden))\n",
    "bnbias = torch.zeros((1, n_hidden))\n",
    "bnmean_running = torch.zeros((1, n_hidden))\n",
    "bnstd_running = torch.ones((1, n_hidden))\n",
    "\n",
    "parameters = [C, W1, W2, b2, bngain, bnbias]\n",
    "print(f\"Number of trainable parameters: {sum(p.nelement() for p in parameters)}\")  # total number of parameters in the model\n",
    "\n",
    "for p in parameters:\n",
    "    p.requires_grad = True"
   ]
  },
  {
   "cell_type": "code",
   "execution_count": 48,
   "id": "13695c37",
   "metadata": {},
   "outputs": [
    {
     "name": "stdout",
     "output_type": "stream",
     "text": [
      "      0/ 200000: 4.1357\n",
      "  10000/ 200000: 2.0278\n",
      "  20000/ 200000: 2.6558\n",
      "  30000/ 200000: 2.0230\n",
      "  40000/ 200000: 2.2787\n",
      "  50000/ 200000: 1.8606\n",
      "  60000/ 200000: 2.0680\n",
      "  70000/ 200000: 2.3552\n",
      "  80000/ 200000: 2.3466\n",
      "  90000/ 200000: 2.1315\n",
      " 100000/ 200000: 2.3130\n",
      " 110000/ 200000: 2.2493\n",
      " 120000/ 200000: 1.6537\n",
      " 130000/ 200000: 1.9163\n",
      " 140000/ 200000: 2.2877\n",
      " 150000/ 200000: 1.9321\n",
      " 160000/ 200000: 2.0254\n",
      " 170000/ 200000: 2.3684\n",
      " 180000/ 200000: 2.0840\n",
      " 190000/ 200000: 2.0807\n"
     ]
    }
   ],
   "source": [
    "max_steps = 200_000\n",
    "bs = 32\n",
    "lossi = []\n",
    "\n",
    "for i in range(max_steps):\n",
    "    # minibatch construct\n",
    "    ix = torch.randint(0, x_trn.shape[0], (bs,), generator=g)\n",
    "    xb, yb = x_trn[ix], y_trn[ix]\n",
    "\n",
    "    # forward pass\n",
    "    emb = C[xb]  # embed the characters into vectors\n",
    "    emb_cat = emb.view((emb.shape[0], -1))  # concat the vectors\n",
    "    h_pre_act = emb_cat @ W1 #+ b1  # hidden layer pre-activation\n",
    "    \n",
    "    # --> BATCH NORM <--\n",
    "    bnmean_i = h_pre_act.mean(0, keepdim=True)\n",
    "    bnstd_i = h_pre_act.std(0, keepdim=True)\n",
    "    h_pre_act = bngain * (h_pre_act - bnmean_i) / bnstd_i + bnbias\n",
    "    \n",
    "    with torch.no_grad():\n",
    "        bnmean_running = 0.999 * bnmean_running + 0.001 * bnmean_i\n",
    "        bnstd_running = 0.999 * bnstd_running + 0.001 * bnstd_i     \n",
    "    # --> BATCH NORM <--\n",
    "\n",
    "    h = torch.tanh(h_pre_act)  # hidden layer\n",
    "    logits = h @ W2 + b2  # output layer\n",
    "    loss = F.cross_entropy(logits, yb)  # loss function\n",
    "\n",
    "    # backward pass\n",
    "    for p in parameters:\n",
    "        p.grad = None\n",
    "    loss.backward()\n",
    "    \n",
    "    # update\n",
    "    lr = 0.1 if i < 100_000 else 0.01\n",
    "    with torch.no_grad():\n",
    "        for p in parameters:\n",
    "            p -= lr * p.grad\n",
    "        \n",
    "    # track stats\n",
    "    if i % 10_000 == 0:\n",
    "        print(f\"{i:7d}/{max_steps:7d}: {loss.item():.4f}\")\n",
    "    lossi.append(loss.log10().item())"
   ]
  },
  {
   "cell_type": "code",
   "execution_count": 49,
   "id": "7880c912",
   "metadata": {},
   "outputs": [
    {
     "data": {
      "image/png": "[encoded data removed]",
      "text/plain": [
       "<Figure size 640x480 with 1 Axes>"
      ]
     },
     "metadata": {},
     "output_type": "display_data"
    }
   ],
   "source": [
    "plt.plot(lossi)\n",
    "plt.title(\"Training Loss\")\n",
    "plt.ylabel(\"Loss\")\n",
    "plt.xlabel(\"Steps\")\n",
    "plt.show()"
   ]
  },
  {
   "cell_type": "code",
   "execution_count": 50,
   "id": "e2251860",
   "metadata": {
    "scrolled": true
   },
   "outputs": [
    {
     "name": "stdout",
     "output_type": "stream",
     "text": [
      "train 2.0711417198181152\n",
      "val 2.11014461517334\n"
     ]
    }
   ],
   "source": [
    "@torch.no_grad()  # this decorator disable gradient tracking\n",
    "def split_loss(split: str):\n",
    "    x, y = {\n",
    "        \"train\": (x_trn, y_trn),\n",
    "        \"val\": (x_val, y_val),\n",
    "        \"test\": (x_tst, y_tst),\n",
    "    }[split]\n",
    "    emb = C[x]  # (bs, block_size, n_embd)\n",
    "    emb_cat = emb.view((emb.shape[0], -1))  # concat into (bs, block_size * n_embd)\n",
    "    h_pre_act = emb_cat @ W1 #+ b1  # (bs, n_hidden)\n",
    "    \n",
    "    # --> BATCH NORM <--\n",
    "    h_pre_act = bngain * (h_pre_act - bnmean_running) / bnstd_running + bnbias\n",
    "    # --> BATCH NORM <--\n",
    "\n",
    "    h = torch.tanh(h_pre_act)  # (bs, n_hidden)\n",
    "    logits = h @ W2 + b2  # (bs, vocab_size)\n",
    "    loss = F.cross_entropy(logits, y)  \n",
    "    print(split, loss.item())\n",
    "\n",
    "split_loss(\"train\")\n",
    "split_loss(\"val\")"
   ]
  },
  {
   "cell_type": "code",
   "execution_count": 51,
   "id": "04e68f5c",
   "metadata": {},
   "outputs": [],
   "source": [
    "# loss log\n",
    "\n",
    "# original:\n",
    "# train 2.126697540283203\n",
    "# val 2.171041250228882\n",
    "\n",
    "# fix softmax confidently wrong:\n",
    "# train 2.069589138031006\n",
    "# val 2.1310744285583496\n",
    "\n",
    "# fix tanh layer too saturated at init:\n",
    "# train 2.0355963706970215\n",
    "# val 2.1026782989501953\n",
    "\n",
    "# kaiming normal\n",
    "# train 2.037997007369995\n",
    "# val 2.1054441928863525\n",
    "\n",
    "# batch norm\n",
    "# train 2.0711417198181152\n",
    "# val 2.11014461517334"
   ]
  },
  {
   "cell_type": "markdown",
   "id": "6db7fa5c",
   "metadata": {},
   "source": [
    "We were not expecting a large improvement on this specific network, because the network is very shallow and through a better init we were already able to achieve a gaussian shape for the pre-activations. This however is much more important for very deep networks."
   ]
  },
  {
   "cell_type": "code",
   "execution_count": 52,
   "id": "918625f5",
   "metadata": {},
   "outputs": [
    {
     "name": "stdout",
     "output_type": "stream",
     "text": [
      "mona.\n",
      "mayah.\n",
      "see.\n",
      "madhayla.\n",
      "rethruthadrie.\n",
      "cadee.\n",
      "daelin.\n",
      "shi.\n",
      "jen.\n",
      "eden.\n",
      "sananar.\n",
      "kayzion.\n",
      "kamin.\n",
      "shub.\n",
      "roshirael.\n",
      "kindreelynn.\n",
      "novana.\n",
      "ubrence.\n",
      "ryyah.\n",
      "fael.\n"
     ]
    }
   ],
   "source": [
    "# sample from the model\n",
    "g = torch.Generator().manual_seed(2147483647 + 10)\n",
    "block_size = 3\n",
    "for _ in range(20):\n",
    "    out = []\n",
    "    context = [0] * block_size  # initialize with all ...\n",
    "    while True:\n",
    "        # forward pass of the neural network\n",
    "        emb = C[torch.tensor([context])]  # (1, block_size, d)\n",
    "        emb_cat = emb.view((emb.shape[0], -1))  # concat into (bs, block_size * n_embd)\n",
    "        h_pre_act = emb_cat @ W1 #+ b1  # (bs, n_hidden)\n",
    "    \n",
    "        # --> BATCH NORM <--\n",
    "        h_pre_act = bngain * (h_pre_act - bnmean_running) / bnstd_running + bnbias\n",
    "        # --> BATCH NORM <--\n",
    "\n",
    "        h = torch.tanh(h_pre_act)\n",
    "        logits = h @ W2 + b2\n",
    "        probs = F.softmax(logits, dim=1)\n",
    "        # sample from the distribution\n",
    "        ix = torch.multinomial(probs, num_samples=1, generator=g).item()\n",
    "        # shift the context window and track the samples\n",
    "        context = context[1:] + [ix]\n",
    "        out.append(ix)\n",
    "        # if the special \".\" token break\n",
    "        if ix == 0:\n",
    "            break\n",
    "            \n",
    "    print(\"\".join(i2s[i] for i in out))"
   ]
  },
  {
   "cell_type": "markdown",
   "id": "326f7475",
   "metadata": {},
   "source": [
    "One \"downside\" of batch norm is that it introduces an extra dependency to compute the normalized `h_pre_act`. This dependency is every other value in the batch. Because we need all of these values to compute the mean and std of the batch that we will use to normalize the inputs.\n",
    "\n",
    "On the other hand, this act as a regularization term as it pads out any of these input examples adding a little bit of entropy, so it makes it harder for the neural network to overfit to any of these specific examples."
   ]
  },
  {
   "cell_type": "markdown",
   "id": "754c5bce",
   "metadata": {},
   "source": [
    "Notes:\n",
    "* The 0.001 we use in the running mean and std computation is called \"momentum\". Andrej's suggestion is to increase slightly this value if we have very large batch sizes, since the variability across different batches of the statistics we are tracking will be relatively stable. With small batch sizes, there might be more variation from one batch to the other, and therefore is recommended to use a smaller momentum.\n",
    "* We didn't add the $ \\epsilon $ term in the normalization operation. This is used to prevent division by 0. \n",
    "* We have also been wasteful because be could have removed the `b1` term, as the network can learn that while learning the `bnbias` term. Basically, if we remove entirely the bias in the preceeding layer (e.g., `b1`), the new `bnbias` would be learned as `bnbias + b1`."
   ]
  },
  {
   "cell_type": "markdown",
   "id": "23acc092",
   "metadata": {},
   "source": [
    "## Pytorch-ifying the code"
   ]
  },
  {
   "cell_type": "code",
   "execution_count": 62,
   "id": "f16fab4f",
   "metadata": {},
   "outputs": [],
   "source": [
    "class Linear:\n",
    "    def __init__(self, fan_in, fan_out, bias=True):\n",
    "        self.weight = torch.randn((fan_in, fan_out), generator=g) / fan_in**0.5\n",
    "        self.bias = torch.zeros(fan_out) if bias else None\n",
    "        \n",
    "    def __call__(self, x):\n",
    "        self.out = x @ self.weight\n",
    "        if self.bias is not None:\n",
    "            self.out += self.bias\n",
    "        return self.out\n",
    "    \n",
    "    def parameters(self):\n",
    "        return [self.weight] + ([] if self.bias is None else [self.bias])\n",
    "    \n",
    "class BatchNorm1d:\n",
    "    def __init__(self, dim, eps=1e-5, momentum=0.1):\n",
    "        self.ops = ops\n",
    "        self.momentum = momentum\n",
    "        self.training = True\n",
    "        # parameters (trained with backprop)\n",
    "        self.gamma = torch.ones(dim)\n",
    "        self.beta = torch.zeros(dim)\n",
    "        # buffers (trained with a running 'momentum update')\n",
    "        self.running_mean = torch.zeros(dim)\n",
    "        self.running_var = torch.ones(dim)\n",
    "        \n",
    "    def __call__(self, x):\n",
    "        # calculate the forward pass\n",
    "        if self.training:\n",
    "            xmean = x.mean(0, keepdim=True)  # batch mean\n",
    "            xvar = x.var(0, keepdim=True, unbiased=True) # batch variance\n",
    "        else:\n",
    "            xmean = self.running_mean\n",
    "            xvar = self.running_var\n",
    "        xhat = (x - xmean) / torch.sqrt(xvar + self.eps)  # normalize to unit variance\n",
    "        self.out = self.gamma * xhat + self.beta\n",
    "        # update buffers\n",
    "        if self.training:\n",
    "            with torch.no_grad():\n",
    "                self.running_mean = (1 - self.momentum) * self.running_mean + self.momentum * xmean\n",
    "                self.running_var = (1 - self.momentum) * self.running_var + self.momentum * xvar\n",
    "        return self.out\n",
    "        \n",
    "    def parameters(self):\n",
    "        return [self.gamma, self.beta]\n",
    "    \n",
    "class Tanh:\n",
    "    def __call__(self, x):\n",
    "        self.out = torch.tanh(x)\n",
    "        return self.out\n",
    "    \n",
    "    def parameters(self):\n",
    "        return []"
   ]
  },
  {
   "cell_type": "code",
   "execution_count": 63,
   "id": "50ffa715",
   "metadata": {},
   "outputs": [],
   "source": [
    "n_embd = 10  # the dimensionality of the character embedding vectors\n",
    "n_hidden = 100  # the number of neurons in the hidden layer of the MLP\n",
    "g = torch.Generator().manual_seed(2147483647)\n",
    "\n",
    "C = torch.randn((vocab_size, n_embd), generator=g)\n",
    "layers = [\n",
    "    Linear(n_embd * block_size, n_hidden), Tanh(), \n",
    "    Linear(n_hidden, n_hidden), Tanh(), \n",
    "    Linear(n_hidden, n_hidden), Tanh(), \n",
    "    Linear(n_hidden, n_hidden), Tanh(), \n",
    "    Linear(n_hidden, n_hidden), Tanh(), \n",
    "    Linear(n_hidden, vocab_size), \n",
    "]"
   ]
  },
  {
   "cell_type": "code",
   "execution_count": 64,
   "id": "b2bfb33d",
   "metadata": {},
   "outputs": [
    {
     "name": "stdout",
     "output_type": "stream",
     "text": [
      "46497\n"
     ]
    }
   ],
   "source": [
    "with torch.no_grad():\n",
    "    # last layer: make less confident\n",
    "    layers[-1].weight *= 0.1\n",
    "    # all other layers: apply gain\n",
    "    for layer in layers[:-1]:\n",
    "        if isinstance(layer, Linear):\n",
    "            layer.weight *= 5/3\n",
    "            \n",
    "parameters = [C] + [p for layer in layers for p in layer.parameters()]\n",
    "print(sum(p.nelement() for p in parameters))\n",
    "for p in parameters:\n",
    "    p.require_grad = True"
   ]
  },
  {
   "cell_type": "code",
   "execution_count": null,
   "id": "83c11cda",
   "metadata": {},
   "outputs": [],
   "source": []
  }
 ],
 "metadata": {
  "kernelspec": {
   "display_name": "Python 3 (ipykernel)",
   "language": "python",
   "name": "python3"
  },
  "language_info": {
   "codemirror_mode": {
    "name": "ipython",
    "version": 3
   },
   "file_extension": ".py",
   "mimetype": "text/x-python",
   "name": "python",
   "nbconvert_exporter": "python",
   "pygments_lexer": "ipython3",
   "version": "3.10.12"
  }
 },
 "nbformat": 4,
 "nbformat_minor": 5
}
