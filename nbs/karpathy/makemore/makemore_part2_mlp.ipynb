{
 "cells": [
  {
   "cell_type": "markdown",
   "id": "4aa5bc49",
   "metadata": {},
   "source": [
    "Reference paper: [Yoshua Bengio, Réjean Ducharme, Pascal Vincent, and Christian Jauvin. 2003. A Neural Probabilistic Language Model. J. Mach. Learn. Res. 3, (February 2003), 1137–1155.](https://www.jmlr.org/papers/volume3/bengio03a/bengio03a.pdf)\n",
    "\n",
    "One main difference in our implementation is that we are working with characters instead of words. The vocabulary size in the Bengio's paper is 17,000 words, whereas we are going to have a vocabulary of 27 characters (26 characters and the `<.>` special character)."
   ]
  },
  {
   "cell_type": "code",
   "execution_count": 1,
   "id": "106735fd",
   "metadata": {},
   "outputs": [],
   "source": [
    "import torch\n",
    "import torch.nn.functional as F\n",
    "import matplotlib.pyplot as plt\n",
    "\n",
    "%matplotlib inline"
   ]
  },
  {
   "cell_type": "code",
   "execution_count": 2,
   "id": "48dda491",
   "metadata": {},
   "outputs": [
    {
     "data": {
      "text/plain": [
       "['emma', 'olivia', 'ava', 'isabella', 'sophia', 'charlotte', 'mia', 'amelia']"
      ]
     },
     "execution_count": 2,
     "metadata": {},
     "output_type": "execute_result"
    }
   ],
   "source": [
    "words = open(\"./names.txt\", \"r\").read().splitlines()\n",
    "words[:8]"
   ]
  },
  {
   "cell_type": "code",
   "execution_count": 3,
   "id": "b9ce8994",
   "metadata": {},
   "outputs": [
    {
     "data": {
      "text/plain": [
       "32033"
      ]
     },
     "execution_count": 3,
     "metadata": {},
     "output_type": "execute_result"
    }
   ],
   "source": [
    "len(words)"
   ]
  },
  {
   "cell_type": "code",
   "execution_count": 4,
   "id": "3c4e9938",
   "metadata": {},
   "outputs": [
    {
     "name": "stdout",
     "output_type": "stream",
     "text": [
      "{1: 'a', 2: 'b', 3: 'c', 4: 'd', 5: 'e', 6: 'f', 7: 'g', 8: 'h', 9: 'i', 10: 'j', 11: 'k', 12: 'l', 13: 'm', 14: 'n', 15: 'o', 16: 'p', 17: 'q', 18: 'r', 19: 's', 20: 't', 21: 'u', 22: 'v', 23: 'w', 24: 'x', 25: 'y', 26: 'z', 0: '.'}\n"
     ]
    }
   ],
   "source": [
    "chars = sorted(list(set(\"\".join(words))))\n",
    "s2i = {s: i + 1 for i, s in enumerate(chars)}\n",
    "s2i[\".\"] = 0\n",
    "i2s = {i: s for s, i in s2i.items()}\n",
    "print(i2s)"
   ]
  },
  {
   "cell_type": "code",
   "execution_count": 5,
   "id": "e29c10a5",
   "metadata": {},
   "outputs": [],
   "source": [
    "def build_dataset(words):\n",
    "    block_size = 3  # context length\n",
    "    x, y = [], []\n",
    "    for w in words:\n",
    "#         print(w)\n",
    "        context = [0] * block_size\n",
    "        for ch in w + \".\":\n",
    "            ix = s2i[ch]\n",
    "            x.append(context)\n",
    "            y.append(ix)\n",
    "#             print(\"\".join(i2s[i] for i in context), \"--->\", i2s[ix])\n",
    "            context = context[1:] + [ix]  # crop and append\n",
    "\n",
    "    x = torch.tensor(x)\n",
    "    y = torch.tensor(y)\n",
    "    return x, y\n",
    "\n",
    "\n",
    "import random\n",
    "random.seed(42)\n",
    "random.shuffle(words)\n",
    "n1 = int(0.8 * len(words))\n",
    "n2 = int(0.9 * len(words))\n",
    "\n",
    "x_trn, y_trn = build_dataset(words[:n1])\n",
    "x_val, y_val = build_dataset(words[n1:n2])\n",
    "x_tst, y_tst = build_dataset(words[n2:])"
   ]
  },
  {
   "cell_type": "code",
   "execution_count": 6,
   "id": "7a6abdfb",
   "metadata": {},
   "outputs": [
    {
     "name": "stdout",
     "output_type": "stream",
     "text": [
      "train shape: \ttorch.Size([182625, 3]), \ttorch.Size([182625])\n",
      "val shape: \ttorch.Size([22655, 3]), \ttorch.Size([22655])\n",
      "test shape: \ttorch.Size([22866, 3]), \ttorch.Size([22866])\n"
     ]
    }
   ],
   "source": [
    "for name, x_df, y_df in ((\"train\", x_trn, y_trn), (\"val\", x_val, y_val), (\"test\", x_tst, y_tst)):\n",
    "    print(f\"{name} shape: \\t{x_df.shape}, \\t{y_df.shape}\")"
   ]
  },
  {
   "cell_type": "code",
   "execution_count": 7,
   "id": "5da80365",
   "metadata": {},
   "outputs": [],
   "source": [
    "C = torch.randn((27, 2))  # embeddig matrix"
   ]
  },
  {
   "cell_type": "code",
   "execution_count": 8,
   "id": "28bbf38e",
   "metadata": {},
   "outputs": [
    {
     "data": {
      "text/plain": [
       "torch.Size([182625, 3, 2])"
      ]
     },
     "execution_count": 8,
     "metadata": {},
     "output_type": "execute_result"
    }
   ],
   "source": [
    "emb = C[x_trn]\n",
    "emb.shape  # bs, ctx len, emb lengh"
   ]
  },
  {
   "cell_type": "code",
   "execution_count": 9,
   "id": "bd5b2120",
   "metadata": {},
   "outputs": [],
   "source": [
    "W1 = torch.randn((6, 100))  # (ctx len x emb length), hidden layer dim\n",
    "b1 = torch.randn(100)"
   ]
  },
  {
   "cell_type": "code",
   "execution_count": 10,
   "id": "45272019",
   "metadata": {},
   "outputs": [
    {
     "data": {
      "text/plain": [
       "tensor([[ 1.0000, -0.9416,  0.9990,  ...,  0.9851, -0.9305, -0.1107],\n",
       "        [ 0.9997, -0.1062,  0.9977,  ...,  0.9421, -0.4157,  0.2561],\n",
       "        [ 0.9939, -0.7837,  0.9792,  ...,  0.9602, -0.9556,  0.9549],\n",
       "        ...,\n",
       "        [ 0.7841, -1.0000, -0.9481,  ...,  0.9923, -1.0000,  0.9977],\n",
       "        [ 1.0000, -0.9922,  0.1458,  ..., -0.6252,  0.9967, -0.8538],\n",
       "        [ 1.0000, -0.6229,  1.0000,  ...,  0.8157, -0.5742, -0.9701]])"
      ]
     },
     "execution_count": 10,
     "metadata": {},
     "output_type": "execute_result"
    }
   ],
   "source": [
    "h = torch.tanh(emb.view(emb.shape[0], -1) @ W1 + b1)\n",
    "h"
   ]
  },
  {
   "cell_type": "code",
   "execution_count": 11,
   "id": "bb6ce080",
   "metadata": {},
   "outputs": [
    {
     "data": {
      "text/plain": [
       "torch.Size([182625, 100])"
      ]
     },
     "execution_count": 11,
     "metadata": {},
     "output_type": "execute_result"
    }
   ],
   "source": [
    "h.shape"
   ]
  },
  {
   "cell_type": "markdown",
   "id": "2ac3a5a8",
   "metadata": {},
   "source": [
    "One thing to pay attention to, is the addition operation. The resulting matrix generated by multiplying `emb` (reshaped) and `W1` is of size `(32, 100)`, whilst the bias vector has size `(100)`.\n",
    "\n",
    "```\n",
    "32, 100 --> 32, 100\n",
    "    100 -->  1, 100\n",
    "```\n",
    "\n",
    "So the same bias vector will be copied to all the rows of the (`emb.view(emb.shape[0], -1) @ W1`) matrix. Meaning that element `b[0, 0]` will be added to each element of the row `x[0, :]`."
   ]
  },
  {
   "cell_type": "code",
   "execution_count": 12,
   "id": "d2f34b7e",
   "metadata": {},
   "outputs": [],
   "source": [
    "W2 = torch.randn((100, 27))\n",
    "b2 = torch.randn((27))"
   ]
  },
  {
   "cell_type": "code",
   "execution_count": 13,
   "id": "c2da007c",
   "metadata": {},
   "outputs": [],
   "source": [
    "logits = h @ W2 + b2"
   ]
  },
  {
   "cell_type": "code",
   "execution_count": 14,
   "id": "80405639",
   "metadata": {},
   "outputs": [
    {
     "data": {
      "text/plain": [
       "torch.Size([182625, 27])"
      ]
     },
     "execution_count": 14,
     "metadata": {},
     "output_type": "execute_result"
    }
   ],
   "source": [
    "logits.shape"
   ]
  },
  {
   "cell_type": "code",
   "execution_count": 15,
   "id": "67e35964",
   "metadata": {},
   "outputs": [],
   "source": [
    "counts = logits.exp()"
   ]
  },
  {
   "cell_type": "code",
   "execution_count": 16,
   "id": "5f2aea21",
   "metadata": {},
   "outputs": [],
   "source": [
    "probs = counts / counts.sum(1, keepdims=True)"
   ]
  },
  {
   "cell_type": "code",
   "execution_count": 17,
   "id": "3461f325",
   "metadata": {},
   "outputs": [
    {
     "data": {
      "text/plain": [
       "torch.Size([182625, 27])"
      ]
     },
     "execution_count": 17,
     "metadata": {},
     "output_type": "execute_result"
    }
   ],
   "source": [
    "probs.shape"
   ]
  },
  {
   "cell_type": "code",
   "execution_count": 18,
   "id": "476ba8fc",
   "metadata": {},
   "outputs": [
    {
     "data": {
      "text/plain": [
       "tensor(1.)"
      ]
     },
     "execution_count": 18,
     "metadata": {},
     "output_type": "execute_result"
    }
   ],
   "source": [
    "# sanity check, rows should sum to 1\n",
    "probs[0].sum()"
   ]
  },
  {
   "cell_type": "code",
   "execution_count": 19,
   "id": "49ea5a54",
   "metadata": {},
   "outputs": [
    {
     "data": {
      "text/plain": [
       "tensor(20.6836)"
      ]
     },
     "execution_count": 19,
     "metadata": {},
     "output_type": "execute_result"
    }
   ],
   "source": [
    "loss = -probs[torch.arange(x_trn.shape[0]), y_trn].log().mean()  # average neg log likelihood\n",
    "loss"
   ]
  },
  {
   "cell_type": "markdown",
   "id": "3b82ce7d",
   "metadata": {},
   "source": [
    "Let's rewrite all of the above in a more reusable way, and train the MLP model"
   ]
  },
  {
   "cell_type": "markdown",
   "id": "821b59f0",
   "metadata": {},
   "source": [
    "How can we find a good startint point for the learning rate?"
   ]
  },
  {
   "cell_type": "code",
   "execution_count": 20,
   "id": "0b51e05b",
   "metadata": {},
   "outputs": [
    {
     "name": "stdout",
     "output_type": "stream",
     "text": [
      "step 0: 17.632631301879883\n",
      "step 10: 19.566537857055664\n",
      "step 20: 20.294939041137695\n",
      "step 30: 18.289653778076172\n",
      "step 40: 20.217504501342773\n",
      "step 50: 19.471904754638672\n",
      "step 60: 18.522689819335938\n",
      "step 70: 19.36835479736328\n",
      "step 80: 18.514665603637695\n",
      "step 90: 17.047191619873047\n",
      "step 100: 16.905920028686523\n",
      "step 110: 14.85029411315918\n",
      "step 120: 16.601255416870117\n",
      "step 130: 15.206828117370605\n",
      "step 140: 17.26493263244629\n",
      "step 150: 13.97607421875\n",
      "step 160: 13.9264497756958\n",
      "step 170: 12.170775413513184\n",
      "step 180: 13.634760856628418\n",
      "step 190: 13.950194358825684\n",
      "step 200: 11.896111488342285\n",
      "step 210: 15.189921379089355\n",
      "step 220: 11.8590726852417\n",
      "step 230: 14.079668045043945\n",
      "step 240: 12.198287010192871\n",
      "step 250: 11.006203651428223\n",
      "step 260: 9.458381652832031\n",
      "step 270: 12.640242576599121\n",
      "step 280: 12.117498397827148\n",
      "step 290: 12.021326065063477\n",
      "step 300: 11.585648536682129\n",
      "step 310: 10.0597562789917\n",
      "step 320: 12.017834663391113\n",
      "step 330: 9.828757286071777\n",
      "step 340: 10.61382007598877\n",
      "step 350: 9.432272911071777\n",
      "step 360: 7.584096908569336\n",
      "step 370: 7.903054714202881\n",
      "step 380: 8.820990562438965\n",
      "step 390: 7.560824394226074\n",
      "step 400: 6.76319694519043\n",
      "step 410: 9.014945030212402\n",
      "step 420: 6.33125638961792\n",
      "step 430: 6.948986530303955\n",
      "step 440: 6.736486911773682\n",
      "step 450: 4.735161781311035\n",
      "step 460: 5.860732555389404\n",
      "step 470: 5.536627769470215\n",
      "step 480: 7.810454845428467\n",
      "step 490: 5.212682723999023\n",
      "step 500: 6.656082630157471\n",
      "step 510: 6.541169166564941\n",
      "step 520: 6.144146919250488\n",
      "step 530: 4.2044267654418945\n",
      "step 540: 3.993960380554199\n",
      "step 550: 5.082286834716797\n",
      "step 560: 4.098043918609619\n",
      "step 570: 5.747291564941406\n",
      "step 580: 3.547821044921875\n",
      "step 590: 3.1283538341522217\n",
      "step 600: 3.850139856338501\n",
      "step 610: 3.838941812515259\n",
      "step 620: 4.336846828460693\n",
      "step 630: 3.326789617538452\n",
      "step 640: 4.451974391937256\n",
      "step 650: 3.2118630409240723\n",
      "step 660: 3.8491756916046143\n",
      "step 670: 3.053865909576416\n",
      "step 680: 2.973917007446289\n",
      "step 690: 3.1909127235412598\n",
      "step 700: 3.163109064102173\n",
      "step 710: 3.7425949573516846\n",
      "step 720: 3.535878896713257\n",
      "step 730: 3.1261823177337646\n",
      "step 740: 3.330716371536255\n",
      "step 750: 2.992218017578125\n",
      "step 760: 2.907672882080078\n",
      "step 770: 3.38535475730896\n",
      "step 780: 3.0852575302124023\n",
      "step 790: 3.909778356552124\n",
      "step 800: 3.094864845275879\n",
      "step 810: 3.625352382659912\n",
      "step 820: 3.77557110786438\n",
      "step 830: 3.844670295715332\n",
      "step 840: 4.597930908203125\n",
      "step 850: 3.8426618576049805\n",
      "step 860: 4.310511589050293\n",
      "step 870: 4.08901309967041\n",
      "step 880: 5.594605445861816\n",
      "step 890: 4.303586483001709\n",
      "step 900: 6.709478378295898\n",
      "step 910: 4.275534629821777\n",
      "step 920: 3.9593923091888428\n",
      "step 930: 6.311513423919678\n",
      "step 940: 5.0647172927856445\n",
      "step 950: 5.707469940185547\n",
      "step 960: 6.836832046508789\n",
      "step 970: 8.188536643981934\n",
      "step 980: 9.197135925292969\n",
      "step 990: 7.4612321853637695\n"
     ]
    }
   ],
   "source": [
    "lre = []\n",
    "lrs = []\n",
    "tracker = []\n",
    "steps = 1_000\n",
    "\n",
    "for e in torch.linspace(-3, 0, steps):\n",
    "    lrs.append(10**e)\n",
    "    lre.append(e)\n",
    "    \n",
    "g = torch.Generator().manual_seed(2147483647)\n",
    "C = torch.randn((27, 2), generator=g).requires_grad_()\n",
    "W1 = torch.randn((6, 100), generator=g).requires_grad_()\n",
    "b1 = torch.randn((100), generator=g).requires_grad_()\n",
    "W2 = torch.randn((100, 27), generator=g).requires_grad_()\n",
    "b2 = torch.randn((27), generator=g).requires_grad_()\n",
    "parameters = [C, W1, b1, W2, b2]\n",
    "bs = 32\n",
    "\n",
    "for step in range(steps):\n",
    "    # minibatch\n",
    "    ix = torch.randint(0, x_trn.shape[0], (bs,))\n",
    "    xs = x_trn[ix]\n",
    "    ys = y_trn[ix]\n",
    "    lr = lrs[step]\n",
    "\n",
    "    # forward pass\n",
    "    emb = C[xs]  # (32, 3, 2)\n",
    "    h = torch.tanh(\n",
    "        emb.view((-1, 6)) @ W1 + b1\n",
    "    )  # (32, 100)... also tanh is important to not get inf loss!\n",
    "    logits = h @ W2 + b2  # (32, 27)\n",
    "    loss = F.cross_entropy(logits, ys)\n",
    "\n",
    "    if step % 10 == 0:\n",
    "        print(f\"step {step}: {loss.item()}\")\n",
    "\n",
    "    # backward pass\n",
    "    for p in parameters:\n",
    "        p.grad = None\n",
    "    loss.backward()\n",
    "\n",
    "    # update\n",
    "    for p in parameters:\n",
    "        p.data -= lr * p.grad\n",
    "        \n",
    "    tracker.append(loss.item())"
   ]
  },
  {
   "cell_type": "code",
   "execution_count": 21,
   "id": "ad7bb34f",
   "metadata": {},
   "outputs": [
    {
     "data": {
      "text/plain": [
       "[<matplotlib.lines.Line2D at 0x7fafb30bafb0>]"
      ]
     },
     "execution_count": 21,
     "metadata": {},
     "output_type": "execute_result"
    },
    {
     "data": {
      "image/png": "[encoded data removed]",
      "text/plain": [
       "<Figure size 640x480 with 1 Axes>"
      ]
     },
     "metadata": {},
     "output_type": "display_data"
    }
   ],
   "source": [
    "plt.plot(lre, tracker)"
   ]
  },
  {
   "cell_type": "markdown",
   "id": "cf0dfab5",
   "metadata": {},
   "source": [
    "Using the LR Finder first proposed by [Leslie Smith](https://arxiv.org/abs/1506.01186), $ 10^{-1} $ seems like a good starting point."
   ]
  },
  {
   "cell_type": "code",
   "execution_count": 22,
   "id": "9eca0eed",
   "metadata": {},
   "outputs": [],
   "source": [
    "g = torch.Generator().manual_seed(2147483647)\n",
    "C = torch.randn((27, 10), generator=g).requires_grad_()\n",
    "W1 = torch.randn((30, 200), generator=g).requires_grad_()\n",
    "b1 = torch.randn((200), generator=g).requires_grad_()\n",
    "W2 = torch.randn((200, 27), generator=g).requires_grad_()\n",
    "b2 = torch.randn((27), generator=g).requires_grad_()\n",
    "parameters = [C, W1, b1, W2, b2]"
   ]
  },
  {
   "cell_type": "code",
   "execution_count": 23,
   "id": "ea70df62",
   "metadata": {},
   "outputs": [
    {
     "data": {
      "text/plain": [
       "11897"
      ]
     },
     "execution_count": 23,
     "metadata": {},
     "output_type": "execute_result"
    }
   ],
   "source": [
    "sum(p.nelement() for p in parameters)"
   ]
  },
  {
   "cell_type": "code",
   "execution_count": 24,
   "id": "95c03bde",
   "metadata": {},
   "outputs": [
    {
     "name": "stdout",
     "output_type": "stream",
     "text": [
      "---> new lr: 0.01\n"
     ]
    }
   ],
   "source": [
    "bs = 32\n",
    "lr = 0.1\n",
    "n_steps = 200_000\n",
    "\n",
    "steps = []\n",
    "lrs = []\n",
    "losses = []\n",
    "\n",
    "for step in range(n_steps):\n",
    "    # minibatch\n",
    "    ix = torch.randint(0, x_trn.shape[0], (bs,))\n",
    "    xs = x_trn[ix]\n",
    "    ys = y_trn[ix]\n",
    "\n",
    "    # forward pass\n",
    "    emb = C[xs]  # (32, 3, 10)\n",
    "    h = torch.tanh(\n",
    "        emb.view((-1, 30)) @ W1 + b1\n",
    "    )  # (32, 100)... also tanh is important to not get inf loss!\n",
    "    logits = h @ W2 + b2  # (32, 27)\n",
    "    loss = F.cross_entropy(logits, ys)\n",
    "\n",
    "    # backward pass\n",
    "    for p in parameters:\n",
    "        p.grad = None\n",
    "    loss.backward()\n",
    "\n",
    "    # step lr decay\n",
    "    if step == 100_000:\n",
    "        lr /= 10\n",
    "        print(f\"---> new lr: {lr}\")\n",
    "    \n",
    "    # update    \n",
    "    for p in parameters:\n",
    "        p.data -= lr * p.grad\n",
    "        \n",
    "    steps.append(step)\n",
    "    lrs.append(lr)\n",
    "    losses.append(loss.log10().item())"
   ]
  },
  {
   "cell_type": "code",
   "execution_count": 25,
   "id": "aafbd2d3",
   "metadata": {},
   "outputs": [
    {
     "data": {
      "image/png": "[encoded data removed]",
      "text/plain": [
       "<Figure size 640x480 with 1 Axes>"
      ]
     },
     "metadata": {},
     "output_type": "display_data"
    }
   ],
   "source": [
    "plt.plot(steps, losses)\n",
    "ax = plt.gca()\n",
    "plt.show()"
   ]
  },
  {
   "cell_type": "code",
   "execution_count": 26,
   "id": "260a844a",
   "metadata": {},
   "outputs": [
    {
     "data": {
      "text/plain": [
       "tensor(2.1243, grad_fn=<NllLossBackward0>)"
      ]
     },
     "execution_count": 26,
     "metadata": {},
     "output_type": "execute_result"
    }
   ],
   "source": [
    "emb = C[x_trn]  # (32, 3, 2)\n",
    "h = torch.tanh(\n",
    "    emb.view((-1, 30)) @ W1 + b1\n",
    ")  # (32, 100)... also tanh is important to not get inf loss!\n",
    "logits = h @ W2 + b2  # (32, 27)\n",
    "loss = F.cross_entropy(logits, y_trn)\n",
    "loss"
   ]
  },
  {
   "cell_type": "markdown",
   "id": "66151302",
   "metadata": {},
   "source": [
    "Let's validate the quality of our model on the validation set."
   ]
  },
  {
   "cell_type": "code",
   "execution_count": 27,
   "id": "7b0df994",
   "metadata": {},
   "outputs": [
    {
     "data": {
      "text/plain": [
       "tensor(2.1615, grad_fn=<NllLossBackward0>)"
      ]
     },
     "execution_count": 27,
     "metadata": {},
     "output_type": "execute_result"
    }
   ],
   "source": [
    "emb = C[x_val]  # (32, 3, 2)\n",
    "h = torch.tanh(\n",
    "    emb.view((-1, 30)) @ W1 + b1\n",
    ")  # (32, 100)... also tanh is important to not get inf loss!\n",
    "logits = h @ W2 + b2  # (32, 27)\n",
    "loss = F.cross_entropy(logits, y_val)\n",
    "loss"
   ]
  },
  {
   "cell_type": "code",
   "execution_count": 28,
   "id": "43d33de0",
   "metadata": {},
   "outputs": [
    {
     "name": "stdout",
     "output_type": "stream",
     "text": [
      "mora.\n",
      "mayanniee.\n",
      "madhry.\n",
      "lore.\n",
      "mastendraeg.\n",
      "azeendieliigh.\n",
      "poppire.\n",
      "elieananar.\n",
      "elly.\n",
      "malara.\n",
      "noshdenridhi.\n",
      "jest.\n",
      "jairetlynn.\n",
      "nopelon.\n",
      "brence.\n",
      "ryyah.\n",
      "fael.\n",
      "yula.\n",
      "muston.\n",
      "azhia.\n"
     ]
    }
   ],
   "source": [
    "# sample from the model\n",
    "g = torch.Generator().manual_seed(2147483647 + 10)\n",
    "block_size = 3\n",
    "for _ in range(20):\n",
    "    out = []\n",
    "    context = [0] * block_size\n",
    "    while True:\n",
    "        emb = C[torch.tensor([context])]  # (1, block_size, d)\n",
    "        h = torch.tanh(emb.view(1, -1) @ W1 + b1)\n",
    "        logits = h @ W2 + b2\n",
    "        probs = F.softmax(logits, dim=1)\n",
    "        ix = torch.multinomial(probs, num_samples=1, generator=g).item()\n",
    "        context = context[1:] + [ix]\n",
    "        out.append(ix)\n",
    "        if ix == 0:\n",
    "            break\n",
    "            \n",
    "    print(\"\".join(i2s[i] for i in out))"
   ]
  }
 ],
 "metadata": {
  "kernelspec": {
   "display_name": "Python 3 (ipykernel)",
   "language": "python",
   "name": "python3"
  },
  "language_info": {
   "codemirror_mode": {
    "name": "ipython",
    "version": 3
   },
   "file_extension": ".py",
   "mimetype": "text/x-python",
   "name": "python",
   "nbconvert_exporter": "python",
   "pygments_lexer": "ipython3",
   "version": "3.10.12"
  }
 },
 "nbformat": 4,
 "nbformat_minor": 5
}
