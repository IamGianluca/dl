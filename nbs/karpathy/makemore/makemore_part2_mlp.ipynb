{
 "cells": [
  {
   "cell_type": "markdown",
   "id": "166b401d",
   "metadata": {},
   "source": [
    "Reference paper: [Yoshua Bengio, Réjean Ducharme, Pascal Vincent, and Christian Jauvin. 2003. A Neural Probabilistic Language Model. J. Mach. Learn. Res. 3, (February 2003), 1137–1155.](https://www.jmlr.org/papers/volume3/bengio03a/bengio03a.pdf)\n",
    "\n",
    "One main difference in our implementation is that we are working with characters instead of words. The vocabulary size in the Bengio's paper is 17,000 words, whereas we are going to have a vocabulary of 27 characters (26 characters and the `<.>` special character)."
   ]
  },
  {
   "cell_type": "code",
   "execution_count": 1,
   "id": "2fa4d0b6",
   "metadata": {},
   "outputs": [],
   "source": [
    "import torch\n",
    "import torch.nn.functional as F\n",
    "import matplotlib.pyplot as plt\n",
    "\n",
    "%matplotlib inline"
   ]
  },
  {
   "cell_type": "code",
   "execution_count": 2,
   "id": "1998cd88",
   "metadata": {},
   "outputs": [
    {
     "data": {
      "text/plain": [
       "['emma', 'olivia', 'ava', 'isabella', 'sophia', 'charlotte', 'mia', 'amelia']"
      ]
     },
     "execution_count": 2,
     "metadata": {},
     "output_type": "execute_result"
    }
   ],
   "source": [
    "words = open(\"./names.txt\", \"r\").read().splitlines()\n",
    "words[:8]"
   ]
  },
  {
   "cell_type": "code",
   "execution_count": 3,
   "id": "b3313c59",
   "metadata": {},
   "outputs": [
    {
     "data": {
      "text/plain": [
       "32033"
      ]
     },
     "execution_count": 3,
     "metadata": {},
     "output_type": "execute_result"
    }
   ],
   "source": [
    "len(words)"
   ]
  },
  {
   "cell_type": "code",
   "execution_count": 4,
   "id": "5c912fc7",
   "metadata": {},
   "outputs": [
    {
     "name": "stdout",
     "output_type": "stream",
     "text": [
      "{1: 'a', 2: 'b', 3: 'c', 4: 'd', 5: 'e', 6: 'f', 7: 'g', 8: 'h', 9: 'i', 10: 'j', 11: 'k', 12: 'l', 13: 'm', 14: 'n', 15: 'o', 16: 'p', 17: 'q', 18: 'r', 19: 's', 20: 't', 21: 'u', 22: 'v', 23: 'w', 24: 'x', 25: 'y', 26: 'z', 0: '.'}\n"
     ]
    }
   ],
   "source": [
    "chars = sorted(list(set(\"\".join(words))))\n",
    "s2i = {s: i + 1 for i, s in enumerate(chars)}\n",
    "s2i[\".\"] = 0\n",
    "i2s = {i: s for s, i in s2i.items()}\n",
    "print(i2s)"
   ]
  },
  {
   "cell_type": "code",
   "execution_count": 5,
   "id": "e7fbbc2b",
   "metadata": {},
   "outputs": [],
   "source": [
    "def build_dataset(words):\n",
    "    block_size = 3  # context length\n",
    "    x, y = [], []\n",
    "    for w in words:\n",
    "#         print(w)\n",
    "        context = [0] * block_size\n",
    "        for ch in w + \".\":\n",
    "            ix = s2i[ch]\n",
    "            x.append(context)\n",
    "            y.append(ix)\n",
    "#             print(\"\".join(i2s[i] for i in context), \"--->\", i2s[ix])\n",
    "            context = context[1:] + [ix]  # crop and append\n",
    "\n",
    "    x = torch.tensor(x)\n",
    "    y = torch.tensor(y)\n",
    "    return x, y\n",
    "\n",
    "\n",
    "import random\n",
    "random.seed(42)\n",
    "random.shuffle(words)\n",
    "n1 = int(0.8 * len(words))\n",
    "n2 = int(0.9 * len(words))\n",
    "\n",
    "x_trn, y_trn = build_dataset(words[:n1])\n",
    "x_val, y_val = build_dataset(words[n1:n2])\n",
    "x_tst, y_tst = build_dataset(words[n2:])"
   ]
  },
  {
   "cell_type": "code",
   "execution_count": 6,
   "id": "4e1e823d",
   "metadata": {},
   "outputs": [
    {
     "name": "stdout",
     "output_type": "stream",
     "text": [
      "train shape: \ttorch.Size([182625, 3]), \ttorch.Size([182625])\n",
      "val shape: \ttorch.Size([22655, 3]), \ttorch.Size([22655])\n",
      "test shape: \ttorch.Size([22866, 3]), \ttorch.Size([22866])\n"
     ]
    }
   ],
   "source": [
    "for name, x_df, y_df in ((\"train\", x_trn, y_trn), (\"val\", x_val, y_val), (\"test\", x_tst, y_tst)):\n",
    "    print(f\"{name} shape: \\t{x_df.shape}, \\t{y_df.shape}\")"
   ]
  },
  {
   "cell_type": "code",
   "execution_count": 7,
   "id": "0020d872",
   "metadata": {},
   "outputs": [],
   "source": [
    "C = torch.randn((27, 2))  # embeddig matrix"
   ]
  },
  {
   "cell_type": "code",
   "execution_count": 8,
   "id": "bed5ad6f",
   "metadata": {},
   "outputs": [
    {
     "data": {
      "text/plain": [
       "torch.Size([182625, 3, 2])"
      ]
     },
     "execution_count": 8,
     "metadata": {},
     "output_type": "execute_result"
    }
   ],
   "source": [
    "emb = C[x_trn]\n",
    "emb.shape  # bs, ctx len, emb lengh"
   ]
  },
  {
   "cell_type": "code",
   "execution_count": 9,
   "id": "8c37d4ab",
   "metadata": {},
   "outputs": [],
   "source": [
    "W1 = torch.randn((6, 100))  # (ctx len x emb length), hidden layer dim\n",
    "b1 = torch.randn(100)"
   ]
  },
  {
   "cell_type": "code",
   "execution_count": 10,
   "id": "72489e71",
   "metadata": {},
   "outputs": [
    {
     "data": {
      "text/plain": [
       "tensor([[ 0.9715, -0.4301, -0.9945,  ...,  0.9180, -0.9999,  0.3096],\n",
       "        [ 0.9956,  0.9833, -0.9254,  ...,  0.9862,  0.1666,  0.9755],\n",
       "        [ 0.9362, -0.0168, -0.6430,  ...,  0.6051, -0.9334,  0.3653],\n",
       "        ...,\n",
       "        [ 0.3072,  0.3908, -0.4934,  ..., -0.2911, -0.8015,  0.8227],\n",
       "        [ 0.9788,  0.8530, -0.3903,  ...,  0.5042,  0.2925,  0.6730],\n",
       "        [ 0.9998, -0.8427, -0.9782,  ...,  0.9025, -0.9999, -0.8291]])"
      ]
     },
     "execution_count": 10,
     "metadata": {},
     "output_type": "execute_result"
    }
   ],
   "source": [
    "h = torch.tanh(emb.view(emb.shape[0], -1) @ W1 + b1)\n",
    "h"
   ]
  },
  {
   "cell_type": "code",
   "execution_count": 11,
   "id": "07f42ea1",
   "metadata": {},
   "outputs": [
    {
     "data": {
      "text/plain": [
       "torch.Size([182625, 100])"
      ]
     },
     "execution_count": 11,
     "metadata": {},
     "output_type": "execute_result"
    }
   ],
   "source": [
    "h.shape"
   ]
  },
  {
   "cell_type": "markdown",
   "id": "62671409",
   "metadata": {},
   "source": [
    "One thing to pay attention to, is the addition operation. The resulting matrix generated by multiplying `emb` (reshaped) and `W1` is of size `(32, 100)`, whilst the bias vector has size `(100)`.\n",
    "\n",
    "```\n",
    "32, 100 --> 32, 100\n",
    "    100 -->  1, 100\n",
    "```\n",
    "\n",
    "So the same bias vector will be copied to all the rows of the (`emb.view(emb.shape[0], -1) @ W1`) matrix. Meaning that element `b[0, 0]` will be added to each element of the row `x[0, :]`."
   ]
  },
  {
   "cell_type": "code",
   "execution_count": 12,
   "id": "754b9b03",
   "metadata": {},
   "outputs": [],
   "source": [
    "W2 = torch.randn((100, 27))\n",
    "b2 = torch.randn((27))"
   ]
  },
  {
   "cell_type": "code",
   "execution_count": 13,
   "id": "ccdfc5bb",
   "metadata": {},
   "outputs": [],
   "source": [
    "logits = h @ W2 + b2"
   ]
  },
  {
   "cell_type": "code",
   "execution_count": 14,
   "id": "9b663e56",
   "metadata": {},
   "outputs": [
    {
     "data": {
      "text/plain": [
       "torch.Size([182625, 27])"
      ]
     },
     "execution_count": 14,
     "metadata": {},
     "output_type": "execute_result"
    }
   ],
   "source": [
    "logits.shape"
   ]
  },
  {
   "cell_type": "code",
   "execution_count": 15,
   "id": "579e8fee",
   "metadata": {},
   "outputs": [],
   "source": [
    "counts = logits.exp()"
   ]
  },
  {
   "cell_type": "code",
   "execution_count": 16,
   "id": "164fb102",
   "metadata": {},
   "outputs": [],
   "source": [
    "probs = counts / counts.sum(1, keepdims=True)"
   ]
  },
  {
   "cell_type": "code",
   "execution_count": 17,
   "id": "b7f0ac27",
   "metadata": {},
   "outputs": [
    {
     "data": {
      "text/plain": [
       "torch.Size([182625, 27])"
      ]
     },
     "execution_count": 17,
     "metadata": {},
     "output_type": "execute_result"
    }
   ],
   "source": [
    "probs.shape"
   ]
  },
  {
   "cell_type": "code",
   "execution_count": 18,
   "id": "bb469467",
   "metadata": {},
   "outputs": [
    {
     "data": {
      "text/plain": [
       "tensor(1.0000)"
      ]
     },
     "execution_count": 18,
     "metadata": {},
     "output_type": "execute_result"
    }
   ],
   "source": [
    "# sanity check, rows should sum to 1\n",
    "probs[0].sum()"
   ]
  },
  {
   "cell_type": "code",
   "execution_count": 19,
   "id": "f8026efa",
   "metadata": {},
   "outputs": [
    {
     "data": {
      "text/plain": [
       "tensor(16.9105)"
      ]
     },
     "execution_count": 19,
     "metadata": {},
     "output_type": "execute_result"
    }
   ],
   "source": [
    "loss = -probs[torch.arange(x_trn.shape[0]), y_trn].log().mean()  # average neg log likelihood\n",
    "loss"
   ]
  },
  {
   "cell_type": "markdown",
   "id": "c3ce3f05",
   "metadata": {},
   "source": [
    "Let's rewrite all of the above in a more reusable way, and train the MLP model"
   ]
  },
  {
   "cell_type": "markdown",
   "id": "cc4f2a19",
   "metadata": {},
   "source": [
    "How can we find a good startint point for the learning rate?"
   ]
  },
  {
   "cell_type": "code",
   "execution_count": 20,
   "id": "197cb74c",
   "metadata": {},
   "outputs": [],
   "source": [
    "lre = []\n",
    "lrs = []\n",
    "tracker = []\n",
    "steps = 1_000\n",
    "\n",
    "for e in torch.linspace(-3, 0, steps):\n",
    "    lrs.append(10**e)\n",
    "    lre.append(e)\n",
    "    \n",
    "g = torch.Generator().manual_seed(2147483647)\n",
    "C = torch.randn((27, 2), generator=g).requires_grad_()\n",
    "W1 = torch.randn((6, 100), generator=g).requires_grad_()\n",
    "b1 = torch.randn((100), generator=g).requires_grad_()\n",
    "W2 = torch.randn((100, 27), generator=g).requires_grad_()\n",
    "b2 = torch.randn((27), generator=g).requires_grad_()\n",
    "parameters = [C, W1, b1, W2, b2]\n",
    "bs = 32\n",
    "\n",
    "for step in range(steps):\n",
    "    # minibatch\n",
    "    ix = torch.randint(0, x_trn.shape[0], (bs,))\n",
    "    xs = x_trn[ix]\n",
    "    ys = y_trn[ix]\n",
    "    lr = lrs[step]\n",
    "\n",
    "    # forward pass\n",
    "    emb = C[xs]  # (32, 3, 2)\n",
    "    h = torch.tanh(\n",
    "        emb.view((-1, 6)) @ W1 + b1\n",
    "    )  # (32, 100)... also tanh is important to not get inf loss!\n",
    "    logits = h @ W2 + b2  # (32, 27)\n",
    "    loss = F.cross_entropy(logits, ys)\n",
    "\n",
    "#     if step % 10 == 0:\n",
    "#         print(f\"step {step}: {loss.item()}\")\n",
    "\n",
    "    # backward pass\n",
    "    for p in parameters:\n",
    "        p.grad = None\n",
    "    loss.backward()\n",
    "\n",
    "    # update\n",
    "    with torch.no_grad():\n",
    "        for p in parameters:\n",
    "            p -= lr * p.grad\n",
    "        \n",
    "    tracker.append(loss.item())"
   ]
  },
  {
   "cell_type": "code",
   "execution_count": 21,
   "id": "1c44d0ad",
   "metadata": {},
   "outputs": [
    {
     "data": {
      "text/plain": [
       "[<matplotlib.lines.Line2D at 0x7fa979992d70>]"
      ]
     },
     "execution_count": 21,
     "metadata": {},
     "output_type": "execute_result"
    },
    {
     "data": {
      "image/png": "[encoded data removed]",
      "text/plain": [
       "<Figure size 640x480 with 1 Axes>"
      ]
     },
     "metadata": {},
     "output_type": "display_data"
    }
   ],
   "source": [
    "plt.plot(lre, tracker)"
   ]
  },
  {
   "cell_type": "markdown",
   "id": "61755e93",
   "metadata": {},
   "source": [
    "Using the LR Finder first proposed by [Leslie Smith](https://arxiv.org/abs/1506.01186), $ 10^{-1} $ seems like a good starting point."
   ]
  },
  {
   "cell_type": "code",
   "execution_count": 22,
   "id": "23088f50",
   "metadata": {},
   "outputs": [],
   "source": [
    "g = torch.Generator().manual_seed(2147483647)\n",
    "C = torch.randn((27, 10), generator=g).requires_grad_()\n",
    "W1 = torch.randn((30, 200), generator=g).requires_grad_()\n",
    "b1 = torch.randn((200), generator=g).requires_grad_()\n",
    "W2 = torch.randn((200, 27), generator=g).requires_grad_()\n",
    "b2 = torch.randn((27), generator=g).requires_grad_()\n",
    "parameters = [C, W1, b1, W2, b2]"
   ]
  },
  {
   "cell_type": "code",
   "execution_count": 23,
   "id": "ef740362",
   "metadata": {},
   "outputs": [
    {
     "data": {
      "text/plain": [
       "11897"
      ]
     },
     "execution_count": 23,
     "metadata": {},
     "output_type": "execute_result"
    }
   ],
   "source": [
    "sum(p.nelement() for p in parameters)"
   ]
  },
  {
   "cell_type": "code",
   "execution_count": 24,
   "id": "9869fdc7",
   "metadata": {},
   "outputs": [
    {
     "name": "stdout",
     "output_type": "stream",
     "text": [
      "---> new lr: 0.01\n"
     ]
    }
   ],
   "source": [
    "bs = 32\n",
    "lr = 0.1\n",
    "n_steps = 200_000\n",
    "\n",
    "steps = []\n",
    "lrs = []\n",
    "losses = []\n",
    "\n",
    "for step in range(n_steps):\n",
    "    # minibatch\n",
    "    ix = torch.randint(0, x_trn.shape[0], (bs,))\n",
    "    xs = x_trn[ix]\n",
    "    ys = y_trn[ix]\n",
    "\n",
    "    # forward pass\n",
    "    emb = C[xs]  # (32, 3, 10)\n",
    "    h = torch.tanh(\n",
    "        emb.view((-1, 30)) @ W1 + b1\n",
    "    )  # (32, 100)... also tanh is important to not get inf loss!\n",
    "    logits = h @ W2 + b2  # (32, 27)\n",
    "    loss = F.cross_entropy(logits, ys)\n",
    "\n",
    "    # backward pass\n",
    "    for p in parameters:\n",
    "        p.grad = None\n",
    "    loss.backward()\n",
    "\n",
    "    # step lr decay\n",
    "    if step == 100_000:\n",
    "        lr /= 10\n",
    "        print(f\"---> new lr: {lr}\")\n",
    "    \n",
    "    # update    \n",
    "    with torch.no_grad():\n",
    "        for p in parameters:\n",
    "            p -= lr * p.grad\n",
    "        \n",
    "    steps.append(step)\n",
    "    lrs.append(lr)\n",
    "    losses.append(loss.log10().item())"
   ]
  },
  {
   "cell_type": "code",
   "execution_count": 25,
   "id": "72b667b1",
   "metadata": {},
   "outputs": [
    {
     "data": {
      "image/png": "[encoded data removed]",
      "text/plain": [
       "<Figure size 640x480 with 1 Axes>"
      ]
     },
     "metadata": {},
     "output_type": "display_data"
    }
   ],
   "source": [
    "plt.plot(steps, losses)\n",
    "ax = plt.gca()\n",
    "plt.show()"
   ]
  },
  {
   "cell_type": "code",
   "execution_count": 26,
   "id": "d78782a4",
   "metadata": {},
   "outputs": [
    {
     "data": {
      "text/plain": [
       "tensor(2.1177, grad_fn=<NllLossBackward0>)"
      ]
     },
     "execution_count": 26,
     "metadata": {},
     "output_type": "execute_result"
    }
   ],
   "source": [
    "emb = C[x_trn]  # (32, 3, 2)\n",
    "h = torch.tanh(\n",
    "    emb.view((-1, 30)) @ W1 + b1\n",
    ")  # (32, 100)... also tanh is important to not get inf loss!\n",
    "logits = h @ W2 + b2  # (32, 27)\n",
    "loss = F.cross_entropy(logits, y_trn)\n",
    "loss"
   ]
  },
  {
   "cell_type": "markdown",
   "id": "1a4e36a9",
   "metadata": {},
   "source": [
    "Let's validate the quality of our model on the validation set."
   ]
  },
  {
   "cell_type": "code",
   "execution_count": 27,
   "id": "d8984dbe",
   "metadata": {},
   "outputs": [
    {
     "data": {
      "text/plain": [
       "tensor(2.1649, grad_fn=<NllLossBackward0>)"
      ]
     },
     "execution_count": 27,
     "metadata": {},
     "output_type": "execute_result"
    }
   ],
   "source": [
    "emb = C[x_val]  # (32, 3, 2)\n",
    "h = torch.tanh(\n",
    "    emb.view((-1, 30)) @ W1 + b1\n",
    ")  # (32, 100)... also tanh is important to not get inf loss!\n",
    "logits = h @ W2 + b2  # (32, 27)\n",
    "loss = F.cross_entropy(logits, y_val)\n",
    "loss"
   ]
  },
  {
   "cell_type": "code",
   "execution_count": 28,
   "id": "bb694cbd",
   "metadata": {},
   "outputs": [
    {
     "name": "stdout",
     "output_type": "stream",
     "text": [
      "mora.\n",
      "mayah.\n",
      "seel.\n",
      "ndhoralarethan.\n",
      "endraeg.\n",
      "aderedieliigh.\n",
      "parelle.\n",
      "elieananarleigh.\n",
      "malaia.\n",
      "noshidvikahiriel.\n",
      "kindreelle.\n",
      "xethana.\n",
      "usamyed.\n",
      "ryyah.\n",
      "faeha.\n",
      "kayshaston.\n",
      "azhia.\n",
      "salynn.\n",
      "unazalelle.\n",
      "ren.\n"
     ]
    }
   ],
   "source": [
    "# sample from the model\n",
    "g = torch.Generator().manual_seed(2147483647 + 10)\n",
    "block_size = 3\n",
    "for _ in range(20):\n",
    "    out = []\n",
    "    context = [0] * block_size\n",
    "    while True:\n",
    "        emb = C[torch.tensor([context])]  # (1, block_size, d)\n",
    "        h = torch.tanh(emb.view(1, -1) @ W1 + b1)\n",
    "        logits = h @ W2 + b2\n",
    "        probs = F.softmax(logits, dim=1)\n",
    "        ix = torch.multinomial(probs, num_samples=1, generator=g).item()\n",
    "        context = context[1:] + [ix]\n",
    "        out.append(ix)\n",
    "        if ix == 0:\n",
    "            break\n",
    "            \n",
    "    print(\"\".join(i2s[i] for i in out))"
   ]
  },
  {
   "cell_type": "markdown",
   "id": "6b7f9afc",
   "metadata": {},
   "source": [
    "This generated names are better than those generated by the bigram model, although not that good yet."
   ]
  }
 ],
 "metadata": {
  "kernelspec": {
   "display_name": "Python 3 (ipykernel)",
   "language": "python",
   "name": "python3"
  },
  "language_info": {
   "codemirror_mode": {
    "name": "ipython",
    "version": 3
   },
   "file_extension": ".py",
   "mimetype": "text/x-python",
   "name": "python",
   "nbconvert_exporter": "python",
   "pygments_lexer": "ipython3",
   "version": "3.10.12"
  }
 },
 "nbformat": 4,
 "nbformat_minor": 5
}
