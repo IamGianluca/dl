{
 "cells": [
  {
   "cell_type": "markdown",
   "id": "aa40bd0f",
   "metadata": {},
   "source": [
    "# Building `makemore` Part 2: MLP\n",
    "\n",
    "* Lecture: [YouTube](https://youtu.be/TCH_1BHY58I)\n",
    "* Reference paper: [Yoshua Bengio, Réjean Ducharme, Pascal Vincent, and Christian Jauvin. 2003. A Neural Probabilistic Language Model. J. Mach. Learn. Res. 3, (February 2003), 1137–1155.](https://www.jmlr.org/papers/volume3/bengio03a/bengio03a.pdf)\n",
    "\n",
    "One main difference in our implementation is that we are working with characters instead of words. The vocabulary size in the Bengio's paper is 17,000 words, whereas we are going to have a vocabulary of 27 characters (26 characters and the `<.>` special character)."
   ]
  },
  {
   "cell_type": "code",
   "execution_count": 1,
   "id": "6f80a1f2",
   "metadata": {},
   "outputs": [],
   "source": [
    "import torch\n",
    "import torch.nn.functional as F\n",
    "import matplotlib.pyplot as plt\n",
    "\n",
    "%matplotlib inline"
   ]
  },
  {
   "cell_type": "code",
   "execution_count": 2,
   "id": "6f8ee984",
   "metadata": {},
   "outputs": [
    {
     "data": {
      "text/plain": [
       "['emma', 'olivia', 'ava', 'isabella', 'sophia', 'charlotte', 'mia', 'amelia']"
      ]
     },
     "execution_count": 2,
     "metadata": {},
     "output_type": "execute_result"
    }
   ],
   "source": [
    "words = open(\"./names.txt\", \"r\").read().splitlines()\n",
    "words[:8]"
   ]
  },
  {
   "cell_type": "code",
   "execution_count": 3,
   "id": "f9ac509a",
   "metadata": {},
   "outputs": [
    {
     "data": {
      "text/plain": [
       "32033"
      ]
     },
     "execution_count": 3,
     "metadata": {},
     "output_type": "execute_result"
    }
   ],
   "source": [
    "len(words)"
   ]
  },
  {
   "cell_type": "code",
   "execution_count": 4,
   "id": "3169985a",
   "metadata": {},
   "outputs": [
    {
     "name": "stdout",
     "output_type": "stream",
     "text": [
      "{1: 'a', 2: 'b', 3: 'c', 4: 'd', 5: 'e', 6: 'f', 7: 'g', 8: 'h', 9: 'i', 10: 'j', 11: 'k', 12: 'l', 13: 'm', 14: 'n', 15: 'o', 16: 'p', 17: 'q', 18: 'r', 19: 's', 20: 't', 21: 'u', 22: 'v', 23: 'w', 24: 'x', 25: 'y', 26: 'z', 0: '.'}\n",
      "27\n"
     ]
    }
   ],
   "source": [
    "# build the vacabulary of characters and mapping to/from integers\n",
    "chars = sorted(list(set(\"\".join(words))))\n",
    "s2i = {s: i + 1 for i, s in enumerate(chars)}\n",
    "s2i[\".\"] = 0\n",
    "i2s = {i: s for s, i in s2i.items()}\n",
    "vocab_size = len(i2s)\n",
    "print(i2s)\n",
    "print(vocab_size)"
   ]
  },
  {
   "cell_type": "code",
   "execution_count": 5,
   "id": "da245984",
   "metadata": {},
   "outputs": [
    {
     "name": "stdout",
     "output_type": "stream",
     "text": [
      "torch.Size([182625, 3]) torch.Size([182625])\n",
      "torch.Size([22655, 3]) torch.Size([22655])\n",
      "torch.Size([22866, 3]) torch.Size([22866])\n"
     ]
    }
   ],
   "source": [
    "block_size = 3  # context length\n",
    "\n",
    "\n",
    "def build_dataset(words):\n",
    "    x, y = [], []\n",
    "    for w in words:\n",
    "        context = [0] * block_size\n",
    "        for ch in w + \".\":\n",
    "            ix = s2i[ch]\n",
    "            x.append(context)\n",
    "            y.append(ix)\n",
    "            context = context[1:] + [ix]  # crop and append\n",
    "\n",
    "    x = torch.tensor(x)\n",
    "    y = torch.tensor(y)\n",
    "    print(x.shape, y.shape)\n",
    "    return x, y\n",
    "\n",
    "\n",
    "import random\n",
    "\n",
    "random.seed(42)\n",
    "random.shuffle(words)\n",
    "n1 = int(0.8 * len(words))\n",
    "n2 = int(0.9 * len(words))\n",
    "\n",
    "x_trn, y_trn = build_dataset(words[:n1])\n",
    "x_val, y_val = build_dataset(words[n1:n2])\n",
    "x_tst, y_tst = build_dataset(words[n2:])"
   ]
  },
  {
   "cell_type": "code",
   "execution_count": 6,
   "id": "c4e134cc",
   "metadata": {},
   "outputs": [
    {
     "name": "stdout",
     "output_type": "stream",
     "text": [
      "Number of trainable parameters: 11897\n"
     ]
    }
   ],
   "source": [
    "# MLP\n",
    "n_embd = 10  # the dimensionality of the character embedding vectors\n",
    "n_hidden = 200  # the number of neurons in the hidden layer of the MLP\n",
    "\n",
    "g = torch.Generator().manual_seed(2147483647)  # for reproducibility\n",
    "C = torch.randn((vocab_size, n_embd), generator=g)\n",
    "W1 = torch.randn((n_embd * block_size, n_hidden), generator=g)\n",
    "b1 = torch.randn((n_hidden), generator=g)\n",
    "W2 = torch.randn((n_hidden, vocab_size), generator=g)\n",
    "b2 = torch.randn((vocab_size), generator=g)\n",
    "\n",
    "parameters = [C, W1, b1, W2, b2]\n",
    "print(\n",
    "    f\"Number of trainable parameters: {sum(p.nelement() for p in parameters)}\"\n",
    ")  # total number of parameters in the model\n",
    "\n",
    "for p in parameters:\n",
    "    p.requires_grad = True"
   ]
  },
  {
   "cell_type": "markdown",
   "id": "eb288f0e",
   "metadata": {},
   "source": [
    "How can we find a good startint point for the learning rate?"
   ]
  },
  {
   "cell_type": "code",
   "execution_count": 7,
   "id": "be4e879e",
   "metadata": {},
   "outputs": [],
   "source": [
    "lre = []\n",
    "lrs = []\n",
    "tracker = []\n",
    "max_steps = 1_000\n",
    "bs = 32\n",
    "\n",
    "for e in torch.linspace(-3, 0, max_steps):\n",
    "    lrs.append(10**e)\n",
    "    lre.append(e)\n",
    "\n",
    "for i in range(max_steps):\n",
    "    # minibatch construct\n",
    "    ix = torch.randint(0, x_trn.shape[0], (bs,), generator=g)\n",
    "    xb = x_trn[ix]\n",
    "    yb = y_trn[ix]\n",
    "\n",
    "    # forward pass\n",
    "    emb = C[xb]  # embed the characters into vectors\n",
    "    emb_cat = emb.view((emb.shape[0], -1))  # concat the vectors\n",
    "    h_pre_act = emb_cat @ W1 + b1  # hidden layer pre-activation\n",
    "    h = torch.tanh(h_pre_act)  # hidden layer\n",
    "    logits = h @ W2 + b2  # output layer\n",
    "    loss = F.cross_entropy(logits, yb)  # loss function\n",
    "\n",
    "    # backward pass\n",
    "    for p in parameters:\n",
    "        p.grad = None\n",
    "    loss.backward()\n",
    "\n",
    "    # update\n",
    "    with torch.no_grad():\n",
    "        for p in parameters:\n",
    "            p -= lrs[i] * p.grad\n",
    "\n",
    "    # track stats\n",
    "    tracker.append(loss.item())"
   ]
  },
  {
   "cell_type": "code",
   "execution_count": 8,
   "id": "ee2ee81b",
   "metadata": {},
   "outputs": [
    {
     "data": {
      "image/png": "[encoded data removed]",
      "text/plain": [
       "<Figure size 640x480 with 1 Axes>"
      ]
     },
     "metadata": {},
     "output_type": "display_data"
    }
   ],
   "source": [
    "plt.plot(lre, tracker)\n",
    "plt.title(\"Learning rate finder\")\n",
    "plt.ylabel(\"Loss\")\n",
    "plt.xlabel(\"Learning rate exponent\")\n",
    "plt.show()"
   ]
  },
  {
   "cell_type": "markdown",
   "id": "b7a356e5",
   "metadata": {},
   "source": [
    "Using the LR Finder first proposed by [Leslie Smith](https://arxiv.org/abs/1506.01186), $ 10^{-1} $ seems like a good starting point."
   ]
  },
  {
   "cell_type": "code",
   "execution_count": 9,
   "id": "6454ff64",
   "metadata": {},
   "outputs": [
    {
     "name": "stdout",
     "output_type": "stream",
     "text": [
      "Number of trainable parameters: 11897\n"
     ]
    }
   ],
   "source": [
    "# re-init the model\n",
    "n_embd = 10  # the dimensionality of the character embedding vectors\n",
    "n_hidden = 200  # the number of neurons in the hidden layer of the MLP\n",
    "\n",
    "g = torch.Generator().manual_seed(2147483647)  # for reproducibility\n",
    "C = torch.randn((vocab_size, n_embd), generator=g)\n",
    "W1 = torch.randn((n_embd * block_size, n_hidden), generator=g)\n",
    "b1 = torch.randn((n_hidden), generator=g)\n",
    "W2 = torch.randn((n_hidden, vocab_size), generator=g)\n",
    "b2 = torch.randn((vocab_size), generator=g)\n",
    "\n",
    "parameters = [C, W1, b1, W2, b2]\n",
    "print(\n",
    "    f\"Number of trainable parameters: {sum(p.nelement() for p in parameters)}\"\n",
    ")  # total number of parameters in the model\n",
    "\n",
    "for p in parameters:\n",
    "    p.requires_grad = True"
   ]
  },
  {
   "cell_type": "code",
   "execution_count": 10,
   "id": "5a271a1a",
   "metadata": {},
   "outputs": [
    {
     "name": "stdout",
     "output_type": "stream",
     "text": [
      "      0/ 200000: 27.8817\n",
      "  10000/ 200000: 2.9417\n",
      "  20000/ 200000: 2.5795\n",
      "  30000/ 200000: 2.7819\n",
      "  40000/ 200000: 2.0216\n",
      "  50000/ 200000: 2.5858\n",
      "  60000/ 200000: 2.3217\n",
      "  70000/ 200000: 2.1007\n",
      "  80000/ 200000: 2.2893\n",
      "  90000/ 200000: 2.2368\n",
      "step: 100000 // old lr: 0.1 ---> new lr: 0.01\n",
      " 100000/ 200000: 1.9774\n",
      " 110000/ 200000: 2.4507\n",
      " 120000/ 200000: 1.9623\n",
      " 130000/ 200000: 2.3657\n",
      " 140000/ 200000: 2.2424\n",
      " 150000/ 200000: 2.1469\n",
      " 160000/ 200000: 2.2506\n",
      " 170000/ 200000: 1.7543\n",
      " 180000/ 200000: 2.1055\n",
      " 190000/ 200000: 1.8174\n"
     ]
    }
   ],
   "source": [
    "max_steps = 200_000\n",
    "bs = 32\n",
    "lr = 0.1  # 1e-1\n",
    "\n",
    "steps = []\n",
    "lrs = []\n",
    "loss_i = []\n",
    "\n",
    "for i in range(max_steps):\n",
    "    # minibatch construct\n",
    "    ix = torch.randint(0, x_trn.shape[0], (bs,), generator=g)\n",
    "    xb = x_trn[ix]\n",
    "    yb = y_trn[ix]\n",
    "\n",
    "    # forward pass\n",
    "    emb = C[xb]  # embed the characters into vectors\n",
    "    emb_cat = emb.view((emb.shape[0], -1))  # concat the vectors\n",
    "    h_pre_act = emb_cat @ W1 + b1  # hidden layer pre-activation\n",
    "    h = torch.tanh(h_pre_act)  # hidden layer\n",
    "    logits = h @ W2 + b2  # output layer\n",
    "    loss = F.cross_entropy(logits, yb)  # loss function\n",
    "\n",
    "    # backward pass\n",
    "    for p in parameters:\n",
    "        p.grad = None\n",
    "    loss.backward()\n",
    "\n",
    "    # update\n",
    "    if i == 100_000:\n",
    "        old_lr = lr\n",
    "        lr /= 10\n",
    "        print(f\"step: {i} // old lr: {old_lr} ---> new lr: {lr}\")\n",
    "    with torch.no_grad():\n",
    "        for p in parameters:\n",
    "            p -= lr * p.grad\n",
    "\n",
    "    # track stats\n",
    "    if i % 10_000 == 0:\n",
    "        print(f\"{i:7d}/{max_steps:7d}: {loss.item():.4f}\")\n",
    "    loss_i.append(loss.log10().item())"
   ]
  },
  {
   "cell_type": "code",
   "execution_count": 11,
   "id": "d1b4fa9b",
   "metadata": {},
   "outputs": [
    {
     "data": {
      "image/png": "[encoded data removed]",
      "text/plain": [
       "<Figure size 640x480 with 1 Axes>"
      ]
     },
     "metadata": {},
     "output_type": "display_data"
    }
   ],
   "source": [
    "plt.plot(loss_i)\n",
    "plt.title(\"Training loss\")\n",
    "plt.xlabel(\"Steps\")\n",
    "plt.ylabel(\"Log Loss\")\n",
    "plt.show()"
   ]
  },
  {
   "cell_type": "code",
   "execution_count": 12,
   "id": "78cb53b7",
   "metadata": {},
   "outputs": [
    {
     "name": "stdout",
     "output_type": "stream",
     "text": [
      "train 2.126697540283203\n",
      "val 2.171041250228882\n"
     ]
    }
   ],
   "source": [
    "@torch.no_grad()  # this decorator disable gradient tracking\n",
    "def split_loss(split: str):\n",
    "    x, y = {\n",
    "        \"train\": (x_trn, y_trn),\n",
    "        \"val\": (x_val, y_val),\n",
    "        \"test\": (x_tst, y_tst),\n",
    "    }[split]\n",
    "    emb = C[x]  # (bs, block_size, n_embd)\n",
    "    emb_cat = emb.view((emb.shape[0], -1))  # concat into (bs, block_size * n_embd)\n",
    "    h_pre_act = emb_cat @ W1 + b1  # (bs, n_hidden)\n",
    "    h = torch.tanh(h_pre_act)  # (bs, n_hidden)\n",
    "    logits = h @ W2 + b2  # (bs, vocab_size)\n",
    "    loss = F.cross_entropy(logits, y)\n",
    "    print(split, loss.item())\n",
    "\n",
    "\n",
    "split_loss(\"train\")\n",
    "split_loss(\"val\")"
   ]
  },
  {
   "cell_type": "markdown",
   "id": "455ab4c2",
   "metadata": {},
   "source": [
    "Let's validate the quality of our model on the validation set."
   ]
  },
  {
   "cell_type": "code",
   "execution_count": 13,
   "id": "6d65a548",
   "metadata": {},
   "outputs": [
    {
     "name": "stdout",
     "output_type": "stream",
     "text": [
      "mona.\n",
      "mayah.\n",
      "see.\n",
      "mel.\n",
      "ryllo.\n",
      "emmadiengramira.\n",
      "eredielin.\n",
      "shy.\n",
      "jen.\n",
      "eden.\n",
      "eson.\n",
      "arleiyah.\n",
      "hone.\n",
      "cayshubergihimier.\n",
      "kendreelynn.\n",
      "nochorius.\n",
      "macder.\n",
      "yaque.\n",
      "ehs.\n",
      "kayjahsin.\n"
     ]
    }
   ],
   "source": [
    "# sample from the model\n",
    "g = torch.Generator().manual_seed(2147483647 + 10)\n",
    "block_size = 3\n",
    "for _ in range(20):\n",
    "    out = []\n",
    "    context = [0] * block_size  # initialize with all ...\n",
    "    while True:\n",
    "        # forward pass of the neural network\n",
    "        emb = C[torch.tensor([context])]  # (1, block_size, d)\n",
    "        h = torch.tanh(emb.view(1, -1) @ W1 + b1)\n",
    "        logits = h @ W2 + b2\n",
    "        probs = F.softmax(logits, dim=1)\n",
    "        # sample from the distribution\n",
    "        ix = torch.multinomial(probs, num_samples=1, generator=g).item()\n",
    "        # shift the context window and track the samples\n",
    "        context = context[1:] + [ix]\n",
    "        out.append(ix)\n",
    "        # if the special \".\" token break\n",
    "        if ix == 0:\n",
    "            break\n",
    "\n",
    "    print(\"\".join(i2s[i] for i in out))"
   ]
  },
  {
   "cell_type": "markdown",
   "id": "b2bbae66",
   "metadata": {},
   "source": [
    "This generated names are better than those generated by the bigram model, although not that good yet."
   ]
  }
 ],
 "metadata": {
  "kernelspec": {
   "display_name": "Python 3 (ipykernel)",
   "language": "python",
   "name": "python3"
  },
  "language_info": {
   "codemirror_mode": {
    "name": "ipython",
    "version": 3
   },
   "file_extension": ".py",
   "mimetype": "text/x-python",
   "name": "python",
   "nbconvert_exporter": "python",
   "pygments_lexer": "ipython3",
   "version": "3.10.12"
  }
 },
 "nbformat": 4,
 "nbformat_minor": 5
}
