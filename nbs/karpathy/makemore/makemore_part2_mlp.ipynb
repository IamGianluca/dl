{
 "cells": [
  {
   "cell_type": "markdown",
   "id": "95138fa6",
   "metadata": {},
   "source": [
    "Reference paper: [Yoshua Bengio, Réjean Ducharme, Pascal Vincent, and Christian Jauvin. 2003. A Neural Probabilistic Language Model. J. Mach. Learn. Res. 3, (February 2003), 1137–1155.](https://www.jmlr.org/papers/volume3/bengio03a/bengio03a.pdf)\n",
    "\n",
    "One main difference in our implementation is that we are working with characters instead of words. The vocabulary size in the Bengio's paper is 17,000 words, whereas we are going to have a vocabulary of 27 characters (26 characters and the `<.>` special character)."
   ]
  },
  {
   "cell_type": "code",
   "execution_count": 1,
   "id": "4379d429",
   "metadata": {},
   "outputs": [],
   "source": [
    "import torch\n",
    "import torch.nn.functional as F\n",
    "import matplotlib.pyplot as plt\n",
    "\n",
    "%matplotlib inline"
   ]
  },
  {
   "cell_type": "code",
   "execution_count": 2,
   "id": "685cdf82",
   "metadata": {},
   "outputs": [
    {
     "data": {
      "text/plain": [
       "['emma', 'olivia', 'ava', 'isabella', 'sophia', 'charlotte', 'mia', 'amelia']"
      ]
     },
     "execution_count": 2,
     "metadata": {},
     "output_type": "execute_result"
    }
   ],
   "source": [
    "words = open(\"./names.txt\", \"r\").read().splitlines()\n",
    "words[:8]"
   ]
  },
  {
   "cell_type": "code",
   "execution_count": 3,
   "id": "737e7602",
   "metadata": {},
   "outputs": [
    {
     "data": {
      "text/plain": [
       "32033"
      ]
     },
     "execution_count": 3,
     "metadata": {},
     "output_type": "execute_result"
    }
   ],
   "source": [
    "len(words)"
   ]
  },
  {
   "cell_type": "code",
   "execution_count": 4,
   "id": "751e2a61",
   "metadata": {},
   "outputs": [
    {
     "name": "stdout",
     "output_type": "stream",
     "text": [
      "{1: 'a', 2: 'b', 3: 'c', 4: 'd', 5: 'e', 6: 'f', 7: 'g', 8: 'h', 9: 'i', 10: 'j', 11: 'k', 12: 'l', 13: 'm', 14: 'n', 15: 'o', 16: 'p', 17: 'q', 18: 'r', 19: 's', 20: 't', 21: 'u', 22: 'v', 23: 'w', 24: 'x', 25: 'y', 26: 'z', 0: '.'}\n"
     ]
    }
   ],
   "source": [
    "chars = sorted(list(set(\"\".join(words))))\n",
    "s2i = {s: i + 1 for i, s in enumerate(chars)}\n",
    "s2i[\".\"] = 0\n",
    "i2s = {i: s for s, i in s2i.items()}\n",
    "print(i2s)"
   ]
  },
  {
   "cell_type": "code",
   "execution_count": 5,
   "id": "302a3e32",
   "metadata": {},
   "outputs": [
    {
     "name": "stdout",
     "output_type": "stream",
     "text": [
      "emma\n",
      "... ---> e\n",
      "..e ---> m\n",
      ".em ---> m\n",
      "emm ---> a\n",
      "mma ---> .\n",
      "olivia\n",
      "... ---> o\n",
      "..o ---> l\n",
      ".ol ---> i\n",
      "oli ---> v\n",
      "liv ---> i\n",
      "ivi ---> a\n",
      "via ---> .\n",
      "ava\n",
      "... ---> a\n",
      "..a ---> v\n",
      ".av ---> a\n",
      "ava ---> .\n",
      "isabella\n",
      "... ---> i\n",
      "..i ---> s\n",
      ".is ---> a\n",
      "isa ---> b\n",
      "sab ---> e\n",
      "abe ---> l\n",
      "bel ---> l\n",
      "ell ---> a\n",
      "lla ---> .\n",
      "sophia\n",
      "... ---> s\n",
      "..s ---> o\n",
      ".so ---> p\n",
      "sop ---> h\n",
      "oph ---> i\n",
      "phi ---> a\n",
      "hia ---> .\n"
     ]
    }
   ],
   "source": [
    "block_size = (\n",
    "    3  # context length: how many characters do we take to predict the next one?\n",
    ")\n",
    "X, Y = [], []\n",
    "for w in words[:5]:\n",
    "    print(w)\n",
    "    context = [0] * block_size\n",
    "    for ch in w + \".\":\n",
    "        ix = s2i[ch]\n",
    "        X.append(context)\n",
    "        Y.append(ix)\n",
    "        print(\"\".join(i2s[i] for i in context), \"--->\", i2s[ix])\n",
    "        context = context[1:] + [ix]  # crop and append\n",
    "\n",
    "X = torch.tensor(X)\n",
    "Y = torch.tensor(Y)"
   ]
  },
  {
   "cell_type": "code",
   "execution_count": 6,
   "id": "bba43348",
   "metadata": {},
   "outputs": [
    {
     "data": {
      "text/plain": [
       "(torch.Size([32, 3]), torch.int64, torch.Size([32]), torch.int64)"
      ]
     },
     "execution_count": 6,
     "metadata": {},
     "output_type": "execute_result"
    }
   ],
   "source": [
    "(\n",
    "    X.shape,\n",
    "    X.dtype,\n",
    "    Y.shape,\n",
    "    Y.dtype,\n",
    ")"
   ]
  },
  {
   "cell_type": "code",
   "execution_count": 7,
   "id": "fdbc14d5",
   "metadata": {},
   "outputs": [],
   "source": [
    "C = torch.randn((27, 2))  # embeddig matrix"
   ]
  },
  {
   "cell_type": "markdown",
   "id": "90506991",
   "metadata": {},
   "source": [
    "We can index this embedding matrix directly..."
   ]
  },
  {
   "cell_type": "code",
   "execution_count": 8,
   "id": "aa9134c2",
   "metadata": {},
   "outputs": [
    {
     "data": {
      "text/plain": [
       "tensor([-1.0183,  1.0021])"
      ]
     },
     "execution_count": 8,
     "metadata": {},
     "output_type": "execute_result"
    }
   ],
   "source": [
    "C[5]"
   ]
  },
  {
   "cell_type": "markdown",
   "id": "41a5f948",
   "metadata": {},
   "source": [
    "Or using a multiplication between a OHE vector and the embedding matrix..."
   ]
  },
  {
   "cell_type": "code",
   "execution_count": 9,
   "id": "8cfe30b8",
   "metadata": {},
   "outputs": [
    {
     "data": {
      "text/plain": [
       "tensor([-1.0183,  1.0021])"
      ]
     },
     "execution_count": 9,
     "metadata": {},
     "output_type": "execute_result"
    }
   ],
   "source": [
    "ohe = F.one_hot(torch.tensor(5), 27).float()  # F.one_hot() return int64 dtype tensors\n",
    "ohe @ C"
   ]
  },
  {
   "cell_type": "code",
   "execution_count": 10,
   "id": "1386970d",
   "metadata": {},
   "outputs": [
    {
     "data": {
      "text/plain": [
       "torch.Size([32, 3, 2])"
      ]
     },
     "execution_count": 10,
     "metadata": {},
     "output_type": "execute_result"
    }
   ],
   "source": [
    "emb = C[X]\n",
    "emb.shape  # bs, ctx len, emb lengh"
   ]
  },
  {
   "cell_type": "code",
   "execution_count": 11,
   "id": "468298e5",
   "metadata": {},
   "outputs": [],
   "source": [
    "W1 = torch.randn((6, 100))  # (ctx len x emb length), hidden dim\n",
    "b1 = torch.randn(100)"
   ]
  },
  {
   "cell_type": "code",
   "execution_count": 12,
   "id": "6e992ccc",
   "metadata": {},
   "outputs": [],
   "source": [
    "# we would like to perform (emb @ W1) + b1, but the dims don't match\n",
    "# ---------------------------------------------------------------------------\n",
    "# RuntimeError                              Traceback (most recent call last)\n",
    "# Cell In[31], line 1\n",
    "# ----> 1 (emb @ W1) + b1\n",
    "\n",
    "# RuntimeError: mat1 and mat2 shapes cannot be multiplied (96x2 and 6x100)e"
   ]
  },
  {
   "cell_type": "markdown",
   "id": "a2f7691e",
   "metadata": {},
   "source": [
    "To solve this problem, we want to multiply between a matrix of shape `(32, 6)` and one of shape `(6, 100)`. One way to achieve this issue is to use `torch.cat()` and \"manually\" concatenate the embedding representation for each token in the input context."
   ]
  },
  {
   "cell_type": "code",
   "execution_count": 13,
   "id": "944d63fa",
   "metadata": {},
   "outputs": [
    {
     "name": "stdout",
     "output_type": "stream",
     "text": [
      "28.9 µs ± 81.4 ns per loop (mean ± std. dev. of 7 runs, 10,000 loops each)\n"
     ]
    }
   ],
   "source": [
    "%%timeit\n",
    "(torch.cat((emb[:, 0, :], emb[:, 1, :], emb[:, 2, :]), 1) @ W1) + b1  # we need to concatenate "
   ]
  },
  {
   "cell_type": "markdown",
   "id": "01bc5ab2",
   "metadata": {},
   "source": [
    "The issue with this approach is that it won't automatically handle increasing/decreasing the context length. \n",
    "\n",
    "Alternatively, we could use `torch unbind()`. This command will return a tuple of all slices along a given dimension, already without it."
   ]
  },
  {
   "cell_type": "code",
   "execution_count": 14,
   "id": "68800391",
   "metadata": {},
   "outputs": [
    {
     "data": {
      "text/plain": [
       "3"
      ]
     },
     "execution_count": 14,
     "metadata": {},
     "output_type": "execute_result"
    }
   ],
   "source": [
    "a = torch.unbind(emb, 1)\n",
    "len(a)"
   ]
  },
  {
   "cell_type": "code",
   "execution_count": 15,
   "id": "4aa56e81",
   "metadata": {},
   "outputs": [
    {
     "name": "stdout",
     "output_type": "stream",
     "text": [
      "16.9 µs ± 56.6 ns per loop (mean ± std. dev. of 7 runs, 100,000 loops each)\n"
     ]
    }
   ],
   "source": [
    "%%timeit \n",
    "(torch.cat(torch.unbind(emb, 1), 1) @ W1) + b1"
   ]
  },
  {
   "cell_type": "markdown",
   "id": "25f768d7",
   "metadata": {},
   "source": [
    "One downside of using `torch.cat()` is that we are creating an entirely new tensor in memory."
   ]
  },
  {
   "cell_type": "markdown",
   "id": "8b484a07",
   "metadata": {},
   "source": [
    "An even more efficient way of doing this is to use the `.view()` method. In each tensor, there is an undelying storage, that we can access with `Tensor.storage()`, which contains all of the numbers in a tensor as a 1-dimensional vector. This in how the tensor is represented in memory ― a 1D vector. When we call `.view()`, we are manipulating some attributes (i.e., offset, stride, and shape) of that tensor, that dictate how this 1D sequence is interpreted to be as a N-dimensional tensor. When we use `.view()`, no memory is being moved, copied, or created. The storage stays the same. "
   ]
  },
  {
   "cell_type": "code",
   "execution_count": 16,
   "id": "b2a39114",
   "metadata": {},
   "outputs": [
    {
     "name": "stdout",
     "output_type": "stream",
     "text": [
      "7.8 µs ± 30.4 ns per loop (mean ± std. dev. of 7 runs, 100,000 loops each)\n"
     ]
    }
   ],
   "source": [
    "%%timeit\n",
    "(emb.view((32, -1)) @ W1) + b1"
   ]
  },
  {
   "cell_type": "markdown",
   "id": "2728f136",
   "metadata": {},
   "source": [
    "Another approach, more readable and also performant is to use `.reshape()`. As [this StackOverflow answer](https://stackoverflow.com/a/54507446/2092449) very clearly explains, the difference between `.view()` and `.reshape()` is that the latter might return a new tensor that may be a view of the original tensor, or it may be a new tensor altogether. So, if you just want to reshape tensors, use `.reshape()`. If you're also concerned about memory usage and want to ensure that the two tensors share the same data, use `.view()`."
   ]
  },
  {
   "cell_type": "code",
   "execution_count": 17,
   "id": "b7d1864d",
   "metadata": {},
   "outputs": [
    {
     "name": "stdout",
     "output_type": "stream",
     "text": [
      "7.9 µs ± 31 ns per loop (mean ± std. dev. of 7 runs, 100,000 loops each)\n"
     ]
    }
   ],
   "source": [
    "%%timeit\n",
    "(emb.reshape((32, -1)) @ W1) + b1"
   ]
  },
  {
   "cell_type": "markdown",
   "id": "ded3304c",
   "metadata": {},
   "source": [
    "I suggest to use `view()` whenever possible, for performance reasons."
   ]
  },
  {
   "cell_type": "code",
   "execution_count": 18,
   "id": "b282b5a2",
   "metadata": {},
   "outputs": [
    {
     "data": {
      "text/plain": [
       "tensor([[-0.3733, -0.3367, -0.1093,  ..., -0.7480, -0.9814, -0.9784],\n",
       "        [ 0.9697, -0.9851,  0.9336,  ..., -0.8036, -0.7131, -1.0000],\n",
       "        [-0.9453,  0.9108,  0.9976,  ..., -0.8728,  0.8644,  0.9003],\n",
       "        ...,\n",
       "        [ 0.7043, -0.4071,  0.9782,  ..., -0.2805, -0.2738, -0.9826],\n",
       "        [ 0.8992,  0.9788, -0.9462,  ...,  0.5092, -0.6950, -0.0664],\n",
       "        [-1.0000, -0.9968, -0.8004,  ..., -0.9638,  0.9989,  0.9915]])"
      ]
     },
     "execution_count": 18,
     "metadata": {},
     "output_type": "execute_result"
    }
   ],
   "source": [
    "h = torch.tanh(emb.view(emb.shape[0], -1) @ W1 + b1)\n",
    "h"
   ]
  },
  {
   "cell_type": "code",
   "execution_count": 19,
   "id": "e3bf83fe",
   "metadata": {},
   "outputs": [
    {
     "data": {
      "text/plain": [
       "torch.Size([32, 100])"
      ]
     },
     "execution_count": 19,
     "metadata": {},
     "output_type": "execute_result"
    }
   ],
   "source": [
    "h.shape"
   ]
  },
  {
   "cell_type": "markdown",
   "id": "e79bbcf7",
   "metadata": {},
   "source": [
    "One thing to pay attention to, is the addition operation. The resulting matrix generated by multiplying `emb` (reshaped) and `W1` is of size `(32, 100)`, whilst the bias vector has size `(100)`.\n",
    "\n",
    "```\n",
    "32, 100 --> 32, 100\n",
    "    100 -->  1, 100\n",
    "```\n",
    "\n",
    "So the same bias vector will be copied to all the rows of the (`emb.view(emb.shape[0], -1) @ W1`) matrix. Meaning that element `b[0, 0]` will be added to each element of the row `x[0, :]`."
   ]
  },
  {
   "cell_type": "code",
   "execution_count": 20,
   "id": "b74f9d0b",
   "metadata": {},
   "outputs": [],
   "source": [
    "W2 = torch.randn((100, 27))\n",
    "b2 = torch.randn((27))"
   ]
  },
  {
   "cell_type": "code",
   "execution_count": 21,
   "id": "235df9ff",
   "metadata": {},
   "outputs": [],
   "source": [
    "logits = h @ W2 + b2"
   ]
  },
  {
   "cell_type": "code",
   "execution_count": 22,
   "id": "c7253ab9",
   "metadata": {},
   "outputs": [
    {
     "data": {
      "text/plain": [
       "torch.Size([32, 27])"
      ]
     },
     "execution_count": 22,
     "metadata": {},
     "output_type": "execute_result"
    }
   ],
   "source": [
    "logits.shape"
   ]
  },
  {
   "cell_type": "code",
   "execution_count": 23,
   "id": "2a230778",
   "metadata": {},
   "outputs": [],
   "source": [
    "counts = logits.exp()"
   ]
  },
  {
   "cell_type": "code",
   "execution_count": 24,
   "id": "43b21172",
   "metadata": {},
   "outputs": [],
   "source": [
    "probs = counts / counts.sum(1, keepdims=True)"
   ]
  },
  {
   "cell_type": "code",
   "execution_count": 25,
   "id": "7b818c1a",
   "metadata": {},
   "outputs": [
    {
     "data": {
      "text/plain": [
       "torch.Size([32, 27])"
      ]
     },
     "execution_count": 25,
     "metadata": {},
     "output_type": "execute_result"
    }
   ],
   "source": [
    "probs.shape"
   ]
  },
  {
   "cell_type": "code",
   "execution_count": 26,
   "id": "1f749fb9",
   "metadata": {},
   "outputs": [
    {
     "data": {
      "text/plain": [
       "tensor(1.0000)"
      ]
     },
     "execution_count": 26,
     "metadata": {},
     "output_type": "execute_result"
    }
   ],
   "source": [
    "# sanity check, rows should sum to 1\n",
    "probs[0].sum()"
   ]
  },
  {
   "cell_type": "code",
   "execution_count": 27,
   "id": "e3e7c9f1",
   "metadata": {},
   "outputs": [
    {
     "data": {
      "text/plain": [
       "tensor(13.7568)"
      ]
     },
     "execution_count": 27,
     "metadata": {},
     "output_type": "execute_result"
    }
   ],
   "source": [
    "loss = -probs[torch.arange(32), Y].log().mean()  # average neg log likelihood\n",
    "loss"
   ]
  },
  {
   "cell_type": "markdown",
   "id": "f4a701e3",
   "metadata": {},
   "source": [
    "Let's rewrite all of the above in a more reusable way, and train the MLP model"
   ]
  },
  {
   "cell_type": "code",
   "execution_count": 28,
   "id": "aa69f219",
   "metadata": {},
   "outputs": [],
   "source": [
    "block_size = (\n",
    "    3  # context length: how many characters do we take to predict the next one?\n",
    ")\n",
    "X, Y = [], []\n",
    "for w in words:\n",
    "    context = [0] * block_size\n",
    "    for ch in w + \".\":\n",
    "        ix = s2i[ch]\n",
    "        X.append(context)\n",
    "        Y.append(ix)\n",
    "        context = context[1:] + [ix]  # crop and append\n",
    "\n",
    "X = torch.tensor(X)\n",
    "Y = torch.tensor(Y)"
   ]
  },
  {
   "cell_type": "code",
   "execution_count": 29,
   "id": "53aa6d6a",
   "metadata": {},
   "outputs": [
    {
     "data": {
      "text/plain": [
       "(torch.Size([228146, 3]), torch.Size([228146]))"
      ]
     },
     "execution_count": 29,
     "metadata": {},
     "output_type": "execute_result"
    }
   ],
   "source": [
    "X.shape, Y.shape"
   ]
  },
  {
   "cell_type": "markdown",
   "id": "382bcb23",
   "metadata": {},
   "source": [
    "How can we find a good startint point for the learning rate?"
   ]
  },
  {
   "cell_type": "code",
   "execution_count": 30,
   "id": "a326a17d",
   "metadata": {},
   "outputs": [
    {
     "name": "stdout",
     "output_type": "stream",
     "text": [
      "step 0: 20.520742416381836\n",
      "step 10: 15.709940910339355\n",
      "step 20: 18.65235710144043\n",
      "step 30: 19.184219360351562\n",
      "step 40: 18.97753143310547\n",
      "step 50: 17.87656593322754\n",
      "step 60: 16.9854736328125\n",
      "step 70: 17.939760208129883\n",
      "step 80: 15.722808837890625\n",
      "step 90: 15.315943717956543\n",
      "step 100: 14.567620277404785\n",
      "step 110: 15.001252174377441\n",
      "step 120: 16.64520835876465\n",
      "step 130: 17.108299255371094\n",
      "step 140: 16.85639762878418\n",
      "step 150: 16.003313064575195\n",
      "step 160: 17.57159423828125\n",
      "step 170: 12.908891677856445\n",
      "step 180: 14.073016166687012\n",
      "step 190: 13.801885604858398\n",
      "step 200: 11.809076309204102\n",
      "step 210: 13.443002700805664\n",
      "step 220: 11.984759330749512\n",
      "step 230: 13.750946044921875\n",
      "step 240: 14.751912117004395\n",
      "step 250: 10.859346389770508\n",
      "step 260: 9.701944351196289\n",
      "step 270: 13.113263130187988\n",
      "step 280: 13.338791847229004\n",
      "step 290: 10.742907524108887\n",
      "step 300: 8.724717140197754\n",
      "step 310: 12.030903816223145\n",
      "step 320: 11.712464332580566\n",
      "step 330: 9.133163452148438\n",
      "step 340: 10.498455047607422\n",
      "step 350: 7.496704578399658\n",
      "step 360: 10.222686767578125\n",
      "step 370: 7.125413417816162\n",
      "step 380: 7.588293552398682\n",
      "step 390: 9.64920711517334\n",
      "step 400: 9.803216934204102\n",
      "step 410: 6.296432018280029\n",
      "step 420: 5.960479259490967\n",
      "step 430: 8.305158615112305\n",
      "step 440: 7.197748184204102\n",
      "step 450: 5.581406116485596\n",
      "step 460: 5.7366943359375\n",
      "step 470: 7.724076271057129\n",
      "step 480: 6.747848033905029\n",
      "step 490: 7.107751846313477\n",
      "step 500: 5.132464408874512\n",
      "step 510: 5.4366559982299805\n",
      "step 520: 3.8345284461975098\n",
      "step 530: 5.022295951843262\n",
      "step 540: 5.084229469299316\n",
      "step 550: 4.692144870758057\n",
      "step 560: 5.141576766967773\n",
      "step 570: 3.9456112384796143\n",
      "step 580: 4.075318336486816\n",
      "step 590: 4.747737884521484\n",
      "step 600: 4.029313564300537\n",
      "step 610: 4.077727794647217\n",
      "step 620: 3.7041819095611572\n",
      "step 630: 3.187995672225952\n",
      "step 640: 3.396261215209961\n",
      "step 650: 3.7300751209259033\n",
      "step 660: 4.130451202392578\n",
      "step 670: 2.518537998199463\n",
      "step 680: 3.028013229370117\n",
      "step 690: 3.100043535232544\n",
      "step 700: 2.939173936843872\n",
      "step 710: 3.463352680206299\n",
      "step 720: 3.3321800231933594\n",
      "step 730: 4.098484992980957\n",
      "step 740: 2.995131731033325\n",
      "step 750: 3.3859589099884033\n",
      "step 760: 3.4046244621276855\n",
      "step 770: 3.5130441188812256\n",
      "step 780: 2.5858895778656006\n",
      "step 790: 3.5049209594726562\n",
      "step 800: 3.5011677742004395\n",
      "step 810: 3.0458152294158936\n",
      "step 820: 3.3219847679138184\n",
      "step 830: 2.9134891033172607\n",
      "step 840: 2.984696626663208\n",
      "step 850: 3.537437677383423\n",
      "step 860: 4.303592205047607\n",
      "step 870: 4.108675003051758\n",
      "step 880: 4.344000339508057\n",
      "step 890: 3.890944480895996\n",
      "step 900: 3.349559783935547\n",
      "step 910: 3.8395369052886963\n",
      "step 920: 4.305211067199707\n",
      "step 930: 5.197303771972656\n",
      "step 940: 6.0414299964904785\n",
      "step 950: 4.409769058227539\n",
      "step 960: 8.064628601074219\n",
      "step 970: 7.612118244171143\n",
      "step 980: 8.073556900024414\n",
      "step 990: 6.518810749053955\n"
     ]
    }
   ],
   "source": [
    "lre = []\n",
    "lrs = []\n",
    "tracker = []\n",
    "steps = 1_000\n",
    "\n",
    "for e in torch.linspace(-3, 0, steps):\n",
    "    lrs.append(10**e)\n",
    "    lre.append(e)\n",
    "    \n",
    "g = torch.Generator().manual_seed(2147483647)\n",
    "C = torch.randn((27, 2), generator=g).requires_grad_()\n",
    "W1 = torch.randn((6, 100), generator=g).requires_grad_()\n",
    "b1 = torch.randn((100), generator=g).requires_grad_()\n",
    "W2 = torch.randn((100, 27), generator=g).requires_grad_()\n",
    "b2 = torch.randn((27), generator=g).requires_grad_()\n",
    "parameters = [C, W1, b1, W2, b2]\n",
    "bs = 32\n",
    "\n",
    "for step in range(steps):\n",
    "    # minibatch\n",
    "    ix = torch.randint(0, X.shape[0], (bs,))\n",
    "    xs = X[ix]\n",
    "    ys = Y[ix]\n",
    "    lr = lrs[step]\n",
    "\n",
    "    # forward pass\n",
    "    emb = C[xs]  # (32, 3, 2)\n",
    "    h = torch.tanh(\n",
    "        emb.view((-1, 6)) @ W1 + b1\n",
    "    )  # (32, 100)... also tanh is important to not get inf loss!\n",
    "    logits = h @ W2 + b2  # (32, 27)\n",
    "    loss = F.cross_entropy(logits, ys)\n",
    "\n",
    "    if step % 10 == 0:\n",
    "        print(f\"step {step}: {loss.item()}\")\n",
    "\n",
    "    # backward pass\n",
    "    for p in parameters:\n",
    "        p.grad = None\n",
    "    loss.backward()\n",
    "\n",
    "    # update\n",
    "    for p in parameters:\n",
    "        p.data -= lr * p.grad\n",
    "        \n",
    "    tracker.append(loss.item())"
   ]
  },
  {
   "cell_type": "code",
   "execution_count": 31,
   "id": "0b4a61ab",
   "metadata": {},
   "outputs": [
    {
     "data": {
      "text/plain": [
       "[<matplotlib.lines.Line2D at 0x7f0ae183f880>]"
      ]
     },
     "execution_count": 31,
     "metadata": {},
     "output_type": "execute_result"
    },
    {
     "data": {
      "image/png": "[encoded data removed]",
      "text/plain": [
       "<Figure size 640x480 with 1 Axes>"
      ]
     },
     "metadata": {},
     "output_type": "display_data"
    }
   ],
   "source": [
    "plt.plot(lre, tracker)"
   ]
  },
  {
   "cell_type": "markdown",
   "id": "700f8619",
   "metadata": {},
   "source": [
    "Using the LR Finder first proposed by [Leslie Smith](https://arxiv.org/abs/1506.01186), $ 10^{-1} $ seems like a good starting point."
   ]
  },
  {
   "cell_type": "code",
   "execution_count": 55,
   "id": "7cc71282",
   "metadata": {},
   "outputs": [],
   "source": [
    "g = torch.Generator().manual_seed(2147483647)\n",
    "C = torch.randn((27, 2), generator=g).requires_grad_()\n",
    "W1 = torch.randn((6, 100), generator=g).requires_grad_()\n",
    "b1 = torch.randn((100), generator=g).requires_grad_()\n",
    "W2 = torch.randn((100, 27), generator=g).requires_grad_()\n",
    "b2 = torch.randn((27), generator=g).requires_grad_()\n",
    "parameters = [C, W1, b1, W2, b2]"
   ]
  },
  {
   "cell_type": "code",
   "execution_count": 56,
   "id": "ad23ec58",
   "metadata": {},
   "outputs": [
    {
     "data": {
      "text/plain": [
       "3481"
      ]
     },
     "execution_count": 56,
     "metadata": {},
     "output_type": "execute_result"
    }
   ],
   "source": [
    "sum(p.nelement() for p in parameters)"
   ]
  },
  {
   "cell_type": "code",
   "execution_count": 57,
   "id": "80154430",
   "metadata": {},
   "outputs": [
    {
     "name": "stdout",
     "output_type": "stream",
     "text": [
      "epoch 0: 21.285463333129883\n",
      "epoch 250: 2.779158115386963\n",
      "epoch 500: 2.7999091148376465\n",
      "epoch 750: 2.9286704063415527\n",
      "epoch 1000: 2.732006549835205\n",
      "epoch 1250: 2.4961163997650146\n",
      "epoch 1500: 2.803800344467163\n",
      "epoch 1750: 2.5853960514068604\n",
      "epoch 2000: 2.9869768619537354\n",
      "epoch 2250: 2.4019172191619873\n",
      "epoch 2500: 2.8153340816497803\n",
      "epoch 2750: 2.7604598999023438\n",
      "epoch 3000: 2.7406837940216064\n",
      "epoch 3250: 2.374897003173828\n",
      "epoch 3500: 2.639711618423462\n",
      "epoch 3750: 2.7565231323242188\n",
      "epoch 4000: 2.4598326683044434\n",
      "epoch 4250: 2.5725317001342773\n",
      "epoch 4500: 2.730372190475464\n",
      "epoch 4750: 2.3899929523468018\n"
     ]
    }
   ],
   "source": [
    "bs = 32\n",
    "lr = 10**-1\n",
    "\n",
    "for step in range(5_000):\n",
    "    # minibatch\n",
    "    ix = torch.randint(0, X.shape[0], (bs,))\n",
    "    xs = X[ix]\n",
    "    ys = Y[ix]\n",
    "\n",
    "    # forward pass\n",
    "    emb = C[xs]  # (32, 3, 2)\n",
    "    h = torch.tanh(\n",
    "        emb.view((-1, 6)) @ W1 + b1\n",
    "    )  # (32, 100)... also tanh is important to not get inf loss!\n",
    "    logits = h @ W2 + b2  # (32, 27)\n",
    "    loss = F.cross_entropy(logits, ys)\n",
    "\n",
    "    if step % 250 == 0:\n",
    "        print(f\"epoch {step}: {loss.item()}\")\n",
    "\n",
    "    # backward pass\n",
    "    for p in parameters:\n",
    "        p.grad = None\n",
    "    loss.backward()\n",
    "\n",
    "    # update\n",
    "    if step == 4_000:\n",
    "        lr = lr / 10\n",
    "    for p in parameters:\n",
    "        p.data -= lr * p.grad"
   ]
  },
  {
   "cell_type": "markdown",
   "id": "edb76c4a",
   "metadata": {},
   "source": [
    "This model might be slightly better than the bigram model, since we are reaching a lower training loss. We should however use a validation loss/metric to have definitive results."
   ]
  },
  {
   "cell_type": "code",
   "execution_count": null,
   "id": "dcc63b35",
   "metadata": {},
   "outputs": [],
   "source": []
  }
 ],
 "metadata": {
  "kernelspec": {
   "display_name": "Python 3 (ipykernel)",
   "language": "python",
   "name": "python3"
  },
  "language_info": {
   "codemirror_mode": {
    "name": "ipython",
    "version": 3
   },
   "file_extension": ".py",
   "mimetype": "text/x-python",
   "name": "python",
   "nbconvert_exporter": "python",
   "pygments_lexer": "ipython3",
   "version": "3.10.12"
  }
 },
 "nbformat": 4,
 "nbformat_minor": 5
}
