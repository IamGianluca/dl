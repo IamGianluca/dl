{
 "cells": [
  {
   "cell_type": "markdown",
   "id": "009af9c5",
   "metadata": {},
   "source": [
    "Reference paper: [Yoshua Bengio, Réjean Ducharme, Pascal Vincent, and Christian Jauvin. 2003. A Neural Probabilistic Language Model. J. Mach. Learn. Res. 3, (February 2003), 1137–1155.](https://www.jmlr.org/papers/volume3/bengio03a/bengio03a.pdf)\n",
    "\n",
    "One main difference in our implementation is that we are working with characters instead of words. The vocabulary size in the Bengio's paper is 17,000 words, whereas we are going to have a vocabulary of 27 characters (26 characters and the `<.>` special character)."
   ]
  },
  {
   "cell_type": "code",
   "execution_count": 1,
   "id": "dce91aff",
   "metadata": {},
   "outputs": [],
   "source": [
    "import torch\n",
    "import torch.nn.functional as F\n",
    "import matplotlib.pyplot as plt\n",
    "\n",
    "%matplotlib inline"
   ]
  },
  {
   "cell_type": "code",
   "execution_count": 2,
   "id": "fc597bc7",
   "metadata": {},
   "outputs": [
    {
     "data": {
      "text/plain": [
       "['emma', 'olivia', 'ava', 'isabella', 'sophia', 'charlotte', 'mia', 'amelia']"
      ]
     },
     "execution_count": 2,
     "metadata": {},
     "output_type": "execute_result"
    }
   ],
   "source": [
    "words = open(\"./names.txt\", \"r\").read().splitlines()\n",
    "words[:8]"
   ]
  },
  {
   "cell_type": "code",
   "execution_count": 3,
   "id": "cffbcaf8",
   "metadata": {},
   "outputs": [
    {
     "data": {
      "text/plain": [
       "32033"
      ]
     },
     "execution_count": 3,
     "metadata": {},
     "output_type": "execute_result"
    }
   ],
   "source": [
    "len(words)"
   ]
  },
  {
   "cell_type": "code",
   "execution_count": 4,
   "id": "44da4242",
   "metadata": {},
   "outputs": [
    {
     "name": "stdout",
     "output_type": "stream",
     "text": [
      "{1: 'a', 2: 'b', 3: 'c', 4: 'd', 5: 'e', 6: 'f', 7: 'g', 8: 'h', 9: 'i', 10: 'j', 11: 'k', 12: 'l', 13: 'm', 14: 'n', 15: 'o', 16: 'p', 17: 'q', 18: 'r', 19: 's', 20: 't', 21: 'u', 22: 'v', 23: 'w', 24: 'x', 25: 'y', 26: 'z', 0: '.'}\n"
     ]
    }
   ],
   "source": [
    "chars = sorted(list(set(\"\".join(words))))\n",
    "s2i = {s: i + 1 for i, s in enumerate(chars)}\n",
    "s2i[\".\"] = 0\n",
    "i2s = {i: s for s, i in s2i.items()}\n",
    "print(i2s)"
   ]
  },
  {
   "cell_type": "code",
   "execution_count": 5,
   "id": "56cdfe86",
   "metadata": {},
   "outputs": [
    {
     "name": "stdout",
     "output_type": "stream",
     "text": [
      "emma\n",
      "... ---> e\n",
      "..e ---> m\n",
      ".em ---> m\n",
      "emm ---> a\n",
      "mma ---> .\n",
      "olivia\n",
      "... ---> o\n",
      "..o ---> l\n",
      ".ol ---> i\n",
      "oli ---> v\n",
      "liv ---> i\n",
      "ivi ---> a\n",
      "via ---> .\n",
      "ava\n",
      "... ---> a\n",
      "..a ---> v\n",
      ".av ---> a\n",
      "ava ---> .\n",
      "isabella\n",
      "... ---> i\n",
      "..i ---> s\n",
      ".is ---> a\n",
      "isa ---> b\n",
      "sab ---> e\n",
      "abe ---> l\n",
      "bel ---> l\n",
      "ell ---> a\n",
      "lla ---> .\n",
      "sophia\n",
      "... ---> s\n",
      "..s ---> o\n",
      ".so ---> p\n",
      "sop ---> h\n",
      "oph ---> i\n",
      "phi ---> a\n",
      "hia ---> .\n"
     ]
    }
   ],
   "source": [
    "block_size = (\n",
    "    3  # context length: how many characters do we take to predict the next one?\n",
    ")\n",
    "X, Y = [], []\n",
    "for w in words[:5]:\n",
    "    print(w)\n",
    "    context = [0] * block_size\n",
    "    for ch in w + \".\":\n",
    "        ix = s2i[ch]\n",
    "        X.append(context)\n",
    "        Y.append(ix)\n",
    "        print(\"\".join(i2s[i] for i in context), \"--->\", i2s[ix])\n",
    "        context = context[1:] + [ix]  # crop and append\n",
    "\n",
    "X = torch.tensor(X)\n",
    "Y = torch.tensor(Y)"
   ]
  },
  {
   "cell_type": "code",
   "execution_count": 6,
   "id": "f9dce85f",
   "metadata": {},
   "outputs": [
    {
     "data": {
      "text/plain": [
       "(torch.Size([32, 3]), torch.int64, torch.Size([32]), torch.int64)"
      ]
     },
     "execution_count": 6,
     "metadata": {},
     "output_type": "execute_result"
    }
   ],
   "source": [
    "(\n",
    "    X.shape,\n",
    "    X.dtype,\n",
    "    Y.shape,\n",
    "    Y.dtype,\n",
    ")"
   ]
  },
  {
   "cell_type": "code",
   "execution_count": 7,
   "id": "bba41932",
   "metadata": {},
   "outputs": [],
   "source": [
    "C = torch.randn((27, 2))  # embeddig matrix"
   ]
  },
  {
   "cell_type": "markdown",
   "id": "51a76084",
   "metadata": {},
   "source": [
    "We can index this embedding matrix directly..."
   ]
  },
  {
   "cell_type": "code",
   "execution_count": 8,
   "id": "64f62caa",
   "metadata": {},
   "outputs": [
    {
     "data": {
      "text/plain": [
       "tensor([0.3214, 0.7416])"
      ]
     },
     "execution_count": 8,
     "metadata": {},
     "output_type": "execute_result"
    }
   ],
   "source": [
    "C[5]"
   ]
  },
  {
   "cell_type": "markdown",
   "id": "7330b601",
   "metadata": {},
   "source": [
    "Or using a multiplication between a OHE vector and the embedding matrix..."
   ]
  },
  {
   "cell_type": "code",
   "execution_count": 9,
   "id": "4d66d3e2",
   "metadata": {},
   "outputs": [
    {
     "data": {
      "text/plain": [
       "tensor([0.3214, 0.7416])"
      ]
     },
     "execution_count": 9,
     "metadata": {},
     "output_type": "execute_result"
    }
   ],
   "source": [
    "ohe = F.one_hot(torch.tensor(5), 27).float()  # F.one_hot() return int64 dtype tensors\n",
    "ohe @ C"
   ]
  },
  {
   "cell_type": "code",
   "execution_count": 10,
   "id": "0e8937c8",
   "metadata": {},
   "outputs": [
    {
     "data": {
      "text/plain": [
       "torch.Size([32, 3, 2])"
      ]
     },
     "execution_count": 10,
     "metadata": {},
     "output_type": "execute_result"
    }
   ],
   "source": [
    "emb = C[X]\n",
    "emb.shape  # bs, ctx len, emb lengh"
   ]
  },
  {
   "cell_type": "code",
   "execution_count": 11,
   "id": "6827800e",
   "metadata": {},
   "outputs": [],
   "source": [
    "W1 = torch.randn((6, 100))  # (ctx len x emb length), hidden dim\n",
    "b1 = torch.randn(100)"
   ]
  },
  {
   "cell_type": "code",
   "execution_count": 12,
   "id": "33fd57d3",
   "metadata": {},
   "outputs": [],
   "source": [
    "# we would like to perform (emb @ W1) + b1, but the dims don't match\n",
    "# ---------------------------------------------------------------------------\n",
    "# RuntimeError                              Traceback (most recent call last)\n",
    "# Cell In[31], line 1\n",
    "# ----> 1 (emb @ W1) + b1\n",
    "\n",
    "# RuntimeError: mat1 and mat2 shapes cannot be multiplied (96x2 and 6x100)e"
   ]
  },
  {
   "cell_type": "markdown",
   "id": "705a1ca5",
   "metadata": {},
   "source": [
    "To solve this problem, we want to multiply between a matrix of shape `(32, 6)` and one of shape `(6, 100)`. One way to achieve this issue is to use `torch.cat()` and \"manually\" concatenate the embedding representation for each token in the input context."
   ]
  },
  {
   "cell_type": "code",
   "execution_count": 13,
   "id": "fe22ab2c",
   "metadata": {},
   "outputs": [
    {
     "name": "stdout",
     "output_type": "stream",
     "text": [
      "29 µs ± 125 ns per loop (mean ± std. dev. of 7 runs, 10,000 loops each)\n"
     ]
    }
   ],
   "source": [
    "%%timeit\n",
    "(torch.cat((emb[:, 0, :], emb[:, 1, :], emb[:, 2, :]), 1) @ W1) + b1  # we need to concatenate "
   ]
  },
  {
   "cell_type": "markdown",
   "id": "60119d5d",
   "metadata": {},
   "source": [
    "The issue with this approach is that it won't automatically handle increasing/decreasing the context length. \n",
    "\n",
    "Alternatively, we could use `torch unbind()`. This command will return a tuple of all slices along a given dimension, already without it."
   ]
  },
  {
   "cell_type": "code",
   "execution_count": 14,
   "id": "427ac583",
   "metadata": {},
   "outputs": [
    {
     "data": {
      "text/plain": [
       "3"
      ]
     },
     "execution_count": 14,
     "metadata": {},
     "output_type": "execute_result"
    }
   ],
   "source": [
    "a = torch.unbind(emb, 1)\n",
    "len(a)"
   ]
  },
  {
   "cell_type": "code",
   "execution_count": 15,
   "id": "f993bf32",
   "metadata": {},
   "outputs": [
    {
     "name": "stdout",
     "output_type": "stream",
     "text": [
      "17.1 µs ± 98.3 ns per loop (mean ± std. dev. of 7 runs, 100,000 loops each)\n"
     ]
    }
   ],
   "source": [
    "%%timeit \n",
    "(torch.cat(torch.unbind(emb, 1), 1) @ W1) + b1"
   ]
  },
  {
   "cell_type": "markdown",
   "id": "cb787072",
   "metadata": {},
   "source": [
    "One downside of using `torch.cat()` is that we are creating an entirely new tensor in memory."
   ]
  },
  {
   "cell_type": "markdown",
   "id": "c1d1bbb6",
   "metadata": {},
   "source": [
    "An even more efficient way of doing this is to use the `.view()` method. In each tensor, there is an undelying storage, that we can access with `Tensor.storage()`, which contains all of the numbers in a tensor as a 1-dimensional vector. This in how the tensor is represented in memory ― a 1D vector. When we call `.view()`, we are manipulating some attributes (i.e., offset, stride, and shape) of that tensor, that dictate how this 1D sequence is interpreted to be as a N-dimensional tensor. When we use `.view()`, no memory is being moved, copied, or created. The storage stays the same. "
   ]
  },
  {
   "cell_type": "code",
   "execution_count": 16,
   "id": "8e49fce3",
   "metadata": {},
   "outputs": [
    {
     "name": "stdout",
     "output_type": "stream",
     "text": [
      "7.71 µs ± 36.8 ns per loop (mean ± std. dev. of 7 runs, 100,000 loops each)\n"
     ]
    }
   ],
   "source": [
    "%%timeit\n",
    "(emb.view((32, -1)) @ W1) + b1"
   ]
  },
  {
   "cell_type": "markdown",
   "id": "00029582",
   "metadata": {},
   "source": [
    "Another approach, more readable and also performant is to use `.reshape()`. As [this StackOverflow answer](https://stackoverflow.com/a/54507446/2092449) very clearly explains, the difference between `.view()` and `.reshape()` is that the latter might return a new tensor that may be a view of the original tensor, or it may be a new tensor altogether. So, if you just want to reshape tensors, use `.reshape()`. If you're also concerned about memory usage and want to ensure that the two tensors share the same data, use `.view()`."
   ]
  },
  {
   "cell_type": "code",
   "execution_count": 17,
   "id": "4f13e55e",
   "metadata": {},
   "outputs": [
    {
     "name": "stdout",
     "output_type": "stream",
     "text": [
      "7.69 µs ± 70.2 ns per loop (mean ± std. dev. of 7 runs, 100,000 loops each)\n"
     ]
    }
   ],
   "source": [
    "%%timeit\n",
    "(emb.reshape((32, -1)) @ W1) + b1"
   ]
  },
  {
   "cell_type": "markdown",
   "id": "db6706e9",
   "metadata": {},
   "source": [
    "I suggest to use `view()` whenever possible, for performance reasons."
   ]
  },
  {
   "cell_type": "code",
   "execution_count": 18,
   "id": "eed7301f",
   "metadata": {},
   "outputs": [
    {
     "data": {
      "text/plain": [
       "tensor([[ 0.7879,  0.9995,  1.0000,  ...,  0.9998, -1.0000, -0.9939],\n",
       "        [ 0.8132,  0.8769,  0.7999,  ...,  0.9890, -0.9721, -0.8718],\n",
       "        [-0.7958,  0.0539, -0.8250,  ...,  0.9229, -0.5362,  0.9993],\n",
       "        ...,\n",
       "        [ 0.9803, -0.3940, -0.9081,  ..., -0.6458, -0.8879, -0.9986],\n",
       "        [-0.9476,  0.7758, -0.0293,  ...,  0.9680, -0.9001,  0.9998],\n",
       "        [ 0.6691,  0.7267, -0.2923,  ..., -0.9386, -0.9939, -0.9818]])"
      ]
     },
     "execution_count": 18,
     "metadata": {},
     "output_type": "execute_result"
    }
   ],
   "source": [
    "h = torch.tanh(emb.view(emb.shape[0], -1) @ W1 + b1)\n",
    "h"
   ]
  },
  {
   "cell_type": "code",
   "execution_count": 19,
   "id": "b9a47e01",
   "metadata": {},
   "outputs": [
    {
     "data": {
      "text/plain": [
       "torch.Size([32, 100])"
      ]
     },
     "execution_count": 19,
     "metadata": {},
     "output_type": "execute_result"
    }
   ],
   "source": [
    "h.shape"
   ]
  },
  {
   "cell_type": "markdown",
   "id": "57e5e397",
   "metadata": {},
   "source": [
    "One thing to pay attention to, is the addition operation. The resulting matrix generated by multiplying `emb` (reshaped) and `W1` is of size `(32, 100)`, whilst the bias vector has size `(100)`.\n",
    "\n",
    "```\n",
    "32, 100 --> 32, 100\n",
    "    100 -->  1, 100\n",
    "```\n",
    "\n",
    "So the same bias vector will be copied to all the rows of the (`emb.view(emb.shape[0], -1) @ W1`) matrix. Meaning that element `b[0, 0]` will be added to each element of the row `x[0, :]`."
   ]
  },
  {
   "cell_type": "code",
   "execution_count": 20,
   "id": "56eb9f22",
   "metadata": {},
   "outputs": [],
   "source": [
    "W2 = torch.randn((100, 27))\n",
    "b2 = torch.randn((27))"
   ]
  },
  {
   "cell_type": "code",
   "execution_count": 21,
   "id": "dc19930e",
   "metadata": {},
   "outputs": [],
   "source": [
    "logits = h @ W2 + b2"
   ]
  },
  {
   "cell_type": "code",
   "execution_count": 22,
   "id": "243dba4a",
   "metadata": {},
   "outputs": [
    {
     "data": {
      "text/plain": [
       "torch.Size([32, 27])"
      ]
     },
     "execution_count": 22,
     "metadata": {},
     "output_type": "execute_result"
    }
   ],
   "source": [
    "logits.shape"
   ]
  },
  {
   "cell_type": "code",
   "execution_count": 23,
   "id": "bf965506",
   "metadata": {},
   "outputs": [],
   "source": [
    "counts = logits.exp()"
   ]
  },
  {
   "cell_type": "code",
   "execution_count": 24,
   "id": "dd3126e6",
   "metadata": {},
   "outputs": [],
   "source": [
    "probs = counts / counts.sum(1, keepdims=True)"
   ]
  },
  {
   "cell_type": "code",
   "execution_count": 25,
   "id": "25ad66d2",
   "metadata": {},
   "outputs": [
    {
     "data": {
      "text/plain": [
       "torch.Size([32, 27])"
      ]
     },
     "execution_count": 25,
     "metadata": {},
     "output_type": "execute_result"
    }
   ],
   "source": [
    "probs.shape"
   ]
  },
  {
   "cell_type": "code",
   "execution_count": 26,
   "id": "ab3dbb10",
   "metadata": {},
   "outputs": [
    {
     "data": {
      "text/plain": [
       "tensor(1.)"
      ]
     },
     "execution_count": 26,
     "metadata": {},
     "output_type": "execute_result"
    }
   ],
   "source": [
    "# sanity check, rows should sum to 1\n",
    "probs[0].sum()"
   ]
  },
  {
   "cell_type": "code",
   "execution_count": 27,
   "id": "3cd09ab4",
   "metadata": {},
   "outputs": [
    {
     "data": {
      "text/plain": [
       "tensor(11.5661)"
      ]
     },
     "execution_count": 27,
     "metadata": {},
     "output_type": "execute_result"
    }
   ],
   "source": [
    "loss = -probs[torch.arange(32), Y].log().mean()  # average neg log likelihood\n",
    "loss"
   ]
  },
  {
   "cell_type": "markdown",
   "id": "ae1770e1",
   "metadata": {},
   "source": [
    "Let's rewrite all of the above in a more reusable way, and train the MLP model"
   ]
  },
  {
   "cell_type": "code",
   "execution_count": 28,
   "id": "fb1e30f9",
   "metadata": {},
   "outputs": [],
   "source": [
    "block_size = (\n",
    "    3  # context length: how many characters do we take to predict the next one?\n",
    ")\n",
    "X, Y = [], []\n",
    "for w in words:\n",
    "    context = [0] * block_size\n",
    "    for ch in w + \".\":\n",
    "        ix = s2i[ch]\n",
    "        X.append(context)\n",
    "        Y.append(ix)\n",
    "        context = context[1:] + [ix]  # crop and append\n",
    "\n",
    "X = torch.tensor(X)\n",
    "Y = torch.tensor(Y)"
   ]
  },
  {
   "cell_type": "code",
   "execution_count": 29,
   "id": "ff636346",
   "metadata": {},
   "outputs": [
    {
     "data": {
      "text/plain": [
       "(torch.Size([228146, 3]), torch.Size([228146]))"
      ]
     },
     "execution_count": 29,
     "metadata": {},
     "output_type": "execute_result"
    }
   ],
   "source": [
    "X.shape, Y.shape"
   ]
  },
  {
   "cell_type": "code",
   "execution_count": 30,
   "id": "b45476ca",
   "metadata": {},
   "outputs": [],
   "source": [
    "g = torch.Generator().manual_seed(2147483647)\n",
    "C = torch.randn((27, 2), generator=g).requires_grad_()\n",
    "W1 = torch.randn((6, 100), generator=g).requires_grad_()\n",
    "b1 = torch.randn((100), generator=g).requires_grad_()\n",
    "W2 = torch.randn((100, 27), generator=g).requires_grad_()\n",
    "b2 = torch.randn((27), generator=g).requires_grad_()\n",
    "parameters = [C, W1, b1, W2, b2]"
   ]
  },
  {
   "cell_type": "code",
   "execution_count": 31,
   "id": "c634b6af",
   "metadata": {},
   "outputs": [
    {
     "data": {
      "text/plain": [
       "3481"
      ]
     },
     "execution_count": 31,
     "metadata": {},
     "output_type": "execute_result"
    }
   ],
   "source": [
    "sum(p.nelement() for p in parameters)"
   ]
  },
  {
   "cell_type": "code",
   "execution_count": 32,
   "id": "c1cb27cb",
   "metadata": {},
   "outputs": [
    {
     "name": "stdout",
     "output_type": "stream",
     "text": [
      "epoch 0: 16.95440101623535\n",
      "epoch 50: 5.307323455810547\n",
      "epoch 100: 3.8642489910125732\n",
      "epoch 150: 3.7624990940093994\n",
      "epoch 200: 3.6555802822113037\n",
      "epoch 250: 3.177612781524658\n",
      "epoch 300: 2.781998872756958\n",
      "epoch 350: 3.154618740081787\n",
      "epoch 400: 3.1591622829437256\n",
      "epoch 450: 2.992241859436035\n",
      "epoch 500: 2.8389673233032227\n",
      "epoch 550: 2.394284963607788\n",
      "epoch 600: 2.0478570461273193\n",
      "epoch 650: 3.046037197113037\n",
      "epoch 700: 2.8940694332122803\n",
      "epoch 750: 2.655653953552246\n",
      "epoch 800: 2.7728943824768066\n",
      "epoch 850: 2.4803926944732666\n",
      "epoch 900: 2.9597811698913574\n",
      "epoch 950: 3.102785587310791\n",
      "epoch 1000: 2.4645280838012695\n"
     ]
    }
   ],
   "source": [
    "bs = 32\n",
    "\n",
    "for epoch in range(1001):\n",
    "    # minibatch\n",
    "    ix = torch.randint(0, X.shape[0], (bs,))\n",
    "    xs = X[ix]\n",
    "    ys = Y[ix]\n",
    "\n",
    "    # forward pass\n",
    "    emb = C[xs]  # (32, 3, 2)\n",
    "    h = torch.tanh(\n",
    "        emb.view((-1, 6)) @ W1 + b1\n",
    "    )  # (32, 100)... also tanh is important to not get inf loss!\n",
    "    logits = h @ W2 + b2  # (32, 27)\n",
    "    loss = F.cross_entropy(logits, ys)\n",
    "\n",
    "    if epoch % 50 == 0:\n",
    "        print(f\"epoch {epoch}: {loss.item()}\")\n",
    "\n",
    "    # backward pass\n",
    "    for p in parameters:\n",
    "        p.grad = None\n",
    "    loss.backward()\n",
    "\n",
    "    # update\n",
    "    for p in parameters:\n",
    "        p.data -= 0.1 * p.grad"
   ]
  },
  {
   "cell_type": "code",
   "execution_count": 33,
   "id": "7c2650b7",
   "metadata": {},
   "outputs": [
    {
     "data": {
      "text/plain": [
       "torch.return_types.max(\n",
       "values=tensor([3.8991, 3.0654, 2.7789, 2.2662, 3.5375, 2.6529, 2.3019, 2.9262, 2.3590,\n",
       "        2.6526, 3.2358, 2.5021, 2.7789, 4.5728, 2.7789, 4.5486, 2.3283, 2.7688,\n",
       "        4.8154, 1.9772, 2.7830, 1.8930, 1.8393, 4.2401, 2.4845, 3.5620, 1.9488,\n",
       "        4.4645, 2.3582, 1.8850, 2.7101, 2.7906], grad_fn=<MaxBackward0>),\n",
       "indices=tensor([ 0,  0,  1, 14,  0,  0,  0,  0,  0,  1,  0,  9,  1,  9,  1,  0,  0,  0,\n",
       "         1,  0,  0, 14,  0,  1, 14,  9,  0,  1,  0,  0,  9, 14]))"
      ]
     },
     "execution_count": 33,
     "metadata": {},
     "output_type": "execute_result"
    }
   ],
   "source": [
    "logits.max(1)"
   ]
  },
  {
   "cell_type": "code",
   "execution_count": null,
   "id": "a2b3febc",
   "metadata": {},
   "outputs": [],
   "source": []
  }
 ],
 "metadata": {
  "kernelspec": {
   "display_name": "Python 3 (ipykernel)",
   "language": "python",
   "name": "python3"
  },
  "language_info": {
   "codemirror_mode": {
    "name": "ipython",
    "version": 3
   },
   "file_extension": ".py",
   "mimetype": "text/x-python",
   "name": "python",
   "nbconvert_exporter": "python",
   "pygments_lexer": "ipython3",
   "version": "3.10.12"
  }
 },
 "nbformat": 4,
 "nbformat_minor": 5
}
