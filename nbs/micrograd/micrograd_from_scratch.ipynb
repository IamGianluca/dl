{
 "cells": [
  {
   "cell_type": "code",
   "execution_count": null,
   "id": "4158b9d0",
   "metadata": {},
   "outputs": [],
   "source": [
    "class Value:\n",
    "    def __init__(self, data: float, _op: str = \"\", _grad: float = 0.0, label=\"\"): \n",
    "        self.data = data\n",
    "        self._op = _op\n",
    "        self.grad = _grad\n",
    "        self.label = label\n",
    "    def __add__(self, other):\n",
    "        return Value(self.data + other.data, _op=\"+\")\n",
    "    def __mul__(self, other):\n",
    "        return Value(self.data * other.data, _op=\"*\")\n",
    "    def __repr__(self): \n",
    "        return f\"Value(data={self.data})\""
   ]
  },
  {
   "cell_type": "code",
   "execution_count": 2,
   "id": "31453208",
   "metadata": {},
   "outputs": [
    {
     "data": {
      "text/plain": [
       "Value(data=-5)"
      ]
     },
     "execution_count": 2,
     "metadata": {},
     "output_type": "execute_result"
    }
   ],
   "source": [
    "a = Value(-5)\n",
    "a"
   ]
  },
  {
   "cell_type": "code",
   "execution_count": 3,
   "id": "677bfedf",
   "metadata": {},
   "outputs": [
    {
     "data": {
      "text/plain": [
       "Value(data=1)"
      ]
     },
     "execution_count": 3,
     "metadata": {},
     "output_type": "execute_result"
    }
   ],
   "source": [
    "b = Value(1)\n",
    "b"
   ]
  },
  {
   "cell_type": "code",
   "execution_count": 4,
   "id": "632765da",
   "metadata": {},
   "outputs": [
    {
     "data": {
      "text/plain": [
       "Value(data=-4)"
      ]
     },
     "execution_count": 4,
     "metadata": {},
     "output_type": "execute_result"
    }
   ],
   "source": [
    "a + b"
   ]
  },
  {
   "cell_type": "code",
   "execution_count": 5,
   "id": "5bdfe7e8",
   "metadata": {},
   "outputs": [
    {
     "data": {
      "text/plain": [
       "Value(data=-5)"
      ]
     },
     "execution_count": 5,
     "metadata": {},
     "output_type": "execute_result"
    }
   ],
   "source": [
    "a * b"
   ]
  },
  {
   "cell_type": "code",
   "execution_count": 6,
   "id": "b72f9307",
   "metadata": {},
   "outputs": [],
   "source": [
    "def forward(a: Value, b: Value, c: Value, f: Value) -> Value:\n",
    "    e = a * b\n",
    "    e.label = \"e\"\n",
    "    d = c + e\n",
    "    d.label = \"d\"\n",
    "    L = d * f\n",
    "    L.label = \"L\"\n",
    "    return L, (a, b, c, d, e, f)"
   ]
  },
  {
   "cell_type": "code",
   "execution_count": 7,
   "id": "0d93e97c",
   "metadata": {},
   "outputs": [
    {
     "data": {
      "text/plain": [
       "Value(data=-8)"
      ]
     },
     "execution_count": 7,
     "metadata": {},
     "output_type": "execute_result"
    }
   ],
   "source": [
    "a, b, c, f = Value(2, label=\"a\"), Value(-3, label=\"b\"), Value(10, label=\"c\"), Value(-2, label=\"f\")\n",
    "\n",
    "L, (a, b, c, d, e, f) = forward(a, b, c, f)\n",
    "L"
   ]
  },
  {
   "cell_type": "code",
   "execution_count": 8,
   "id": "aed7a168",
   "metadata": {},
   "outputs": [
    {
     "data": {
      "text/plain": [
       "('*', 0.0)"
      ]
     },
     "execution_count": 8,
     "metadata": {},
     "output_type": "execute_result"
    }
   ],
   "source": [
    "L._op, L.grad"
   ]
  },
  {
   "cell_type": "code",
   "execution_count": 9,
   "id": "2cdcd791",
   "metadata": {},
   "outputs": [],
   "source": [
    "def backward(): \n",
    "    # use the chain rule!\n",
    "    L.grad = 1                    # dL/dL = (L + h) - L / h = h / h = 1 \n",
    "    d.grad = f.data               # dL/dd = ((d * h) * f - df ) / h = ()\n",
    "    f.grad = d.data               # dL/df = ((f * h) * d - df ) / h\n",
    "    c.grad = d.grad * 1           # dL/dc = dL/dd * dd/dc = dL/dd * ((c + h) + e) - c - e) / h\n",
    "    e.grad = d.grad * 1           # dL/de = dL/dd * dd/de\n",
    "    a.grad = d.grad * 1 * b.data  # dL/da = dL/dd * dd/de * de/da\n",
    "    b.grad = d.grad * 1 * a.data  # dL/db = dL/dd * dd/de * de/db"
   ]
  },
  {
   "cell_type": "code",
   "execution_count": 10,
   "id": "b23314cd",
   "metadata": {},
   "outputs": [],
   "source": [
    "backward()"
   ]
  },
  {
   "cell_type": "code",
   "execution_count": 11,
   "id": "9b5eedb2",
   "metadata": {},
   "outputs": [
    {
     "name": "stdout",
     "output_type": "stream",
     "text": [
      "a.grad = 6\n",
      "b.grad = -4\n",
      "c.grad = -2\n",
      "d.grad = -2\n",
      "e.grad = -2\n",
      "f.grad = 4\n",
      "L.grad = 0.0\n"
     ]
    }
   ],
   "source": [
    "for i in (a, b, c, d, e, f, L):\n",
    "    print(f\"{i.label}.grad = {i.grad}\")"
   ]
  },
  {
   "cell_type": "code",
   "execution_count": null,
   "id": "b7ffe3fc",
   "metadata": {},
   "outputs": [],
   "source": []
  }
 ],
 "metadata": {
  "kernelspec": {
   "display_name": "Python 3 (ipykernel)",
   "language": "python",
   "name": "python3"
  },
  "language_info": {
   "codemirror_mode": {
    "name": "ipython",
    "version": 3
   },
   "file_extension": ".py",
   "mimetype": "text/x-python",
   "name": "python",
   "nbconvert_exporter": "python",
   "pygments_lexer": "ipython3",
   "version": "3.10.12"
  }
 },
 "nbformat": 4,
 "nbformat_minor": 5
}
