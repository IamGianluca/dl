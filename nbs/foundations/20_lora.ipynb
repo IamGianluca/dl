{
 "cells": [
  {
   "cell_type": "markdown",
   "id": "bcb01118",
   "metadata": {},
   "source": [
    "## Low-Rank Adaptation (LoRA) \n",
    "\n",
    "* Reference paper: [LoRA: Low-Rank Adaptation of Large Language Models](https://arxiv.org/abs/2106.09685)\n"
   ]
  },
  {
   "cell_type": "code",
   "execution_count": 1,
   "id": "ab05ac1b",
   "metadata": {},
   "outputs": [],
   "source": [
    "import torch "
   ]
  },
  {
   "cell_type": "markdown",
   "id": "089ceb7d",
   "metadata": {},
   "source": [
    "The two main ideas behind LoRA are:\n",
    "1. We can decompose the updated weight matrix as $W^{\\prime} = W_{0} + W_{\\Delta}$,\n",
    "1. $W_{\\Delta}$ can further be decomposed as the multiplication of two Low-Rank matrices, $W_{\\Delta} = W_{A} \\times W_{B}$."
   ]
  },
  {
   "cell_type": "markdown",
   "id": "c9d4c40b",
   "metadata": {},
   "source": [
    "Putting the two concepts together, we can freeze the original model, and add small learnable Low-Rank Adapters (LoRA) to finetune a LLM. This is a critical *discovery* because it enables fineturing LLMs on devices with limited amount of VRAM. "
   ]
  },
  {
   "cell_type": "markdown",
   "id": "75e302e5",
   "metadata": {},
   "source": [
    "To ensure we understand how LoRA works, let's implement it with a small example."
   ]
  },
  {
   "cell_type": "code",
   "execution_count": 2,
   "id": "8f4c082e",
   "metadata": {},
   "outputs": [],
   "source": [
    "w_0 = torch.randn(4, 4)\n",
    "m, n = w_0.shape\n",
    "r = 2"
   ]
  },
  {
   "cell_type": "code",
   "execution_count": 3,
   "id": "5d5308f2",
   "metadata": {},
   "outputs": [],
   "source": [
    "w_a, w_b = torch.randn(m, r), torch.zeros(r, n)"
   ]
  },
  {
   "cell_type": "code",
   "execution_count": 4,
   "id": "1b9fc706",
   "metadata": {},
   "outputs": [],
   "source": [
    "w_prime = w_0 + w_a @ w_b"
   ]
  },
  {
   "cell_type": "code",
   "execution_count": 5,
   "id": "6c061f2c",
   "metadata": {},
   "outputs": [
    {
     "data": {
      "text/plain": [
       "tensor([[True, True, True, True],\n",
       "        [True, True, True, True],\n",
       "        [True, True, True, True],\n",
       "        [True, True, True, True]])"
      ]
     },
     "execution_count": 5,
     "metadata": {},
     "output_type": "execute_result"
    }
   ],
   "source": [
    "torch.isclose(w_0, w_prime)"
   ]
  },
  {
   "cell_type": "markdown",
   "id": "f226374f",
   "metadata": {},
   "source": [
    "## Scaling up \n",
    "\n",
    "We understood the main ideas behind LoRA. Now let's apply them to a more complex example. We are going to use a small-ish LLM (`microsoft/Phi-3-mini-4k-instruct`), and run a couple of tests. "
   ]
  }
 ],
 "metadata": {
  "kernelspec": {
   "display_name": "Python 3 (ipykernel)",
   "language": "python",
   "name": "python3"
  },
  "language_info": {
   "codemirror_mode": {
    "name": "ipython",
    "version": 3
   },
   "file_extension": ".py",
   "mimetype": "text/x-python",
   "name": "python",
   "nbconvert_exporter": "python",
   "pygments_lexer": "ipython3",
   "version": "3.10.12"
  }
 },
 "nbformat": 4,
 "nbformat_minor": 5
}
