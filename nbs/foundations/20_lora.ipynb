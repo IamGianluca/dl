{
 "cells": [
  {
   "cell_type": "markdown",
   "id": "572e6550",
   "metadata": {},
   "source": [
    "## Low-Rank Adaptation (LoRA) \n",
    "\n",
    "* Reference paper: [LoRA: Low-Rank Adaptation of Large Language Models](https://arxiv.org/abs/2106.09685)\n"
   ]
  },
  {
   "cell_type": "code",
   "execution_count": 1,
   "id": "2ba8819a",
   "metadata": {},
   "outputs": [],
   "source": [
    "import torch "
   ]
  },
  {
   "cell_type": "markdown",
   "id": "932b18b9",
   "metadata": {},
   "source": [
    "The two main ideas behind LoRA are:\n",
    "1. We can decompose the updated weight matrix as $W^{\\prime} = W_{0} + W_{\\Delta}$,\n",
    "1. $W_{\\Delta}$ can further be decomposed as the multiplication of two Low-Rank matrices, $W_{\\Delta} = W_{A} \\times W_{B}$."
   ]
  },
  {
   "cell_type": "markdown",
   "id": "29f1c10a",
   "metadata": {},
   "source": [
    "Putting the two concepts together, we can freeze the original model, and add small learnable Low-Rank Adapters (LoRA) to finetune a LLM. This is a critical *discovery* because it enables fineturing LLMs on devices with limited amount of VRAM. "
   ]
  },
  {
   "cell_type": "markdown",
   "id": "452999a7",
   "metadata": {},
   "source": [
    "To ensure we understand how LoRA works, let's implement it with a small example.\n",
    "\n",
    "Let's first create a weight matrix, $W_0$, that represents the original array of learned weights after training. "
   ]
  },
  {
   "cell_type": "code",
   "execution_count": 2,
   "id": "7c0dbf2d",
   "metadata": {},
   "outputs": [],
   "source": [
    "w_0 = torch.randn(4, 4)\n",
    "m, n = w_0.shape"
   ]
  },
  {
   "cell_type": "markdown",
   "id": "3c45d31f",
   "metadata": {},
   "source": [
    "Now, let's create two low rank matrices, that multiplied, have the same dimension of the original weight matrix. We are going to chose an arbitrary rank, $r$, of $2$. Notice how we are initializing $W_{A}$ and $W_{B}$ respectively with a normal gaussian and with all zeros. This is intentional, so that the first forward pass would return the same exact output of the original model."
   ]
  },
  {
   "cell_type": "code",
   "execution_count": 4,
   "id": "d3f21baf",
   "metadata": {},
   "outputs": [],
   "source": [
    "r = 2\n",
    "w_a, w_b = torch.randn(m, r), torch.zeros(r, n)\n",
    "w_prime = w_0 + w_a @ w_b"
   ]
  },
  {
   "cell_type": "markdown",
   "id": "5756909e",
   "metadata": {},
   "source": [
    "Let's verify that."
   ]
  },
  {
   "cell_type": "code",
   "execution_count": 8,
   "id": "1a53a333",
   "metadata": {},
   "outputs": [
    {
     "data": {
      "text/plain": [
       "tensor([[True, True, True, True],\n",
       "        [True, True, True, True],\n",
       "        [True, True, True, True],\n",
       "        [True, True, True, True]])"
      ]
     },
     "execution_count": 8,
     "metadata": {},
     "output_type": "execute_result"
    }
   ],
   "source": [
    "torch.isclose(w_0, w_prime)"
   ]
  }
 ],
 "metadata": {
  "kernelspec": {
   "display_name": "Python 3 (ipykernel)",
   "language": "python",
   "name": "python3"
  },
  "language_info": {
   "codemirror_mode": {
    "name": "ipython",
    "version": 3
   },
   "file_extension": ".py",
   "mimetype": "text/x-python",
   "name": "python",
   "nbconvert_exporter": "python",
   "pygments_lexer": "ipython3",
   "version": "3.10.12"
  }
 },
 "nbformat": 4,
 "nbformat_minor": 5
}
