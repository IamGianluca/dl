{
 "cells": [
  {
   "cell_type": "code",
   "execution_count": null,
   "id": "13e46918",
   "metadata": {},
   "outputs": [],
   "source": [
    "%reload_ext autoreload\n",
    "%autoreload 2"
   ]
  },
  {
   "cell_type": "code",
   "execution_count": null,
   "id": "9b1ce573",
   "metadata": {},
   "outputs": [],
   "source": [
    "import os"
   ]
  },
  {
   "cell_type": "code",
   "execution_count": 3,
   "id": "97611c7a",
   "metadata": {},
   "outputs": [],
   "source": [
    "import torch\n",
    "from torchvision import transforms\n",
    "from torchvision.datasets import MNIST"
   ]
  },
  {
   "cell_type": "code",
   "execution_count": 4,
   "id": "20f6e4ca",
   "metadata": {},
   "outputs": [
    {
     "data": {
      "text/plain": [
       "Dataset MNIST\n",
       "    Number of datapoints: 60000\n",
       "    Root location: /workspace/data/\n",
       "    Split: Train\n",
       "    StandardTransform\n",
       "Transform: ToTensor()"
      ]
     },
     "execution_count": 4,
     "metadata": {},
     "output_type": "execute_result"
    }
   ],
   "source": [
    "dataset = MNIST(\"/workspace/data/\", download=True, transform=transforms.ToTensor())\n",
    "dataset"
   ]
  },
  {
   "cell_type": "code",
   "execution_count": 5,
   "id": "ac98a763",
   "metadata": {},
   "outputs": [
    {
     "data": {
      "text/plain": [
       "torch.Size([60000, 28, 28])"
      ]
     },
     "execution_count": 5,
     "metadata": {},
     "output_type": "execute_result"
    }
   ],
   "source": [
    "dataset.data.shape"
   ]
  },
  {
   "cell_type": "code",
   "execution_count": 6,
   "id": "988edbe7",
   "metadata": {},
   "outputs": [],
   "source": [
    "n_train = 50_000\n",
    "n_valid = dataset.data.shape[0] - n_train\n",
    "x_train, y_train = (\n",
    "    dataset.data[:n_train, :, :].view(n_train, -1) / 255,\n",
    "    dataset.targets[:n_train],\n",
    ")\n",
    "x_valid, y_valid = (\n",
    "    dataset.data[n_train:, :, :].view(n_valid, -1) / 255,\n",
    "    dataset.targets[n_train:],\n",
    ")"
   ]
  },
  {
   "cell_type": "code",
   "execution_count": 7,
   "id": "b3853b69",
   "metadata": {},
   "outputs": [],
   "source": [
    "weights = torch.randn(784, 10)\n",
    "biases = torch.zeros(10)"
   ]
  },
  {
   "cell_type": "code",
   "execution_count": 8,
   "id": "bd223f39",
   "metadata": {},
   "outputs": [],
   "source": [
    "def matmul(a: torch.tensor, b: torch.tensor) -> torch.Tensor:\n",
    "    ar, ac = a.shape\n",
    "    br, bc = b.shape\n",
    "    assert ac == br\n",
    "\n",
    "    c = torch.zeros(ar, bc)\n",
    "    for i in range(ar):\n",
    "        for j in range(bc):\n",
    "            for k in range(ac):\n",
    "                c[i, j] += a[i, k] * b[k, j]\n",
    "    return c"
   ]
  },
  {
   "cell_type": "markdown",
   "id": "4b2d547e",
   "metadata": {},
   "source": [
    "Let's benchmark it against the PyTorch version. "
   ]
  },
  {
   "cell_type": "code",
   "execution_count": 9,
   "id": "618c2d5d",
   "metadata": {},
   "outputs": [],
   "source": [
    "m1 = x_valid[:5]\n",
    "m2 = weights"
   ]
  },
  {
   "cell_type": "code",
   "execution_count": 10,
   "id": "4f8cbf62",
   "metadata": {},
   "outputs": [
    {
     "data": {
      "text/plain": [
       "(torch.Size([5, 784]), torch.Size([784, 10]))"
      ]
     },
     "execution_count": 10,
     "metadata": {},
     "output_type": "execute_result"
    }
   ],
   "source": [
    "m1.shape, m2.shape"
   ]
  },
  {
   "cell_type": "code",
   "execution_count": 11,
   "id": "3b84c13d",
   "metadata": {},
   "outputs": [
    {
     "name": "stdout",
     "output_type": "stream",
     "text": [
      "CPU times: user 546 ms, sys: 447 µs, total: 546 ms\n",
      "Wall time: 546 ms\n"
     ]
    }
   ],
   "source": [
    "%time t1 = matmul(m1, m2)"
   ]
  },
  {
   "cell_type": "code",
   "execution_count": 12,
   "id": "8759121a",
   "metadata": {},
   "outputs": [
    {
     "name": "stdout",
     "output_type": "stream",
     "text": [
      "CPU times: user 1.93 ms, sys: 0 ns, total: 1.93 ms\n",
      "Wall time: 1.72 ms\n"
     ]
    }
   ],
   "source": [
    "%time t2 = torch.matmul(m1, m2)"
   ]
  },
  {
   "cell_type": "code",
   "execution_count": 13,
   "id": "3891de9d",
   "metadata": {},
   "outputs": [],
   "source": [
    "def test_near(a: torch.tensor, b: torch.tensor):\n",
    "    return torch.allclose(a, b, rtol=1e-3, atol=1e-5)"
   ]
  },
  {
   "cell_type": "code",
   "execution_count": 14,
   "id": "85a9235b",
   "metadata": {},
   "outputs": [
    {
     "data": {
      "text/plain": [
       "True"
      ]
     },
     "execution_count": 14,
     "metadata": {},
     "output_type": "execute_result"
    }
   ],
   "source": [
    "test_near(t1, t2)"
   ]
  },
  {
   "cell_type": "markdown",
   "id": "92b29096",
   "metadata": {},
   "source": [
    "The output is the same, but our version is significantly slower."
   ]
  },
  {
   "cell_type": "markdown",
   "id": "e2964e07",
   "metadata": {},
   "source": [
    "## Vectorization"
   ]
  },
  {
   "cell_type": "code",
   "execution_count": 15,
   "id": "a80b63c7",
   "metadata": {},
   "outputs": [],
   "source": [
    "def matmul_fast(a: torch.Tensor, b: torch.Tensor) -> torch.Tensor:\n",
    "    ar, ac = a.shape\n",
    "    br, bc = b.shape\n",
    "    assert ac == br\n",
    "\n",
    "    c = torch.zeros(ar, bc)\n",
    "    for i in range(ar):\n",
    "        for j in range(bc):\n",
    "            c[i, j] = (a[i, :] * b[:, j]).sum()\n",
    "    return c"
   ]
  },
  {
   "cell_type": "code",
   "execution_count": 16,
   "id": "4f2776b3",
   "metadata": {},
   "outputs": [
    {
     "name": "stdout",
     "output_type": "stream",
     "text": [
      "CPU times: user 1.4 ms, sys: 0 ns, total: 1.4 ms\n",
      "Wall time: 1.18 ms\n"
     ]
    }
   ],
   "source": [
    "%time t3 = matmul_fast(m1, m2)"
   ]
  },
  {
   "cell_type": "code",
   "execution_count": 17,
   "id": "d51b70cb",
   "metadata": {},
   "outputs": [
    {
     "data": {
      "text/plain": [
       "True"
      ]
     },
     "execution_count": 17,
     "metadata": {},
     "output_type": "execute_result"
    }
   ],
   "source": [
    "test_near(t3, t2)"
   ]
  },
  {
   "cell_type": "markdown",
   "id": "f6ce2b28",
   "metadata": {},
   "source": [
    "By converting the outer loop to a vectorized operation, we halved the wall time. The gain would be larger with matrices of higher rank."
   ]
  },
  {
   "cell_type": "markdown",
   "id": "ec74a2b6",
   "metadata": {},
   "source": [
    "## Broadcasting\n",
    "\n",
    "But we can do better than that, and remove one more loop."
   ]
  },
  {
   "cell_type": "code",
   "execution_count": 18,
   "id": "5d2daba2",
   "metadata": {},
   "outputs": [],
   "source": [
    "def matmul_faster(a: torch.Tensor, b: torch.Tensor) -> torch.Tensor:\n",
    "    ar, ac = a.shape\n",
    "    br, bc = b.shape\n",
    "    assert ac == br\n",
    "\n",
    "    c = torch.zeros(ar, bc)\n",
    "    for i in range(ar):\n",
    "        c[i, :] = (a[i, :].unsqueeze(-1) * b).sum(dim=0)\n",
    "    return c"
   ]
  },
  {
   "cell_type": "code",
   "execution_count": 19,
   "id": "c4e3adbe",
   "metadata": {},
   "outputs": [
    {
     "name": "stdout",
     "output_type": "stream",
     "text": [
      "CPU times: user 330 µs, sys: 127 µs, total: 457 µs\n",
      "Wall time: 304 µs\n"
     ]
    }
   ],
   "source": [
    "%time t4 = matmul_faster(m1, m2)"
   ]
  },
  {
   "cell_type": "code",
   "execution_count": 20,
   "id": "9c67a872",
   "metadata": {},
   "outputs": [
    {
     "data": {
      "text/plain": [
       "True"
      ]
     },
     "execution_count": 20,
     "metadata": {},
     "output_type": "execute_result"
    }
   ],
   "source": [
    "test_near(t4, t2)"
   ]
  },
  {
   "cell_type": "markdown",
   "id": "51e3c567",
   "metadata": {},
   "source": [
    "## Einstein Summation\n",
    "\n",
    "Let's see if we can improve on this, and maybe even beat the PyTorch implementation."
   ]
  },
  {
   "cell_type": "code",
   "execution_count": 21,
   "id": "232872b4",
   "metadata": {},
   "outputs": [],
   "source": [
    "def matmul_fastest(a: torch.Tensor, b: torch.Tensor) -> torch.Tensor:\n",
    "    return torch.einsum(\"ik,kj->ij\", a, b)"
   ]
  },
  {
   "cell_type": "code",
   "execution_count": 22,
   "id": "2489df7f",
   "metadata": {},
   "outputs": [
    {
     "name": "stdout",
     "output_type": "stream",
     "text": [
      "CPU times: user 533 µs, sys: 208 µs, total: 741 µs\n",
      "Wall time: 571 µs\n"
     ]
    }
   ],
   "source": [
    "%time t5 = matmul_fastest(m1, m2)"
   ]
  },
  {
   "cell_type": "code",
   "execution_count": 23,
   "id": "d38f5fef",
   "metadata": {},
   "outputs": [
    {
     "data": {
      "text/plain": [
       "True"
      ]
     },
     "execution_count": 23,
     "metadata": {},
     "output_type": "execute_result"
    }
   ],
   "source": [
    "test_near(t5, t2)"
   ]
  },
  {
   "cell_type": "markdown",
   "id": "94ed32fd",
   "metadata": {},
   "source": [
    "The `torch.einsum` version is almost as fast as `torch.matmul`. That's pretty remarkable."
   ]
  }
 ],
 "metadata": {
  "kernelspec": {
   "display_name": "Python 3 (ipykernel)",
   "language": "python",
   "name": "python3"
  },
  "language_info": {
   "codemirror_mode": {
    "name": "ipython",
    "version": 3
   },
   "file_extension": ".py",
   "mimetype": "text/x-python",
   "name": "python",
   "nbconvert_exporter": "python",
   "pygments_lexer": "ipython3",
   "version": "3.10.12"
  }
 },
 "nbformat": 4,
 "nbformat_minor": 5
}
